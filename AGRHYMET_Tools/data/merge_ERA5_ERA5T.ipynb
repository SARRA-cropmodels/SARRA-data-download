{
 "cells": [
  {
   "cell_type": "code",
   "execution_count": 1,
   "metadata": {},
   "outputs": [],
   "source": [
    "import xarray as xr"
   ]
  },
  {
   "cell_type": "code",
   "execution_count": 11,
   "metadata": {},
   "outputs": [],
   "source": [
    "file     = 'ERA5_201911_accmnmx_ERA5-ERA5T.nc'\n",
    "file_out = 'ERA5_201911_accmnmx_merged.nc'\n",
    "parnames = ['mx2t', 'mn2t', 'ssrd', 'tp']"
   ]
  },
  {
   "cell_type": "code",
   "execution_count": 3,
   "metadata": {},
   "outputs": [
    {
     "data": {
      "text/plain": [
       "<xarray.Dataset>\n",
       "Dimensions:    (latitude: 721, longitude: 1440, time: 720)\n",
       "Coordinates:\n",
       "  * longitude  (longitude) float32 0.0 0.25 0.5 0.75 ... 359.25 359.5 359.75\n",
       "  * latitude   (latitude) float32 90.0 89.75 89.5 89.25 ... -89.5 -89.75 -90.0\n",
       "  * time       (time) datetime64[ns] 2019-11-01 ... 2019-11-30T23:00:00\n",
       "Data variables:\n",
       "    mx2t_0001  (time, latitude, longitude) float32 ...\n",
       "    mn2t_0001  (time, latitude, longitude) float32 ...\n",
       "    ssrd_0001  (time, latitude, longitude) float32 ...\n",
       "    tp_0001    (time, latitude, longitude) float32 ...\n",
       "    mx2t_0005  (time, latitude, longitude) float32 ...\n",
       "    mn2t_0005  (time, latitude, longitude) float32 ...\n",
       "    ssrd_0005  (time, latitude, longitude) float32 ...\n",
       "    tp_0005    (time, latitude, longitude) float32 ...\n",
       "Attributes:\n",
       "    Conventions:  CF-1.6\n",
       "    history:      2019-12-14 01:58:12 GMT by grib_to_netcdf-2.14.0: /opt/ecmw..."
      ]
     },
     "execution_count": 3,
     "metadata": {},
     "output_type": "execute_result"
    }
   ],
   "source": [
    "ds = xr.open_dataset(file)\n",
    "ds"
   ]
  },
  {
   "cell_type": "code",
   "execution_count": 6,
   "metadata": {},
   "outputs": [
    {
     "name": "stdout",
     "output_type": "stream",
     "text": [
      "mx2t\n",
      "mn2t\n",
      "ssrd\n",
      "tp\n"
     ]
    }
   ],
   "source": [
    "ds_merged = []\n",
    "for parname in parnames:\n",
    "    print(parname)\n",
    "    parname_era5 = parname + '_0001'\n",
    "    parname_era5t = parname + '_0005'\n",
    "    \n",
    "#     da_par_era5 = ds[parname_era5].dropna(dim='time')\n",
    "#     da_par_era5t = ds[parname_era5t].dropna(dim='time')\n",
    "    \n",
    "    da_par = xr.concat([ds[parname_era5].dropna(dim='time'),\n",
    "                        ds[parname_era5t].dropna(dim='time')], \n",
    "                       dim='time')\n",
    "    da_par.name = parname\n",
    "    \n",
    "    ds_merged.append(da_par)"
   ]
  },
  {
   "cell_type": "code",
   "execution_count": 12,
   "metadata": {},
   "outputs": [],
   "source": [
    "xr.merge(ds_merged).to_netcdf(file_out)"
   ]
  },
  {
   "cell_type": "code",
   "execution_count": null,
   "metadata": {},
   "outputs": [],
   "source": []
  },
  {
   "cell_type": "code",
   "execution_count": null,
   "metadata": {},
   "outputs": [],
   "source": []
  },
  {
   "cell_type": "code",
   "execution_count": null,
   "metadata": {},
   "outputs": [],
   "source": []
  },
  {
   "cell_type": "code",
   "execution_count": null,
   "metadata": {},
   "outputs": [],
   "source": []
  },
  {
   "cell_type": "code",
   "execution_count": null,
   "metadata": {},
   "outputs": [],
   "source": []
  },
  {
   "cell_type": "code",
   "execution_count": null,
   "metadata": {},
   "outputs": [],
   "source": []
  }
 ],
 "metadata": {
  "hide_input": false,
  "kernelspec": {
   "display_name": "Python 3",
   "language": "python",
   "name": "python3"
  },
  "language_info": {
   "codemirror_mode": {
    "name": "ipython",
    "version": 3
   },
   "file_extension": ".py",
   "mimetype": "text/x-python",
   "name": "python",
   "nbconvert_exporter": "python",
   "pygments_lexer": "ipython3",
   "version": "3.7.3"
  },
  "toc": {
   "base_numbering": 1,
   "nav_menu": {},
   "number_sections": true,
   "sideBar": true,
   "skip_h1_title": false,
   "title_cell": "Table of Contents",
   "title_sidebar": "Contents",
   "toc_cell": false,
   "toc_position": {},
   "toc_section_display": true,
   "toc_window_display": false
  }
 },
 "nbformat": 4,
 "nbformat_minor": 2
}
