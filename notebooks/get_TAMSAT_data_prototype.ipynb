{
 "cells": [
  {
   "cell_type": "code",
   "execution_count": 1,
   "metadata": {},
   "outputs": [],
   "source": [
    "import datetime\n",
    "from datetime import datetime as dt\n",
    "import requests\n",
    "import xarray as xr "
   ]
  },
  {
   "cell_type": "code",
   "execution_count": 2,
   "metadata": {},
   "outputs": [],
   "source": [
    "def download_TAMSAT_day(query_date, save_path):\n",
    "\n",
    "    query_month = query_date.strftime('%m')\n",
    "    query_day = query_date.strftime('%d')\n",
    "\n",
    "    URL_filename = str(query_date.year)+\"/\"+str(query_month)+\"/rfe\"+str(query_date.year)+\"_\"+str(query_month)+\"_\"+str(query_day)+\".v3.1.nc\"\n",
    "    URL_full = \"http://www.tamsat.org.uk/public_data/data/v3.1/daily/\"+URL_filename\n",
    "\n",
    "    response = requests.get(URL_full)\n",
    "    save_filename = \"TAMSAT_\"+URL_filename.replace(\"/\",\"_\")\n",
    "    open(os.path.join(save_path,save_filename), \"wb\").write(response.content)"
   ]
  },
  {
   "cell_type": "code",
   "execution_count": 3,
   "metadata": {},
   "outputs": [],
   "source": [
    "def crop_and_save_TAMSAT_day(query_date, area, selected_area):\n",
    "\n",
    "    query_month = query_date.strftime('%m')\n",
    "    query_day = query_date.strftime('%d')\n",
    "    URL_filename = str(query_date.year)+\"/\"+str(query_month)+\"/rfe\"+str(query_date.year)+\"_\"+str(query_month)+\"_\"+str(query_day)+\".v3.1.nc\"\n",
    "    save_filename = \"TAMSAT_\"+URL_filename.replace(\"/\",\"_\")\n",
    "    nc_file_content = xr.open_dataset(os.path.join(save_path,save_filename))\n",
    "\n",
    "    xarray_variable_name = \"rfe_filled\"\n",
    "\n",
    "    # cropping\n",
    "    nc_file_content = nc_file_content.where((nc_file_content.lat < area[selected_area][0])\n",
    "                            & (nc_file_content.lat > area[selected_area][2])\n",
    "                            & (nc_file_content.lon > area[selected_area][1])\n",
    "                            & (nc_file_content.lon < area[selected_area][3])\n",
    "                        ).dropna(dim='lat', how='all').dropna(dim='lon', how='all')\n",
    "\n",
    "    bT = nc_file_content[xarray_variable_name]\n",
    "    bT = bT.rio.set_spatial_dims(x_dim='lon', y_dim='lat')\n",
    "    bT.rio.crs\n",
    "    bT.rio.write_crs(\"epsg:4326\", inplace=True)\n",
    "    output_filename = \"TAMSAT_v3.1_\"+selected_area+\"_\"+xarray_variable_name+\"_\"+str(query_date.year)+\"_\"+str(query_month)+\"_\"+str(query_day)+\".tif\"\n",
    "    output_path = \"../data/3_output/TAMSAT_v3.1_\"+selected_area+\"_\"+xarray_variable_name+\"/\"\n",
    "\n",
    "    if not os.path.exists(output_path):\n",
    "        os.makedirs(output_path)\n",
    "\n",
    "    bT.rio.to_raster(os.path.join(output_path,output_filename))"
   ]
  },
  {
   "cell_type": "markdown",
   "metadata": {},
   "source": [
    "## Download previous month"
   ]
  },
  {
   "cell_type": "code",
   "execution_count": 9,
   "metadata": {},
   "outputs": [],
   "source": [
    "def download_TAMSAT_lastmonth(area=area, selected_area=selected_area, save_path=save_path):\n",
    "    query_date = dt.today() - datetime.timedelta(days=8)\n",
    "\n",
    "    for i in range(query_date.day):\n",
    "\n",
    "        query_date_loop = query_date - datetime.timedelta(days=i)\n",
    "\n",
    "        print(\"=== downloading TAMSAT for date\",query_date_loop.date(),\"===\")\n",
    "        download_TAMSAT_day(query_date_loop, save_path)\n",
    "        crop_and_save_TAMSAT_day(query_date_loop, area, selected_area)"
   ]
  },
  {
   "cell_type": "code",
   "execution_count": 10,
   "metadata": {},
   "outputs": [
    {
     "name": "stdout",
     "output_type": "stream",
     "text": [
      "=== downloading TAMSAT for date 2022-11-19 ===\n"
     ]
    },
    {
     "ename": "ValueError",
     "evalue": "found the following matches with the input file in xarray's IO backends: ['netcdf4', 'h5netcdf']. But their dependencies may not be installed, see:\nhttps://docs.xarray.dev/en/stable/user-guide/io.html \nhttps://docs.xarray.dev/en/stable/getting-started-guide/installing.html",
     "output_type": "error",
     "traceback": [
      "\u001b[0;31m---------------------------------------------------------------------------\u001b[0m",
      "\u001b[0;31mValueError\u001b[0m                                Traceback (most recent call last)",
      "\u001b[1;32m/mnt/d/Mes Donnees/SARRA_data-download/notebooks/get_TAMSAT_data_prototype.ipynb Cell 6\u001b[0m in \u001b[0;36m<cell line: 7>\u001b[0;34m()\u001b[0m\n\u001b[1;32m      <a href='vscode-notebook-cell://wsl%2Bubuntu/mnt/d/Mes%20Donnees/SARRA_data-download/notebooks/get_TAMSAT_data_prototype.ipynb#W5sdnNjb2RlLXJlbW90ZQ%3D%3D?line=3'>4</a>\u001b[0m selected_area \u001b[39m=\u001b[39m \u001b[39m\"\u001b[39m\u001b[39mburkina\u001b[39m\u001b[39m\"\u001b[39m\n\u001b[1;32m      <a href='vscode-notebook-cell://wsl%2Bubuntu/mnt/d/Mes%20Donnees/SARRA_data-download/notebooks/get_TAMSAT_data_prototype.ipynb#W5sdnNjb2RlLXJlbW90ZQ%3D%3D?line=4'>5</a>\u001b[0m save_path \u001b[39m=\u001b[39m \u001b[39m\"\u001b[39m\u001b[39m../data/0_downloads/\u001b[39m\u001b[39m\"\u001b[39m\n\u001b[0;32m----> <a href='vscode-notebook-cell://wsl%2Bubuntu/mnt/d/Mes%20Donnees/SARRA_data-download/notebooks/get_TAMSAT_data_prototype.ipynb#W5sdnNjb2RlLXJlbW90ZQ%3D%3D?line=6'>7</a>\u001b[0m download_TAMSAT_lastmonth()\n",
      "\u001b[1;32m/mnt/d/Mes Donnees/SARRA_data-download/notebooks/get_TAMSAT_data_prototype.ipynb Cell 6\u001b[0m in \u001b[0;36mdownload_TAMSAT_lastmonth\u001b[0;34m(area, selected_area, save_path)\u001b[0m\n\u001b[1;32m      <a href='vscode-notebook-cell://wsl%2Bubuntu/mnt/d/Mes%20Donnees/SARRA_data-download/notebooks/get_TAMSAT_data_prototype.ipynb#W5sdnNjb2RlLXJlbW90ZQ%3D%3D?line=7'>8</a>\u001b[0m \u001b[39mprint\u001b[39m(\u001b[39m\"\u001b[39m\u001b[39m=== downloading TAMSAT for date\u001b[39m\u001b[39m\"\u001b[39m,query_date_loop\u001b[39m.\u001b[39mdate(),\u001b[39m\"\u001b[39m\u001b[39m===\u001b[39m\u001b[39m\"\u001b[39m)\n\u001b[1;32m      <a href='vscode-notebook-cell://wsl%2Bubuntu/mnt/d/Mes%20Donnees/SARRA_data-download/notebooks/get_TAMSAT_data_prototype.ipynb#W5sdnNjb2RlLXJlbW90ZQ%3D%3D?line=8'>9</a>\u001b[0m download_TAMSAT_day(query_date_loop, save_path)\n\u001b[0;32m---> <a href='vscode-notebook-cell://wsl%2Bubuntu/mnt/d/Mes%20Donnees/SARRA_data-download/notebooks/get_TAMSAT_data_prototype.ipynb#W5sdnNjb2RlLXJlbW90ZQ%3D%3D?line=9'>10</a>\u001b[0m crop_and_save_TAMSAT_day(query_date_loop, area, selected_area)\n",
      "\u001b[1;32m/mnt/d/Mes Donnees/SARRA_data-download/notebooks/get_TAMSAT_data_prototype.ipynb Cell 6\u001b[0m in \u001b[0;36mcrop_and_save_TAMSAT_day\u001b[0;34m(query_date, area, selected_area)\u001b[0m\n\u001b[1;32m      <a href='vscode-notebook-cell://wsl%2Bubuntu/mnt/d/Mes%20Donnees/SARRA_data-download/notebooks/get_TAMSAT_data_prototype.ipynb#W5sdnNjb2RlLXJlbW90ZQ%3D%3D?line=4'>5</a>\u001b[0m URL_filename \u001b[39m=\u001b[39m \u001b[39mstr\u001b[39m(query_date\u001b[39m.\u001b[39myear)\u001b[39m+\u001b[39m\u001b[39m\"\u001b[39m\u001b[39m/\u001b[39m\u001b[39m\"\u001b[39m\u001b[39m+\u001b[39m\u001b[39mstr\u001b[39m(query_month)\u001b[39m+\u001b[39m\u001b[39m\"\u001b[39m\u001b[39m/rfe\u001b[39m\u001b[39m\"\u001b[39m\u001b[39m+\u001b[39m\u001b[39mstr\u001b[39m(query_date\u001b[39m.\u001b[39myear)\u001b[39m+\u001b[39m\u001b[39m\"\u001b[39m\u001b[39m_\u001b[39m\u001b[39m\"\u001b[39m\u001b[39m+\u001b[39m\u001b[39mstr\u001b[39m(query_month)\u001b[39m+\u001b[39m\u001b[39m\"\u001b[39m\u001b[39m_\u001b[39m\u001b[39m\"\u001b[39m\u001b[39m+\u001b[39m\u001b[39mstr\u001b[39m(query_day)\u001b[39m+\u001b[39m\u001b[39m\"\u001b[39m\u001b[39m.v3.1.nc\u001b[39m\u001b[39m\"\u001b[39m\n\u001b[1;32m      <a href='vscode-notebook-cell://wsl%2Bubuntu/mnt/d/Mes%20Donnees/SARRA_data-download/notebooks/get_TAMSAT_data_prototype.ipynb#W5sdnNjb2RlLXJlbW90ZQ%3D%3D?line=5'>6</a>\u001b[0m save_filename \u001b[39m=\u001b[39m \u001b[39m\"\u001b[39m\u001b[39mTAMSAT_\u001b[39m\u001b[39m\"\u001b[39m\u001b[39m+\u001b[39mURL_filename\u001b[39m.\u001b[39mreplace(\u001b[39m\"\u001b[39m\u001b[39m/\u001b[39m\u001b[39m\"\u001b[39m,\u001b[39m\"\u001b[39m\u001b[39m_\u001b[39m\u001b[39m\"\u001b[39m)\n\u001b[0;32m----> <a href='vscode-notebook-cell://wsl%2Bubuntu/mnt/d/Mes%20Donnees/SARRA_data-download/notebooks/get_TAMSAT_data_prototype.ipynb#W5sdnNjb2RlLXJlbW90ZQ%3D%3D?line=6'>7</a>\u001b[0m nc_file_content \u001b[39m=\u001b[39m xr\u001b[39m.\u001b[39;49mopen_dataset(os\u001b[39m.\u001b[39;49mpath\u001b[39m.\u001b[39;49mjoin(save_path,save_filename))\n\u001b[1;32m      <a href='vscode-notebook-cell://wsl%2Bubuntu/mnt/d/Mes%20Donnees/SARRA_data-download/notebooks/get_TAMSAT_data_prototype.ipynb#W5sdnNjb2RlLXJlbW90ZQ%3D%3D?line=8'>9</a>\u001b[0m xarray_variable_name \u001b[39m=\u001b[39m \u001b[39m\"\u001b[39m\u001b[39mrfe_filled\u001b[39m\u001b[39m\"\u001b[39m\n\u001b[1;32m     <a href='vscode-notebook-cell://wsl%2Bubuntu/mnt/d/Mes%20Donnees/SARRA_data-download/notebooks/get_TAMSAT_data_prototype.ipynb#W5sdnNjb2RlLXJlbW90ZQ%3D%3D?line=10'>11</a>\u001b[0m \u001b[39m# cropping\u001b[39;00m\n",
      "File \u001b[0;32m~/.pyenv/versions/3.9.6/envs/venv_SARRA_Py/lib/python3.9/site-packages/xarray/backends/api.py:515\u001b[0m, in \u001b[0;36mopen_dataset\u001b[0;34m(filename_or_obj, engine, chunks, cache, decode_cf, mask_and_scale, decode_times, decode_timedelta, use_cftime, concat_characters, decode_coords, drop_variables, inline_array, backend_kwargs, **kwargs)\u001b[0m\n\u001b[1;32m    512\u001b[0m     kwargs\u001b[39m.\u001b[39mupdate(backend_kwargs)\n\u001b[1;32m    514\u001b[0m \u001b[39mif\u001b[39;00m engine \u001b[39mis\u001b[39;00m \u001b[39mNone\u001b[39;00m:\n\u001b[0;32m--> 515\u001b[0m     engine \u001b[39m=\u001b[39m plugins\u001b[39m.\u001b[39;49mguess_engine(filename_or_obj)\n\u001b[1;32m    517\u001b[0m backend \u001b[39m=\u001b[39m plugins\u001b[39m.\u001b[39mget_backend(engine)\n\u001b[1;32m    519\u001b[0m decoders \u001b[39m=\u001b[39m _resolve_decoders_kwargs(\n\u001b[1;32m    520\u001b[0m     decode_cf,\n\u001b[1;32m    521\u001b[0m     open_backend_dataset_parameters\u001b[39m=\u001b[39mbackend\u001b[39m.\u001b[39mopen_dataset_parameters,\n\u001b[0;32m   (...)\u001b[0m\n\u001b[1;32m    527\u001b[0m     decode_coords\u001b[39m=\u001b[39mdecode_coords,\n\u001b[1;32m    528\u001b[0m )\n",
      "File \u001b[0;32m~/.pyenv/versions/3.9.6/envs/venv_SARRA_Py/lib/python3.9/site-packages/xarray/backends/plugins.py:155\u001b[0m, in \u001b[0;36mguess_engine\u001b[0;34m(store_spec)\u001b[0m\n\u001b[1;32m    147\u001b[0m \u001b[39melse\u001b[39;00m:\n\u001b[1;32m    148\u001b[0m     error_msg \u001b[39m=\u001b[39m (\n\u001b[1;32m    149\u001b[0m         \u001b[39m\"\u001b[39m\u001b[39mfound the following matches with the input file in xarray\u001b[39m\u001b[39m'\u001b[39m\u001b[39ms IO \u001b[39m\u001b[39m\"\u001b[39m\n\u001b[1;32m    150\u001b[0m         \u001b[39mf\u001b[39m\u001b[39m\"\u001b[39m\u001b[39mbackends: \u001b[39m\u001b[39m{\u001b[39;00mcompatible_engines\u001b[39m}\u001b[39;00m\u001b[39m. But their dependencies may not be installed, see:\u001b[39m\u001b[39m\\n\u001b[39;00m\u001b[39m\"\u001b[39m\n\u001b[1;32m    151\u001b[0m         \u001b[39m\"\u001b[39m\u001b[39mhttps://docs.xarray.dev/en/stable/user-guide/io.html \u001b[39m\u001b[39m\\n\u001b[39;00m\u001b[39m\"\u001b[39m\n\u001b[1;32m    152\u001b[0m         \u001b[39m\"\u001b[39m\u001b[39mhttps://docs.xarray.dev/en/stable/getting-started-guide/installing.html\u001b[39m\u001b[39m\"\u001b[39m\n\u001b[1;32m    153\u001b[0m     )\n\u001b[0;32m--> 155\u001b[0m \u001b[39mraise\u001b[39;00m \u001b[39mValueError\u001b[39;00m(error_msg)\n",
      "\u001b[0;31mValueError\u001b[0m: found the following matches with the input file in xarray's IO backends: ['netcdf4', 'h5netcdf']. But their dependencies may not be installed, see:\nhttps://docs.xarray.dev/en/stable/user-guide/io.html \nhttps://docs.xarray.dev/en/stable/getting-started-guide/installing.html"
     ]
    }
   ],
   "source": [
    "area = {\n",
    "    'burkina': [16, -6, 9, 3],\n",
    "    'west_africa':[29, -20, 3.5, 26]}\n",
    "selected_area = \"burkina\"\n",
    "save_path = \"../data/0_downloads/\"\n",
    "\n",
    "download_TAMSAT_lastmonth()"
   ]
  },
  {
   "cell_type": "markdown",
   "metadata": {},
   "source": [
    "# Download whole year"
   ]
  },
  {
   "cell_type": "code",
   "execution_count": 7,
   "metadata": {},
   "outputs": [],
   "source": [
    "area = {\n",
    "    'burkina': [16, -6, 9, 3],\n",
    "    'west_africa':[29, -20, 3.5, 26],\n",
    "    'north_cameroon':[13.6,12,6.8,16],\n",
    "    }\n",
    "selected_area = \"north_cameroon\"\n",
    "save_path = \"../data/0_downloads/\""
   ]
  },
  {
   "cell_type": "code",
   "execution_count": 25,
   "metadata": {},
   "outputs": [],
   "source": [
    "def download_TAMSAT_year(query_year, area=area, selected_area=selected_area, save_path=save_path):\n",
    "    for i in range(365):\n",
    "\n",
    "        query_date_loop = datetime.date(query_year,11,8) + datetime.timedelta(days=i)\n",
    "\n",
    "        print(\"=== downloading TAMSAT for date\",query_date_loop,\"===\")\n",
    "        download_TAMSAT_day(query_date_loop, save_path)\n",
    "        crop_and_save_TAMSAT_day(query_date_loop, area, selected_area)"
   ]
  },
  {
   "cell_type": "code",
   "execution_count": 26,
   "metadata": {},
   "outputs": [
    {
     "name": "stdout",
     "output_type": "stream",
     "text": [
      "=== downloading TAMSAT for date 2020-11-08 ===\n",
      "=== downloading TAMSAT for date 2020-11-09 ===\n",
      "=== downloading TAMSAT for date 2020-11-10 ===\n",
      "=== downloading TAMSAT for date 2020-11-11 ===\n",
      "=== downloading TAMSAT for date 2020-11-12 ===\n",
      "=== downloading TAMSAT for date 2020-11-13 ===\n",
      "=== downloading TAMSAT for date 2020-11-14 ===\n",
      "=== downloading TAMSAT for date 2020-11-15 ===\n",
      "=== downloading TAMSAT for date 2020-11-16 ===\n",
      "=== downloading TAMSAT for date 2020-11-17 ===\n",
      "=== downloading TAMSAT for date 2020-11-18 ===\n",
      "=== downloading TAMSAT for date 2020-11-19 ===\n",
      "=== downloading TAMSAT for date 2020-11-20 ===\n",
      "=== downloading TAMSAT for date 2020-11-21 ===\n",
      "=== downloading TAMSAT for date 2020-11-22 ===\n",
      "=== downloading TAMSAT for date 2020-11-23 ===\n",
      "=== downloading TAMSAT for date 2020-11-24 ===\n",
      "=== downloading TAMSAT for date 2020-11-25 ===\n",
      "=== downloading TAMSAT for date 2020-11-26 ===\n",
      "=== downloading TAMSAT for date 2020-11-27 ===\n",
      "=== downloading TAMSAT for date 2020-11-28 ===\n",
      "=== downloading TAMSAT for date 2020-11-29 ===\n",
      "=== downloading TAMSAT for date 2020-11-30 ===\n",
      "=== downloading TAMSAT for date 2020-12-01 ===\n",
      "=== downloading TAMSAT for date 2020-12-02 ===\n",
      "=== downloading TAMSAT for date 2020-12-03 ===\n",
      "=== downloading TAMSAT for date 2020-12-04 ===\n",
      "=== downloading TAMSAT for date 2020-12-05 ===\n",
      "=== downloading TAMSAT for date 2020-12-06 ===\n",
      "=== downloading TAMSAT for date 2020-12-07 ===\n",
      "=== downloading TAMSAT for date 2020-12-08 ===\n",
      "=== downloading TAMSAT for date 2020-12-09 ===\n",
      "=== downloading TAMSAT for date 2020-12-10 ===\n",
      "=== downloading TAMSAT for date 2020-12-11 ===\n",
      "=== downloading TAMSAT for date 2020-12-12 ===\n",
      "=== downloading TAMSAT for date 2020-12-13 ===\n",
      "=== downloading TAMSAT for date 2020-12-14 ===\n",
      "=== downloading TAMSAT for date 2020-12-15 ===\n",
      "=== downloading TAMSAT for date 2020-12-16 ===\n",
      "=== downloading TAMSAT for date 2020-12-17 ===\n",
      "=== downloading TAMSAT for date 2020-12-18 ===\n",
      "=== downloading TAMSAT for date 2020-12-19 ===\n",
      "=== downloading TAMSAT for date 2020-12-20 ===\n",
      "=== downloading TAMSAT for date 2020-12-21 ===\n",
      "=== downloading TAMSAT for date 2020-12-22 ===\n",
      "=== downloading TAMSAT for date 2020-12-23 ===\n",
      "=== downloading TAMSAT for date 2020-12-24 ===\n",
      "=== downloading TAMSAT for date 2020-12-25 ===\n",
      "=== downloading TAMSAT for date 2020-12-26 ===\n",
      "=== downloading TAMSAT for date 2020-12-27 ===\n",
      "=== downloading TAMSAT for date 2020-12-28 ===\n",
      "=== downloading TAMSAT for date 2020-12-29 ===\n",
      "=== downloading TAMSAT for date 2020-12-30 ===\n",
      "=== downloading TAMSAT for date 2020-12-31 ===\n",
      "=== downloading TAMSAT for date 2021-01-01 ===\n",
      "=== downloading TAMSAT for date 2021-01-02 ===\n",
      "=== downloading TAMSAT for date 2021-01-03 ===\n",
      "=== downloading TAMSAT for date 2021-01-04 ===\n",
      "=== downloading TAMSAT for date 2021-01-05 ===\n",
      "=== downloading TAMSAT for date 2021-01-06 ===\n",
      "=== downloading TAMSAT for date 2021-01-07 ===\n",
      "=== downloading TAMSAT for date 2021-01-08 ===\n",
      "=== downloading TAMSAT for date 2021-01-09 ===\n",
      "=== downloading TAMSAT for date 2021-01-10 ===\n",
      "=== downloading TAMSAT for date 2021-01-11 ===\n",
      "=== downloading TAMSAT for date 2021-01-12 ===\n",
      "=== downloading TAMSAT for date 2021-01-13 ===\n",
      "=== downloading TAMSAT for date 2021-01-14 ===\n",
      "=== downloading TAMSAT for date 2021-01-15 ===\n",
      "=== downloading TAMSAT for date 2021-01-16 ===\n",
      "=== downloading TAMSAT for date 2021-01-17 ===\n",
      "=== downloading TAMSAT for date 2021-01-18 ===\n",
      "=== downloading TAMSAT for date 2021-01-19 ===\n",
      "=== downloading TAMSAT for date 2021-01-20 ===\n",
      "=== downloading TAMSAT for date 2021-01-21 ===\n",
      "=== downloading TAMSAT for date 2021-01-22 ===\n",
      "=== downloading TAMSAT for date 2021-01-23 ===\n",
      "=== downloading TAMSAT for date 2021-01-24 ===\n",
      "=== downloading TAMSAT for date 2021-01-25 ===\n",
      "=== downloading TAMSAT for date 2021-01-26 ===\n",
      "=== downloading TAMSAT for date 2021-01-27 ===\n",
      "=== downloading TAMSAT for date 2021-01-28 ===\n",
      "=== downloading TAMSAT for date 2021-01-29 ===\n",
      "=== downloading TAMSAT for date 2021-01-30 ===\n",
      "=== downloading TAMSAT for date 2021-01-31 ===\n",
      "=== downloading TAMSAT for date 2021-02-01 ===\n",
      "=== downloading TAMSAT for date 2021-02-02 ===\n",
      "=== downloading TAMSAT for date 2021-02-03 ===\n",
      "=== downloading TAMSAT for date 2021-02-04 ===\n",
      "=== downloading TAMSAT for date 2021-02-05 ===\n",
      "=== downloading TAMSAT for date 2021-02-06 ===\n",
      "=== downloading TAMSAT for date 2021-02-07 ===\n",
      "=== downloading TAMSAT for date 2021-02-08 ===\n",
      "=== downloading TAMSAT for date 2021-02-09 ===\n",
      "=== downloading TAMSAT for date 2021-02-10 ===\n",
      "=== downloading TAMSAT for date 2021-02-11 ===\n",
      "=== downloading TAMSAT for date 2021-02-12 ===\n",
      "=== downloading TAMSAT for date 2021-02-13 ===\n",
      "=== downloading TAMSAT for date 2021-02-14 ===\n",
      "=== downloading TAMSAT for date 2021-02-15 ===\n",
      "=== downloading TAMSAT for date 2021-02-16 ===\n",
      "=== downloading TAMSAT for date 2021-02-17 ===\n",
      "=== downloading TAMSAT for date 2021-02-18 ===\n",
      "=== downloading TAMSAT for date 2021-02-19 ===\n",
      "=== downloading TAMSAT for date 2021-02-20 ===\n",
      "=== downloading TAMSAT for date 2021-02-21 ===\n",
      "=== downloading TAMSAT for date 2021-02-22 ===\n"
     ]
    },
    {
     "ename": "KeyboardInterrupt",
     "evalue": "",
     "output_type": "error",
     "traceback": [
      "\u001b[0;31m---------------------------------------------------------------------------\u001b[0m",
      "\u001b[0;31mKeyboardInterrupt\u001b[0m                         Traceback (most recent call last)",
      "\u001b[1;32m/mnt/d/Mes Donnees/SARRA_data-download/notebooks/get_TAMSAT_data_prototype.ipynb Cell 10\u001b[0m in \u001b[0;36m<cell line: 1>\u001b[0;34m()\u001b[0m\n\u001b[0;32m----> <a href='vscode-notebook-cell://wsl%2Bubuntu/mnt/d/Mes%20Donnees/SARRA_data-download/notebooks/get_TAMSAT_data_prototype.ipynb#X11sdnNjb2RlLXJlbW90ZQ%3D%3D?line=0'>1</a>\u001b[0m download_TAMSAT_year(\u001b[39m2020\u001b[39;49m)\n",
      "\u001b[1;32m/mnt/d/Mes Donnees/SARRA_data-download/notebooks/get_TAMSAT_data_prototype.ipynb Cell 10\u001b[0m in \u001b[0;36mdownload_TAMSAT_year\u001b[0;34m(query_year, area, selected_area, save_path)\u001b[0m\n\u001b[1;32m      <a href='vscode-notebook-cell://wsl%2Bubuntu/mnt/d/Mes%20Donnees/SARRA_data-download/notebooks/get_TAMSAT_data_prototype.ipynb#X11sdnNjb2RlLXJlbW90ZQ%3D%3D?line=3'>4</a>\u001b[0m query_date_loop \u001b[39m=\u001b[39m datetime\u001b[39m.\u001b[39mdate(query_year,\u001b[39m11\u001b[39m,\u001b[39m8\u001b[39m) \u001b[39m+\u001b[39m datetime\u001b[39m.\u001b[39mtimedelta(days\u001b[39m=\u001b[39mi)\n\u001b[1;32m      <a href='vscode-notebook-cell://wsl%2Bubuntu/mnt/d/Mes%20Donnees/SARRA_data-download/notebooks/get_TAMSAT_data_prototype.ipynb#X11sdnNjb2RlLXJlbW90ZQ%3D%3D?line=5'>6</a>\u001b[0m \u001b[39mprint\u001b[39m(\u001b[39m\"\u001b[39m\u001b[39m=== downloading TAMSAT for date\u001b[39m\u001b[39m\"\u001b[39m,query_date_loop,\u001b[39m\"\u001b[39m\u001b[39m===\u001b[39m\u001b[39m\"\u001b[39m)\n\u001b[0;32m----> <a href='vscode-notebook-cell://wsl%2Bubuntu/mnt/d/Mes%20Donnees/SARRA_data-download/notebooks/get_TAMSAT_data_prototype.ipynb#X11sdnNjb2RlLXJlbW90ZQ%3D%3D?line=6'>7</a>\u001b[0m download_TAMSAT_day(query_date_loop, save_path)\n\u001b[1;32m      <a href='vscode-notebook-cell://wsl%2Bubuntu/mnt/d/Mes%20Donnees/SARRA_data-download/notebooks/get_TAMSAT_data_prototype.ipynb#X11sdnNjb2RlLXJlbW90ZQ%3D%3D?line=7'>8</a>\u001b[0m crop_and_save_TAMSAT_day(query_date_loop, area, selected_area)\n",
      "\u001b[1;32m/mnt/d/Mes Donnees/SARRA_data-download/notebooks/get_TAMSAT_data_prototype.ipynb Cell 10\u001b[0m in \u001b[0;36mdownload_TAMSAT_day\u001b[0;34m(query_date, save_path)\u001b[0m\n\u001b[1;32m      <a href='vscode-notebook-cell://wsl%2Bubuntu/mnt/d/Mes%20Donnees/SARRA_data-download/notebooks/get_TAMSAT_data_prototype.ipynb#X11sdnNjb2RlLXJlbW90ZQ%3D%3D?line=5'>6</a>\u001b[0m URL_filename \u001b[39m=\u001b[39m \u001b[39mstr\u001b[39m(query_date\u001b[39m.\u001b[39myear)\u001b[39m+\u001b[39m\u001b[39m\"\u001b[39m\u001b[39m/\u001b[39m\u001b[39m\"\u001b[39m\u001b[39m+\u001b[39m\u001b[39mstr\u001b[39m(query_month)\u001b[39m+\u001b[39m\u001b[39m\"\u001b[39m\u001b[39m/rfe\u001b[39m\u001b[39m\"\u001b[39m\u001b[39m+\u001b[39m\u001b[39mstr\u001b[39m(query_date\u001b[39m.\u001b[39myear)\u001b[39m+\u001b[39m\u001b[39m\"\u001b[39m\u001b[39m_\u001b[39m\u001b[39m\"\u001b[39m\u001b[39m+\u001b[39m\u001b[39mstr\u001b[39m(query_month)\u001b[39m+\u001b[39m\u001b[39m\"\u001b[39m\u001b[39m_\u001b[39m\u001b[39m\"\u001b[39m\u001b[39m+\u001b[39m\u001b[39mstr\u001b[39m(query_day)\u001b[39m+\u001b[39m\u001b[39m\"\u001b[39m\u001b[39m.v3.1.nc\u001b[39m\u001b[39m\"\u001b[39m\n\u001b[1;32m      <a href='vscode-notebook-cell://wsl%2Bubuntu/mnt/d/Mes%20Donnees/SARRA_data-download/notebooks/get_TAMSAT_data_prototype.ipynb#X11sdnNjb2RlLXJlbW90ZQ%3D%3D?line=6'>7</a>\u001b[0m URL_full \u001b[39m=\u001b[39m \u001b[39m\"\u001b[39m\u001b[39mhttp://www.tamsat.org.uk/public_data/data/v3.1/daily/\u001b[39m\u001b[39m\"\u001b[39m\u001b[39m+\u001b[39mURL_filename\n\u001b[0;32m----> <a href='vscode-notebook-cell://wsl%2Bubuntu/mnt/d/Mes%20Donnees/SARRA_data-download/notebooks/get_TAMSAT_data_prototype.ipynb#X11sdnNjb2RlLXJlbW90ZQ%3D%3D?line=8'>9</a>\u001b[0m response \u001b[39m=\u001b[39m requests\u001b[39m.\u001b[39;49mget(URL_full)\n\u001b[1;32m     <a href='vscode-notebook-cell://wsl%2Bubuntu/mnt/d/Mes%20Donnees/SARRA_data-download/notebooks/get_TAMSAT_data_prototype.ipynb#X11sdnNjb2RlLXJlbW90ZQ%3D%3D?line=9'>10</a>\u001b[0m save_filename \u001b[39m=\u001b[39m \u001b[39m\"\u001b[39m\u001b[39mTAMSAT_\u001b[39m\u001b[39m\"\u001b[39m\u001b[39m+\u001b[39mURL_filename\u001b[39m.\u001b[39mreplace(\u001b[39m\"\u001b[39m\u001b[39m/\u001b[39m\u001b[39m\"\u001b[39m,\u001b[39m\"\u001b[39m\u001b[39m_\u001b[39m\u001b[39m\"\u001b[39m)\n\u001b[1;32m     <a href='vscode-notebook-cell://wsl%2Bubuntu/mnt/d/Mes%20Donnees/SARRA_data-download/notebooks/get_TAMSAT_data_prototype.ipynb#X11sdnNjb2RlLXJlbW90ZQ%3D%3D?line=10'>11</a>\u001b[0m \u001b[39mopen\u001b[39m(os\u001b[39m.\u001b[39mpath\u001b[39m.\u001b[39mjoin(save_path,save_filename), \u001b[39m\"\u001b[39m\u001b[39mwb\u001b[39m\u001b[39m\"\u001b[39m)\u001b[39m.\u001b[39mwrite(response\u001b[39m.\u001b[39mcontent)\n",
      "File \u001b[0;32m~/.pyenv/versions/3.9.6/envs/venv_SARRA_Py/lib/python3.9/site-packages/requests/api.py:73\u001b[0m, in \u001b[0;36mget\u001b[0;34m(url, params, **kwargs)\u001b[0m\n\u001b[1;32m     62\u001b[0m \u001b[39mdef\u001b[39;00m \u001b[39mget\u001b[39m(url, params\u001b[39m=\u001b[39m\u001b[39mNone\u001b[39;00m, \u001b[39m*\u001b[39m\u001b[39m*\u001b[39mkwargs):\n\u001b[1;32m     63\u001b[0m     \u001b[39mr\u001b[39m\u001b[39m\"\"\"Sends a GET request.\u001b[39;00m\n\u001b[1;32m     64\u001b[0m \n\u001b[1;32m     65\u001b[0m \u001b[39m    :param url: URL for the new :class:`Request` object.\u001b[39;00m\n\u001b[0;32m   (...)\u001b[0m\n\u001b[1;32m     70\u001b[0m \u001b[39m    :rtype: requests.Response\u001b[39;00m\n\u001b[1;32m     71\u001b[0m \u001b[39m    \"\"\"\u001b[39;00m\n\u001b[0;32m---> 73\u001b[0m     \u001b[39mreturn\u001b[39;00m request(\u001b[39m\"\u001b[39;49m\u001b[39mget\u001b[39;49m\u001b[39m\"\u001b[39;49m, url, params\u001b[39m=\u001b[39;49mparams, \u001b[39m*\u001b[39;49m\u001b[39m*\u001b[39;49mkwargs)\n",
      "File \u001b[0;32m~/.pyenv/versions/3.9.6/envs/venv_SARRA_Py/lib/python3.9/site-packages/requests/api.py:59\u001b[0m, in \u001b[0;36mrequest\u001b[0;34m(method, url, **kwargs)\u001b[0m\n\u001b[1;32m     55\u001b[0m \u001b[39m# By using the 'with' statement we are sure the session is closed, thus we\u001b[39;00m\n\u001b[1;32m     56\u001b[0m \u001b[39m# avoid leaving sockets open which can trigger a ResourceWarning in some\u001b[39;00m\n\u001b[1;32m     57\u001b[0m \u001b[39m# cases, and look like a memory leak in others.\u001b[39;00m\n\u001b[1;32m     58\u001b[0m \u001b[39mwith\u001b[39;00m sessions\u001b[39m.\u001b[39mSession() \u001b[39mas\u001b[39;00m session:\n\u001b[0;32m---> 59\u001b[0m     \u001b[39mreturn\u001b[39;00m session\u001b[39m.\u001b[39;49mrequest(method\u001b[39m=\u001b[39;49mmethod, url\u001b[39m=\u001b[39;49murl, \u001b[39m*\u001b[39;49m\u001b[39m*\u001b[39;49mkwargs)\n",
      "File \u001b[0;32m~/.pyenv/versions/3.9.6/envs/venv_SARRA_Py/lib/python3.9/site-packages/requests/sessions.py:587\u001b[0m, in \u001b[0;36mSession.request\u001b[0;34m(self, method, url, params, data, headers, cookies, files, auth, timeout, allow_redirects, proxies, hooks, stream, verify, cert, json)\u001b[0m\n\u001b[1;32m    582\u001b[0m send_kwargs \u001b[39m=\u001b[39m {\n\u001b[1;32m    583\u001b[0m     \u001b[39m\"\u001b[39m\u001b[39mtimeout\u001b[39m\u001b[39m\"\u001b[39m: timeout,\n\u001b[1;32m    584\u001b[0m     \u001b[39m\"\u001b[39m\u001b[39mallow_redirects\u001b[39m\u001b[39m\"\u001b[39m: allow_redirects,\n\u001b[1;32m    585\u001b[0m }\n\u001b[1;32m    586\u001b[0m send_kwargs\u001b[39m.\u001b[39mupdate(settings)\n\u001b[0;32m--> 587\u001b[0m resp \u001b[39m=\u001b[39m \u001b[39mself\u001b[39;49m\u001b[39m.\u001b[39;49msend(prep, \u001b[39m*\u001b[39;49m\u001b[39m*\u001b[39;49msend_kwargs)\n\u001b[1;32m    589\u001b[0m \u001b[39mreturn\u001b[39;00m resp\n",
      "File \u001b[0;32m~/.pyenv/versions/3.9.6/envs/venv_SARRA_Py/lib/python3.9/site-packages/requests/sessions.py:745\u001b[0m, in \u001b[0;36mSession.send\u001b[0;34m(self, request, **kwargs)\u001b[0m\n\u001b[1;32m    742\u001b[0m         \u001b[39mpass\u001b[39;00m\n\u001b[1;32m    744\u001b[0m \u001b[39mif\u001b[39;00m \u001b[39mnot\u001b[39;00m stream:\n\u001b[0;32m--> 745\u001b[0m     r\u001b[39m.\u001b[39;49mcontent\n\u001b[1;32m    747\u001b[0m \u001b[39mreturn\u001b[39;00m r\n",
      "File \u001b[0;32m~/.pyenv/versions/3.9.6/envs/venv_SARRA_Py/lib/python3.9/site-packages/requests/models.py:899\u001b[0m, in \u001b[0;36mResponse.content\u001b[0;34m(self)\u001b[0m\n\u001b[1;32m    897\u001b[0m         \u001b[39mself\u001b[39m\u001b[39m.\u001b[39m_content \u001b[39m=\u001b[39m \u001b[39mNone\u001b[39;00m\n\u001b[1;32m    898\u001b[0m     \u001b[39melse\u001b[39;00m:\n\u001b[0;32m--> 899\u001b[0m         \u001b[39mself\u001b[39m\u001b[39m.\u001b[39m_content \u001b[39m=\u001b[39m \u001b[39mb\u001b[39;49m\u001b[39m\"\u001b[39;49m\u001b[39m\"\u001b[39;49m\u001b[39m.\u001b[39;49mjoin(\u001b[39mself\u001b[39;49m\u001b[39m.\u001b[39;49miter_content(CONTENT_CHUNK_SIZE)) \u001b[39mor\u001b[39;00m \u001b[39mb\u001b[39m\u001b[39m\"\u001b[39m\u001b[39m\"\u001b[39m\n\u001b[1;32m    901\u001b[0m \u001b[39mself\u001b[39m\u001b[39m.\u001b[39m_content_consumed \u001b[39m=\u001b[39m \u001b[39mTrue\u001b[39;00m\n\u001b[1;32m    902\u001b[0m \u001b[39m# don't need to release the connection; that's been handled by urllib3\u001b[39;00m\n\u001b[1;32m    903\u001b[0m \u001b[39m# since we exhausted the data.\u001b[39;00m\n",
      "File \u001b[0;32m~/.pyenv/versions/3.9.6/envs/venv_SARRA_Py/lib/python3.9/site-packages/requests/models.py:816\u001b[0m, in \u001b[0;36mResponse.iter_content.<locals>.generate\u001b[0;34m()\u001b[0m\n\u001b[1;32m    814\u001b[0m \u001b[39mif\u001b[39;00m \u001b[39mhasattr\u001b[39m(\u001b[39mself\u001b[39m\u001b[39m.\u001b[39mraw, \u001b[39m\"\u001b[39m\u001b[39mstream\u001b[39m\u001b[39m\"\u001b[39m):\n\u001b[1;32m    815\u001b[0m     \u001b[39mtry\u001b[39;00m:\n\u001b[0;32m--> 816\u001b[0m         \u001b[39myield from\u001b[39;00m \u001b[39mself\u001b[39m\u001b[39m.\u001b[39mraw\u001b[39m.\u001b[39mstream(chunk_size, decode_content\u001b[39m=\u001b[39m\u001b[39mTrue\u001b[39;00m)\n\u001b[1;32m    817\u001b[0m     \u001b[39mexcept\u001b[39;00m ProtocolError \u001b[39mas\u001b[39;00m e:\n\u001b[1;32m    818\u001b[0m         \u001b[39mraise\u001b[39;00m ChunkedEncodingError(e)\n",
      "File \u001b[0;32m~/.pyenv/versions/3.9.6/envs/venv_SARRA_Py/lib/python3.9/site-packages/urllib3/response.py:575\u001b[0m, in \u001b[0;36mHTTPResponse.stream\u001b[0;34m(self, amt, decode_content)\u001b[0m\n\u001b[1;32m    559\u001b[0m \u001b[39m\"\"\"\u001b[39;00m\n\u001b[1;32m    560\u001b[0m \u001b[39mA generator wrapper for the read() method. A call will block until\u001b[39;00m\n\u001b[1;32m    561\u001b[0m \u001b[39m``amt`` bytes have been read from the connection or until the\u001b[39;00m\n\u001b[0;32m   (...)\u001b[0m\n\u001b[1;32m    572\u001b[0m \u001b[39m    'content-encoding' header.\u001b[39;00m\n\u001b[1;32m    573\u001b[0m \u001b[39m\"\"\"\u001b[39;00m\n\u001b[1;32m    574\u001b[0m \u001b[39mif\u001b[39;00m \u001b[39mself\u001b[39m\u001b[39m.\u001b[39mchunked \u001b[39mand\u001b[39;00m \u001b[39mself\u001b[39m\u001b[39m.\u001b[39msupports_chunked_reads():\n\u001b[0;32m--> 575\u001b[0m     \u001b[39mfor\u001b[39;00m line \u001b[39min\u001b[39;00m \u001b[39mself\u001b[39m\u001b[39m.\u001b[39mread_chunked(amt, decode_content\u001b[39m=\u001b[39mdecode_content):\n\u001b[1;32m    576\u001b[0m         \u001b[39myield\u001b[39;00m line\n\u001b[1;32m    577\u001b[0m \u001b[39melse\u001b[39;00m:\n",
      "File \u001b[0;32m~/.pyenv/versions/3.9.6/envs/venv_SARRA_Py/lib/python3.9/site-packages/urllib3/response.py:770\u001b[0m, in \u001b[0;36mHTTPResponse.read_chunked\u001b[0;34m(self, amt, decode_content)\u001b[0m\n\u001b[1;32m    768\u001b[0m \u001b[39mif\u001b[39;00m \u001b[39mself\u001b[39m\u001b[39m.\u001b[39mchunk_left \u001b[39m==\u001b[39m \u001b[39m0\u001b[39m:\n\u001b[1;32m    769\u001b[0m     \u001b[39mbreak\u001b[39;00m\n\u001b[0;32m--> 770\u001b[0m chunk \u001b[39m=\u001b[39m \u001b[39mself\u001b[39;49m\u001b[39m.\u001b[39;49m_handle_chunk(amt)\n\u001b[1;32m    771\u001b[0m decoded \u001b[39m=\u001b[39m \u001b[39mself\u001b[39m\u001b[39m.\u001b[39m_decode(\n\u001b[1;32m    772\u001b[0m     chunk, decode_content\u001b[39m=\u001b[39mdecode_content, flush_decoder\u001b[39m=\u001b[39m\u001b[39mFalse\u001b[39;00m\n\u001b[1;32m    773\u001b[0m )\n\u001b[1;32m    774\u001b[0m \u001b[39mif\u001b[39;00m decoded:\n",
      "File \u001b[0;32m~/.pyenv/versions/3.9.6/envs/venv_SARRA_Py/lib/python3.9/site-packages/urllib3/response.py:714\u001b[0m, in \u001b[0;36mHTTPResponse._handle_chunk\u001b[0;34m(self, amt)\u001b[0m\n\u001b[1;32m    712\u001b[0m     \u001b[39mself\u001b[39m\u001b[39m.\u001b[39mchunk_left \u001b[39m=\u001b[39m \u001b[39mNone\u001b[39;00m\n\u001b[1;32m    713\u001b[0m \u001b[39melif\u001b[39;00m amt \u001b[39m<\u001b[39m \u001b[39mself\u001b[39m\u001b[39m.\u001b[39mchunk_left:\n\u001b[0;32m--> 714\u001b[0m     value \u001b[39m=\u001b[39m \u001b[39mself\u001b[39;49m\u001b[39m.\u001b[39;49m_fp\u001b[39m.\u001b[39;49m_safe_read(amt)\n\u001b[1;32m    715\u001b[0m     \u001b[39mself\u001b[39m\u001b[39m.\u001b[39mchunk_left \u001b[39m=\u001b[39m \u001b[39mself\u001b[39m\u001b[39m.\u001b[39mchunk_left \u001b[39m-\u001b[39m amt\n\u001b[1;32m    716\u001b[0m     returned_chunk \u001b[39m=\u001b[39m value\n",
      "File \u001b[0;32m~/.pyenv/versions/3.9.6/lib/python3.9/http/client.py:613\u001b[0m, in \u001b[0;36mHTTPResponse._safe_read\u001b[0;34m(self, amt)\u001b[0m\n\u001b[1;32m    606\u001b[0m \u001b[39mdef\u001b[39;00m \u001b[39m_safe_read\u001b[39m(\u001b[39mself\u001b[39m, amt):\n\u001b[1;32m    607\u001b[0m     \u001b[39m\"\"\"Read the number of bytes requested.\u001b[39;00m\n\u001b[1;32m    608\u001b[0m \n\u001b[1;32m    609\u001b[0m \u001b[39m    This function should be used when <amt> bytes \"should\" be present for\u001b[39;00m\n\u001b[1;32m    610\u001b[0m \u001b[39m    reading. If the bytes are truly not available (due to EOF), then the\u001b[39;00m\n\u001b[1;32m    611\u001b[0m \u001b[39m    IncompleteRead exception can be used to detect the problem.\u001b[39;00m\n\u001b[1;32m    612\u001b[0m \u001b[39m    \"\"\"\u001b[39;00m\n\u001b[0;32m--> 613\u001b[0m     data \u001b[39m=\u001b[39m \u001b[39mself\u001b[39;49m\u001b[39m.\u001b[39;49mfp\u001b[39m.\u001b[39;49mread(amt)\n\u001b[1;32m    614\u001b[0m     \u001b[39mif\u001b[39;00m \u001b[39mlen\u001b[39m(data) \u001b[39m<\u001b[39m amt:\n\u001b[1;32m    615\u001b[0m         \u001b[39mraise\u001b[39;00m IncompleteRead(data, amt\u001b[39m-\u001b[39m\u001b[39mlen\u001b[39m(data))\n",
      "File \u001b[0;32m~/.pyenv/versions/3.9.6/lib/python3.9/socket.py:704\u001b[0m, in \u001b[0;36mSocketIO.readinto\u001b[0;34m(self, b)\u001b[0m\n\u001b[1;32m    702\u001b[0m \u001b[39mwhile\u001b[39;00m \u001b[39mTrue\u001b[39;00m:\n\u001b[1;32m    703\u001b[0m     \u001b[39mtry\u001b[39;00m:\n\u001b[0;32m--> 704\u001b[0m         \u001b[39mreturn\u001b[39;00m \u001b[39mself\u001b[39;49m\u001b[39m.\u001b[39;49m_sock\u001b[39m.\u001b[39;49mrecv_into(b)\n\u001b[1;32m    705\u001b[0m     \u001b[39mexcept\u001b[39;00m timeout:\n\u001b[1;32m    706\u001b[0m         \u001b[39mself\u001b[39m\u001b[39m.\u001b[39m_timeout_occurred \u001b[39m=\u001b[39m \u001b[39mTrue\u001b[39;00m\n",
      "\u001b[0;31mKeyboardInterrupt\u001b[0m: "
     ]
    }
   ],
   "source": [
    "download_TAMSAT_year(2020)"
   ]
  },
  {
   "cell_type": "code",
   "execution_count": null,
   "metadata": {},
   "outputs": [],
   "source": []
  }
 ],
 "metadata": {
  "kernelspec": {
   "display_name": "Python 3.9.6 64-bit ('venv_SARRA_Py')",
   "language": "python",
   "name": "python3"
  },
  "language_info": {
   "codemirror_mode": {
    "name": "ipython",
    "version": 3
   },
   "file_extension": ".py",
   "mimetype": "text/x-python",
   "name": "python",
   "nbconvert_exporter": "python",
   "pygments_lexer": "ipython3",
   "version": "3.9.6"
  },
  "orig_nbformat": 4,
  "vscode": {
   "interpreter": {
    "hash": "59596bfa884b38bda8229050bd743febcad69ace13cb01a56f57ffd48d5b3a13"
   }
  }
 },
 "nbformat": 4,
 "nbformat_minor": 2
}
