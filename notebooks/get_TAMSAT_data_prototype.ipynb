{
 "cells": [
  {
   "cell_type": "code",
   "execution_count": 1,
   "metadata": {},
   "outputs": [],
   "source": [
    "import datetime\n",
    "from datetime import datetime as dt\n",
    "import requests\n",
    "import xarray as xr "
   ]
  },
  {
   "cell_type": "code",
   "execution_count": 2,
   "metadata": {},
   "outputs": [],
   "source": [
    "def download_TAMSAT_day(query_date, save_path):\n",
    "\n",
    "    query_month = query_date.strftime('%m')\n",
    "    query_day = query_date.strftime('%d')\n",
    "\n",
    "    URL_filename = str(query_date.year)+\"/\"+str(query_month)+\"/rfe\"+str(query_date.year)+\"_\"+str(query_month)+\"_\"+str(query_day)+\".v3.1.nc\"\n",
    "    URL_full = \"http://www.tamsat.org.uk/public_data/data/v3.1/daily/\"+URL_filename\n",
    "\n",
    "    response = requests.get(URL_full)\n",
    "    save_filename = \"TAMSAT_\"+URL_filename.replace(\"/\",\"_\")\n",
    "    open(os.path.join(save_path,save_filename), \"wb\").write(response.content)"
   ]
  },
  {
   "cell_type": "code",
   "execution_count": 3,
   "metadata": {},
   "outputs": [],
   "source": [
    "def crop_and_save_TAMSAT_day(query_date, area, selected_area):\n",
    "\n",
    "    query_month = query_date.strftime('%m')\n",
    "    query_day = query_date.strftime('%d')\n",
    "    URL_filename = str(query_date.year)+\"/\"+str(query_month)+\"/rfe\"+str(query_date.year)+\"_\"+str(query_month)+\"_\"+str(query_day)+\".v3.1.nc\"\n",
    "    save_filename = \"TAMSAT_\"+URL_filename.replace(\"/\",\"_\")\n",
    "    nc_file_content = xr.open_dataset(os.path.join(save_path,save_filename))\n",
    "\n",
    "    xarray_variable_name = \"rfe_filled\"\n",
    "\n",
    "    # cropping\n",
    "    nc_file_content = nc_file_content.where((nc_file_content.lat < area[selected_area][0])\n",
    "                            & (nc_file_content.lat > area[selected_area][2])\n",
    "                            & (nc_file_content.lon > area[selected_area][1])\n",
    "                            & (nc_file_content.lon < area[selected_area][3])\n",
    "                        ).dropna(dim='lat', how='all').dropna(dim='lon', how='all')\n",
    "\n",
    "    bT = nc_file_content[xarray_variable_name]\n",
    "    bT = bT.rio.set_spatial_dims(x_dim='lon', y_dim='lat')\n",
    "    bT.rio.crs\n",
    "    bT.rio.write_crs(\"epsg:4326\", inplace=True)\n",
    "    output_filename = \"TAMSAT_v3.1_\"+selected_area+\"_\"+xarray_variable_name+\"_\"+str(query_date.year)+\"_\"+str(query_month)+\"_\"+str(query_day)+\".tif\"\n",
    "    output_path = \"../data/3_output/TAMSAT_v3.1_\"+selected_area+\"_\"+xarray_variable_name+\"/\"\n",
    "\n",
    "    if not os.path.exists(output_path):\n",
    "        os.makedirs(output_path)\n",
    "\n",
    "    bT.rio.to_raster(os.path.join(output_path,output_filename))"
   ]
  },
  {
   "cell_type": "markdown",
   "metadata": {},
   "source": [
    "## Download previous month"
   ]
  },
  {
   "cell_type": "code",
   "execution_count": null,
   "metadata": {},
   "outputs": [],
   "source": [
    "def download_TAMSAT_lastmonth(area=area, selected_area=selected_area, save_path=save_path):\n",
    "    query_date = dt.today() - datetime.timedelta(days=8)\n",
    "\n",
    "    for i in range(query_date.day):\n",
    "\n",
    "        query_date_loop = query_date - datetime.timedelta(days=i)\n",
    "\n",
    "        print(\"=== downloading TAMSAT for date\",query_date_loop.date(),\"===\")\n",
    "        download_TAMSAT_day(query_date_loop, save_path)\n",
    "        crop_and_save_TAMSAT_day(query_date_loop, area, selected_area)"
   ]
  },
  {
   "cell_type": "code",
   "execution_count": null,
   "metadata": {},
   "outputs": [],
   "source": [
    "area = {\n",
    "    'burkina': [16, -6, 9, 3],\n",
    "    'west_africa':[29, -20, 3.5, 26]}\n",
    "selected_area = \"burkina\"\n",
    "save_path = \"../data/0_downloads/\"\n",
    "\n",
    "download_TAMSAT_lastmonth()"
   ]
  },
  {
   "cell_type": "markdown",
   "metadata": {},
   "source": [
    "# Download whole year"
   ]
  },
  {
   "cell_type": "code",
   "execution_count": 12,
   "metadata": {},
   "outputs": [],
   "source": [
    "def download_TAMSAT_year(query_year, area=area, selected_area=selected_area, save_path=save_path):\n",
    "    for i in range(365):\n",
    "\n",
    "        query_date_loop = datetime.date(query_year,1,1) + datetime.timedelta(days=i)\n",
    "\n",
    "        print(\"=== downloading TAMSAT for date\",query_date_loop,\"===\")\n",
    "        download_TAMSAT_day(query_date_loop, save_path)\n",
    "        crop_and_save_TAMSAT_day(query_date_loop, area, selected_area)"
   ]
  },
  {
   "cell_type": "code",
   "execution_count": null,
   "metadata": {},
   "outputs": [],
   "source": [
    "area = {\n",
    "    'burkina': [16, -6, 9, 3],\n",
    "    'west_africa':[29, -20, 3.5, 26]}\n",
    "selected_area = \"burkina\"\n",
    "save_path = \"../data/0_downloads/\"\n",
    "\n",
    "download_TAMSAT_year(2022)"
   ]
  }
 ],
 "metadata": {
  "kernelspec": {
   "display_name": "Python 3.9.6 64-bit ('venv_sarra_data_download')",
   "language": "python",
   "name": "python3"
  },
  "language_info": {
   "codemirror_mode": {
    "name": "ipython",
    "version": 3
   },
   "file_extension": ".py",
   "mimetype": "text/x-python",
   "name": "python",
   "nbconvert_exporter": "python",
   "pygments_lexer": "ipython3",
   "version": "3.9.6"
  },
  "orig_nbformat": 4,
  "vscode": {
   "interpreter": {
    "hash": "a619a3e580409126cc44b05b414d75e5414ec3ffa31020c3aba01dc643503166"
   }
  }
 },
 "nbformat": 4,
 "nbformat_minor": 2
}
