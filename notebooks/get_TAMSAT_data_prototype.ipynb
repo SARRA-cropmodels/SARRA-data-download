{
 "cells": [
  {
   "cell_type": "markdown",
   "metadata": {},
   "source": [
    "Produces cropped TAMSAT geotiffs that are usable in SARRA-O as the full TAMSAT geotiffs and produce the exact same results."
   ]
  },
  {
   "cell_type": "markdown",
   "metadata": {},
   "source": [
    "# Imports"
   ]
  },
  {
   "cell_type": "code",
   "execution_count": 1,
   "metadata": {},
   "outputs": [],
   "source": [
    "import os\n",
    "import datetime\n",
    "from datetime import datetime as dt\n",
    "import requests\n",
    "import xarray as xr \n",
    "from tqdm import tqdm as tqdm"
   ]
  },
  {
   "attachments": {},
   "cell_type": "markdown",
   "metadata": {},
   "source": [
    "# Functions definition"
   ]
  },
  {
   "cell_type": "code",
   "execution_count": 2,
   "metadata": {},
   "outputs": [],
   "source": [
    "def download_TAMSAT_day(query_date, save_path):\n",
    "\n",
    "    query_month = query_date.strftime('%m')\n",
    "    query_day = query_date.strftime('%d')\n",
    "\n",
    "    URL_filename = str(query_date.year)+\"/\"+str(query_month)+\"/rfe\"+str(query_date.year)+\"_\"+str(query_month)+\"_\"+str(query_day)+\".v3.1.nc\"\n",
    "    URL_full = \"http://www.tamsat.org.uk/public_data/data/v3.1/daily/\"+URL_filename\n",
    "\n",
    "    response = requests.get(URL_full)\n",
    "    save_filename = \"TAMSAT_\"+URL_filename.replace(\"/\",\"_\")\n",
    "    open(os.path.join(save_path,save_filename), \"wb\").write(response.content)"
   ]
  },
  {
   "cell_type": "code",
   "execution_count": 3,
   "metadata": {},
   "outputs": [],
   "source": [
    "def crop_and_save_TAMSAT_day(query_date, area, selected_area):\n",
    "\n",
    "    query_month = query_date.strftime('%m')\n",
    "    query_day = query_date.strftime('%d')\n",
    "    URL_filename = str(query_date.year)+\"/\"+str(query_month)+\"/rfe\"+str(query_date.year)+\"_\"+str(query_month)+\"_\"+str(query_day)+\".v3.1.nc\"\n",
    "    save_filename = \"TAMSAT_\"+URL_filename.replace(\"/\",\"_\")\n",
    "    nc_file_content = xr.open_dataset(os.path.join(save_path,save_filename))\n",
    "\n",
    "    xarray_variable_name = \"rfe_filled\"\n",
    "\n",
    "    # cropping\n",
    "    nc_file_content = nc_file_content.where((nc_file_content.lat < area[selected_area][0])\n",
    "                            & (nc_file_content.lat > area[selected_area][2])\n",
    "                            & (nc_file_content.lon > area[selected_area][1])\n",
    "                            & (nc_file_content.lon < area[selected_area][3])\n",
    "                        ).dropna(dim='lat', how='all').dropna(dim='lon', how='all')\n",
    "\n",
    "    bT = nc_file_content[xarray_variable_name]\n",
    "    bT = bT.rio.set_spatial_dims(x_dim='lon', y_dim='lat')\n",
    "    bT.rio.crs\n",
    "    bT.rio.write_crs(\"epsg:4326\", inplace=True)\n",
    "    output_filename = \"TAMSAT_v3.1_\"+selected_area+\"_\"+xarray_variable_name+\"_\"+str(query_date.year)+\"_\"+str(query_month)+\"_\"+str(query_day)+\".tif\"\n",
    "    output_path = \"../data/3_output/TAMSAT_v3.1_\"+selected_area+\"_\"+xarray_variable_name+\"/\"\n",
    "\n",
    "    if not os.path.exists(output_path):\n",
    "        os.makedirs(output_path)\n",
    "\n",
    "    bT.rio.to_raster(os.path.join(output_path,output_filename))"
   ]
  },
  {
   "cell_type": "code",
   "execution_count": 4,
   "metadata": {},
   "outputs": [],
   "source": [
    "def download_TAMSAT_lastmonth(area, selected_area, save_path):\n",
    "    query_date = dt.today() - datetime.timedelta(days=8)\n",
    "\n",
    "    for i in range(query_date.day):\n",
    "\n",
    "        query_date_loop = query_date - datetime.timedelta(days=i)\n",
    "\n",
    "        # print(\"=== downloading TAMSAT for date\",query_date_loop.date(),\"===\")\n",
    "        download_TAMSAT_day(query_date_loop, save_path)\n",
    "        crop_and_save_TAMSAT_day(query_date_loop, area, selected_area)"
   ]
  },
  {
   "cell_type": "code",
   "execution_count": 5,
   "metadata": {},
   "outputs": [],
   "source": [
    "def download_TAMSAT_year(query_year, area, selected_area, save_path):\n",
    "\n",
    "    end_date = datetime.date(query_year,12,31)\n",
    "    start_date = datetime.date(query_year,1,1)\n",
    "    num_days = (end_date-start_date).days\n",
    "    \n",
    "    for num_day in tqdm(range(num_days+1)) :\n",
    "\n",
    "        query_date_loop = datetime.date(query_year,1,1) + datetime.timedelta(days=num_day)\n",
    "\n",
    "        #print(\"=== downloading TAMSAT for date\",query_date_loop,\"===\")\n",
    "        try:\n",
    "            download_TAMSAT_day(query_date_loop, save_path)\n",
    "            crop_and_save_TAMSAT_day(query_date_loop, area, selected_area)\n",
    "        except:\n",
    "            pass"
   ]
  },
  {
   "attachments": {},
   "cell_type": "markdown",
   "metadata": {},
   "source": [
    "# Run"
   ]
  },
  {
   "cell_type": "code",
   "execution_count": 6,
   "metadata": {},
   "outputs": [],
   "source": [
    "# coordinates of area : lat NW, lon NW, lat SE, lon SE\n",
    "area = {\n",
    "    'burkina': [16, -6, 9, 3],\n",
    "    'niger':[23.8, -0.5, 11.3, 15.9],\n",
    "    'west_africa':[29, -20, 3.5, 26]}\n",
    "\n",
    "selected_area = \"burkina\"\n",
    "\n",
    "save_path = \"../data/3_output/\""
   ]
  },
  {
   "cell_type": "code",
   "execution_count": 7,
   "metadata": {},
   "outputs": [
    {
     "name": "stderr",
     "output_type": "stream",
     "text": [
      "100%|██████████| 365/365 [03:47<00:00,  1.61it/s]\n",
      "100%|██████████| 366/366 [03:30<00:00,  1.74it/s]\n",
      "100%|██████████| 365/365 [04:52<00:00,  1.25it/s]\n",
      "100%|██████████| 365/365 [04:20<00:00,  1.40it/s]\n",
      "100%|██████████| 365/365 [03:51<00:00,  1.57it/s]\n",
      "100%|██████████| 366/366 [03:48<00:00,  1.60it/s]\n",
      "100%|██████████| 365/365 [03:40<00:00,  1.65it/s]\n",
      "100%|██████████| 365/365 [03:45<00:00,  1.62it/s]\n",
      "100%|██████████| 365/365 [03:54<00:00,  1.56it/s]\n",
      "100%|██████████| 366/366 [04:04<00:00,  1.50it/s]\n",
      "100%|██████████| 365/365 [03:32<00:00,  1.72it/s]\n",
      "100%|██████████| 365/365 [03:37<00:00,  1.68it/s]\n",
      "100%|██████████| 365/365 [03:33<00:00,  1.71it/s]\n",
      "100%|██████████| 366/366 [03:58<00:00,  1.53it/s]\n",
      "100%|██████████| 365/365 [03:54<00:00,  1.56it/s]\n",
      "100%|██████████| 365/365 [03:51<00:00,  1.58it/s]\n",
      "100%|██████████| 365/365 [03:39<00:00,  1.67it/s]\n",
      "100%|██████████| 366/366 [04:03<00:00,  1.51it/s]\n",
      "100%|██████████| 365/365 [04:03<00:00,  1.50it/s]\n",
      "100%|██████████| 365/365 [03:50<00:00,  1.58it/s]\n",
      "100%|██████████| 365/365 [05:08<00:00,  1.18it/s]\n",
      "100%|██████████| 366/366 [05:46<00:00,  1.06it/s]\n",
      "100%|██████████| 365/365 [05:58<00:00,  1.02it/s]\n",
      "100%|██████████| 365/365 [05:37<00:00,  1.08it/s]\n"
     ]
    }
   ],
   "source": [
    "for year in range(1995,2019):\n",
    "    query_date = datetime.date(year,1,1) # will run for whole year\n",
    "    download_TAMSAT_year(year, area, selected_area, save_path)"
   ]
  },
  {
   "cell_type": "code",
   "execution_count": null,
   "metadata": {},
   "outputs": [],
   "source": []
  }
 ],
 "metadata": {
  "kernelspec": {
   "display_name": "venv_SARRA_Py",
   "language": "python",
   "name": "python3"
  },
  "language_info": {
   "codemirror_mode": {
    "name": "ipython",
    "version": 3
   },
   "file_extension": ".py",
   "mimetype": "text/x-python",
   "name": "python",
   "nbconvert_exporter": "python",
   "pygments_lexer": "ipython3",
   "version": "3.9.6"
  },
  "orig_nbformat": 4,
  "vscode": {
   "interpreter": {
    "hash": "59596bfa884b38bda8229050bd743febcad69ace13cb01a56f57ffd48d5b3a13"
   }
  }
 },
 "nbformat": 4,
 "nbformat_minor": 2
}
