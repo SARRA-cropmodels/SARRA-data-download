{
 "cells": [
  {
   "attachments": {},
   "cell_type": "markdown",
   "metadata": {},
   "source": [
    "# Get AgERA5 data"
   ]
  },
  {
   "attachments": {},
   "cell_type": "markdown",
   "metadata": {},
   "source": [
    "This notebook allows for downloading of daily AgERA5 climate data from the [Copernicus Climate Data Store (CDS)](https://cds.climate.copernicus.eu/#!/home), and preprocessing for their direct use in crop simulation models of the SARRA family. The output format is a series of geotiff files, one per variable and per day.\n",
    "\n",
    "The cdsapi package is used to download data from CDS. This has the advantage of magaging the caching of already passed requests, thus to speed up the downloading process.\n",
    "\n",
    "AgERA5 data should be produced daily, with a 7-day lag, according to the [AgERA-5 frequency update](https://confluence.ecmwf.int/display/CUSF/AgERA-5+frequency+update) documentation.\n",
    "\n",
    "Before running the notebook for the first time, [follow these instructions](https://cds.climate.copernicus.eu/api-how-to) to setup a Copernicus Climate Data Store API key on your machine, and accept [Copernicus Terms of Service](https://cds.climate.copernicus.eu/cdsapp/#!/terms/licence-to-use-copernicus-products).\n",
    "\n",
    "The output files should be stored in the './data/3_output/' directory."
   ]
  },
  {
   "attachments": {},
   "cell_type": "markdown",
   "metadata": {},
   "source": [
    "## 1. Imports"
   ]
  },
  {
   "cell_type": "code",
   "execution_count": 1,
   "metadata": {},
   "outputs": [],
   "source": [
    "import sys\n",
    "sys.path.append('../src/SARRA_data_download/')\n",
    "from get_AgERA5_data import *"
   ]
  },
  {
   "attachments": {},
   "cell_type": "markdown",
   "metadata": {},
   "source": [
    "## 2. Parameters"
   ]
  },
  {
   "cell_type": "code",
   "execution_count": 4,
   "metadata": {},
   "outputs": [],
   "source": [
    "# defining dictionary of coordinates for areas of interest\n",
    "# bounding box coordinates format : [lat NW, lon NW, lat SE, lon SE]\n",
    "area = {\n",
    "    'burkina': [16, -6, 9, 3],\n",
    "    'niger':[23.8, -0.5, 11.3, 15.9],\n",
    "    'west_africa':[29, -20, 3.5, 26]}\n",
    "\n",
    "# selecting area of interest\n",
    "selected_area = \"niger\"\n",
    "\n",
    "# selecting year of interest\n",
    "query_year = 2019\n",
    "\n",
    "# defining save path\n",
    "save_path = \"../data/\"\n",
    "\n",
    "# defining the output data version\n",
    "# if SARRA-O, units of global radiation will be in  W/m²\n",
    "# if SARRA-Py, units of global radiation will be in kJ/m²/d\n",
    "version = \"SARRA-Py\""
   ]
  },
  {
   "attachments": {},
   "cell_type": "markdown",
   "metadata": {},
   "source": [
    "## 3. Run"
   ]
  },
  {
   "cell_type": "code",
   "execution_count": null,
   "metadata": {},
   "outputs": [],
   "source": [
    "download_AgERA5_year(query_year, area, selected_area, save_path, version)"
   ]
  }
 ],
 "metadata": {
  "kernelspec": {
   "display_name": "venv_sarra_data_download",
   "language": "python",
   "name": "python3"
  },
  "language_info": {
   "codemirror_mode": {
    "name": "ipython",
    "version": 3
   },
   "file_extension": ".py",
   "mimetype": "text/x-python",
   "name": "python",
   "nbconvert_exporter": "python",
   "pygments_lexer": "ipython3",
   "version": "3.9.6"
  },
  "orig_nbformat": 4,
  "vscode": {
   "interpreter": {
    "hash": "8a5edab282632443219e051e4ade2d1d5bbc671c781051bf1437897cbdfea0f1"
   }
  }
 },
 "nbformat": 4,
 "nbformat_minor": 2
}
