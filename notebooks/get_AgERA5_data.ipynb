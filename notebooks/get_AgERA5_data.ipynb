{
 "cells": [
  {
   "attachments": {},
   "cell_type": "markdown",
   "metadata": {},
   "source": [
    "# Get AgERA5 data"
   ]
  },
  {
   "attachments": {},
   "cell_type": "markdown",
   "metadata": {},
   "source": [
    "This notebook allows for downloading of daily AgERA5 climate data from the [Copernicus Climate Data Store (CDS)](https://cds.climate.copernicus.eu/#!/home), and preprocessing for their direct use in crop simulation models of the SARRA family. The output format is a series of geotiff files, one per variable and per day.\n",
    "\n",
    "The cdsapi package is used to download data from CDS. This has the advantage of magaging the caching of already passed requests, thus to speed up the downloading process.\n",
    "\n",
    "AgERA5 data should be produced daily, with a 7-day lag, according to the [AgERA-5 frequency update](https://confluence.ecmwf.int/display/CUSF/AgERA-5+frequency+update) documentation.\n",
    "\n",
    "Before running the notebook for the first time, [follow these instructions](https://cds.climate.copernicus.eu/api-how-to) to setup a Copernicus Climate Data Store API key on your machine, and accept [Copernicus Terms of Service](https://cds.climate.copernicus.eu/cdsapp/#!/terms/licence-to-use-copernicus-products).\n",
    "\n",
    "The output files should be stored in the './data/3_output/' directory."
   ]
  },
  {
   "attachments": {},
   "cell_type": "markdown",
   "metadata": {},
   "source": [
    "## 1. Imports"
   ]
  },
  {
   "cell_type": "code",
   "execution_count": 1,
   "metadata": {},
   "outputs": [],
   "source": [
    "import sys\n",
    "sys.path.append('../src/SARRA_data_download/')\n",
    "from get_AgERA5_data import *"
   ]
  },
  {
   "attachments": {},
   "cell_type": "markdown",
   "metadata": {},
   "source": [
    "## 2. Parameters"
   ]
  },
  {
   "cell_type": "code",
   "execution_count": 2,
   "metadata": {},
   "outputs": [],
   "source": [
    "# defining dictionary of coordinates for areas of interest\n",
    "# bounding box coordinates format : [lat NW, lon NW, lat SE, lon SE]\n",
    "area = {\n",
    "    'burkina': [16, -6, 9, 3],\n",
    "    'niger':[23.8, -0.5, 11.3, 15.9],\n",
    "    'west_africa':[29, -20, 3.5, 26]}\n",
    "\n",
    "# selecting area of interest\n",
    "selected_area = \"burkina\"\n",
    "\n",
    "# selecting year of interest\n",
    "query_year = 2020\n",
    "\n",
    "# defining save path\n",
    "save_path = \"../data/\""
   ]
  },
  {
   "attachments": {},
   "cell_type": "markdown",
   "metadata": {},
   "source": [
    "## 3. Run"
   ]
  },
  {
   "cell_type": "code",
   "execution_count": 3,
   "metadata": {},
   "outputs": [
    {
     "name": "stdout",
     "output_type": "stream",
     "text": [
      "===== download_AgERA5_data =====\n",
      "Mode 'year' acknowledged. Will download data for year 2020\n",
      "Please note that last available date on AgERA5 should be 2023-03-22\n"
     ]
    },
    {
     "name": "stderr",
     "output_type": "stream",
     "text": [
      "2023-03-30 15:30:34,767 INFO Welcome to the CDS\n",
      "2023-03-30 15:30:34,768 INFO Sending request to https://cds.climate.copernicus.eu/api/v2/resources/sis-agrometeorological-indicators\n",
      "2023-03-30 15:30:34,854 INFO Request is completed\n",
      "2023-03-30 15:30:34,855 INFO Downloading https://download-0020.copernicus-climate.eu/cache-compute-0020/cache/data9/dataset-sis-agrometeorological-indicators-ab6c914a-9fd0-437f-8a79-4e1b02b6b20c.zip to ../data/0_downloads/AgERA5_burkina_2m_temperature_24_hour_minimum_2020.zip (13.1M)\n",
      "2023-03-30 15:30:37,278 INFO Download rate 5.4M/s   \n",
      "2023-03-30 15:30:37,359 INFO Welcome to the CDS\n",
      "2023-03-30 15:30:37,360 INFO Sending request to https://cds.climate.copernicus.eu/api/v2/resources/sis-agrometeorological-indicators\n",
      "2023-03-30 15:30:37,450 INFO Downloading https://download-0020.copernicus-climate.eu/cache-compute-0020/cache/data5/dataset-sis-agrometeorological-indicators-b64e763e-de43-4737-94be-5bae40aac98d.zip to ../data/0_downloads/AgERA5_burkina_2m_temperature_24_hour_maximum_2020.zip (13M)\n"
     ]
    },
    {
     "name": "stdout",
     "output_type": "stream",
     "text": [
      "Download OK\n"
     ]
    },
    {
     "name": "stderr",
     "output_type": "stream",
     "text": [
      "2023-03-30 15:30:40,721 INFO Download rate 4M/s     \n",
      "2023-03-30 15:30:40,809 INFO Welcome to the CDS\n",
      "2023-03-30 15:30:40,810 INFO Sending request to https://cds.climate.copernicus.eu/api/v2/resources/sis-agrometeorological-indicators\n",
      "2023-03-30 15:30:40,901 INFO Downloading https://download-0011-clone.copernicus-climate.eu/cache-compute-0011/cache/data4/dataset-sis-agrometeorological-indicators-073c7857-35b6-426a-886e-fa8702e0012f.zip to ../data/0_downloads/AgERA5_burkina_solar_radiation_flux_daily_2020.zip (13.9M)\n"
     ]
    },
    {
     "name": "stdout",
     "output_type": "stream",
     "text": [
      "Download OK\n"
     ]
    },
    {
     "name": "stderr",
     "output_type": "stream",
     "text": [
      "2023-03-30 15:30:43,193 INFO Download rate 6.1M/s   \n",
      "2023-03-30 15:30:43,274 INFO Welcome to the CDS\n",
      "2023-03-30 15:30:43,275 INFO Sending request to https://cds.climate.copernicus.eu/api/v2/resources/sis-agrometeorological-indicators\n",
      "2023-03-30 15:30:43,363 INFO Downloading https://download-0020.copernicus-climate.eu/cache-compute-0020/cache/data6/dataset-sis-agrometeorological-indicators-68bb92bf-48f6-4934-97f3-89872da194ed.zip to ../data/0_downloads/AgERA5_burkina_vapour_pressure_24_hour_mean_2020.zip (14.6M)\n"
     ]
    },
    {
     "name": "stdout",
     "output_type": "stream",
     "text": [
      "Download OK\n"
     ]
    },
    {
     "name": "stderr",
     "output_type": "stream",
     "text": [
      "2023-03-30 15:30:48,738 INFO Download rate 2.7M/s   \n",
      "2023-03-30 15:30:48,822 INFO Welcome to the CDS\n",
      "2023-03-30 15:30:48,823 INFO Sending request to https://cds.climate.copernicus.eu/api/v2/resources/sis-agrometeorological-indicators\n",
      "2023-03-30 15:30:48,893 INFO Downloading https://download-0010-clone.copernicus-climate.eu/cache-compute-0010/cache/data0/dataset-sis-agrometeorological-indicators-bee2f943-a5a0-489e-b45d-fdee178269af.zip to ../data/0_downloads/AgERA5_burkina_10m_wind_speed_24_hour_mean_2020.zip (14.9M)\n"
     ]
    },
    {
     "name": "stdout",
     "output_type": "stream",
     "text": [
      "Download OK\n"
     ]
    },
    {
     "name": "stderr",
     "output_type": "stream",
     "text": [
      "2023-03-30 15:30:51,543 INFO Download rate 5.6M/s   \n",
      "2023-03-30 15:30:51,624 INFO Welcome to the CDS\n",
      "2023-03-30 15:30:51,625 INFO Sending request to https://cds.climate.copernicus.eu/api/v2/resources/sis-agrometeorological-indicators\n",
      "2023-03-30 15:30:51,735 INFO Downloading https://download-0018.copernicus-climate.eu/cache-compute-0018/cache/data5/dataset-sis-agrometeorological-indicators-a5e8c73b-dca2-4f70-aac6-85bc7cdbb16f.zip to ../data/0_downloads/AgERA5_burkina_2m_temperature_24_hour_mean_2020.zip (13M)\n"
     ]
    },
    {
     "name": "stdout",
     "output_type": "stream",
     "text": [
      "Download OK\n"
     ]
    },
    {
     "name": "stderr",
     "output_type": "stream",
     "text": [
      "2023-03-30 15:30:54,137 INFO Download rate 5.4M/s   \n"
     ]
    },
    {
     "name": "stdout",
     "output_type": "stream",
     "text": [
      "Download OK\n",
      "===== extract_agERA5_month =====\n"
     ]
    },
    {
     "name": "stderr",
     "output_type": "stream",
     "text": [
      "100%|██████████| 6/6 [00:11<00:00,  1.85s/it]\n"
     ]
    },
    {
     "name": "stdout",
     "output_type": "stream",
     "text": [
      "Extraction OK\n",
      "===== convert_AgERA5_netcdf_to_geotiff =====\n"
     ]
    },
    {
     "name": "stderr",
     "output_type": "stream",
     "text": [
      "100%|██████████| 366/366 [00:18<00:00, 19.68it/s]\n",
      "100%|██████████| 366/366 [00:17<00:00, 20.92it/s]\n",
      "100%|██████████| 366/366 [00:16<00:00, 22.13it/s]\n",
      "100%|██████████| 366/366 [00:16<00:00, 21.60it/s]\n",
      "100%|██████████| 366/366 [00:18<00:00, 19.32it/s]\n",
      "100%|██████████| 366/366 [00:18<00:00, 19.58it/s]\n"
     ]
    },
    {
     "name": "stdout",
     "output_type": "stream",
     "text": [
      "===== calculate_AgERA5_ET0_and_save =====\n"
     ]
    },
    {
     "name": "stderr",
     "output_type": "stream",
     "text": [
      "100%|██████████| 366/366 [00:45<00:00,  8.10it/s]"
     ]
    },
    {
     "name": "stdout",
     "output_type": "stream",
     "text": [
      "===== Query date 2020-01-01 all done ! =====\n"
     ]
    },
    {
     "name": "stderr",
     "output_type": "stream",
     "text": [
      "\n"
     ]
    }
   ],
   "source": [
    "download_AgERA5_year(query_year, area, selected_area, save_path)"
   ]
  }
 ],
 "metadata": {
  "kernelspec": {
   "display_name": "venv_sarra_data_download",
   "language": "python",
   "name": "python3"
  },
  "language_info": {
   "codemirror_mode": {
    "name": "ipython",
    "version": 3
   },
   "file_extension": ".py",
   "mimetype": "text/x-python",
   "name": "python",
   "nbconvert_exporter": "python",
   "pygments_lexer": "ipython3",
   "version": "3.9.6"
  },
  "orig_nbformat": 4,
  "vscode": {
   "interpreter": {
    "hash": "8a5edab282632443219e051e4ade2d1d5bbc671c781051bf1437897cbdfea0f1"
   }
  }
 },
 "nbformat": 4,
 "nbformat_minor": 2
}
