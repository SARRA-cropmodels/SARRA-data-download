{
 "cells": [
  {
   "cell_type": "raw",
   "metadata": {},
   "source": [
    "# surface air temp\n",
    "https://tahmo.org/wp-content/uploads/graphs/TA00102_te_D.csv\n",
    "\n",
    "# rh\n",
    "https://tahmo.org/wp-content/uploads/graphs/TA00102_rh_D.csv\n",
    "\n",
    "# precipitations\n",
    "https://tahmo.org/wp-content/uploads/graphs/TA00102_pr_D.csv\n",
    "\n",
    "# air pressure, kPa\n",
    "https://tahmo.org/wp-content/uploads/graphs/TA00102_ap_D.csv\n",
    "\n",
    "# shortware radiation, W/m2\n",
    "https://tahmo.org/wp-content/uploads/graphs/TA00102_ra_D.csv\n",
    "\n",
    "# wind speed, m/s\n",
    "https://tahmo.org/wp-content/uploads/graphs/TA00102_ws_D.csv\n",
    "\n",
    "#wind direction \n",
    "https://tahmo.org/wp-content/uploads/graphs/TA00102_wd_D.csv\n",
    "\n",
    "# wind gusts\n",
    "https://tahmo.org/wp-content/uploads/graphs/TA00102_wg_D.csv"
   ]
  },
  {
   "cell_type": "code",
   "execution_count": 7,
   "metadata": {},
   "outputs": [
    {
     "name": "stdout",
     "output_type": "stream",
     "text": [
      "station TA00102\n"
     ]
    },
    {
     "name": "stderr",
     "output_type": "stream",
     "text": [
      "100%|██████████| 6/6 [00:12<00:00,  2.03s/it]\n"
     ]
    },
    {
     "name": "stdout",
     "output_type": "stream",
     "text": [
      "station TA00581\n"
     ]
    },
    {
     "name": "stderr",
     "output_type": "stream",
     "text": [
      "100%|██████████| 6/6 [00:05<00:00,  1.17it/s]\n"
     ]
    },
    {
     "name": "stdout",
     "output_type": "stream",
     "text": [
      "station TA00052\n"
     ]
    },
    {
     "name": "stderr",
     "output_type": "stream",
     "text": [
      "100%|██████████| 6/6 [00:04<00:00,  1.41it/s]\n"
     ]
    },
    {
     "name": "stdout",
     "output_type": "stream",
     "text": [
      "station TA00085\n"
     ]
    },
    {
     "name": "stderr",
     "output_type": "stream",
     "text": [
      "100%|██████████| 6/6 [00:04<00:00,  1.30it/s]\n"
     ]
    },
    {
     "name": "stdout",
     "output_type": "stream",
     "text": [
      "station TA00083\n"
     ]
    },
    {
     "name": "stderr",
     "output_type": "stream",
     "text": [
      "100%|██████████| 6/6 [00:04<00:00,  1.40it/s]\n"
     ]
    }
   ],
   "source": [
    "import urllib.request\n",
    "from tqdm import tqdm as tqdm\n",
    "\n",
    "stations = [\"TA00102\", \"TA00581\", \"TA00052\", \"TA00085\", \"TA00083\"]\n",
    "variables = [\"te\",\"rh\",\"pr\",\"ap\",\"ra\",\"ws\"]\n",
    "URL = \"https://tahmo.org/wp-content/uploads/graphs/\"\n",
    "\n",
    "\n",
    "for station_code in stations :\n",
    "    print(\"station\",station_code)\n",
    "    for variable in tqdm(variables):\n",
    "        filename = station_code+\"_\"+variable+\"_D.csv\"\n",
    "        urllib.request.urlretrieve(URL+filename, \"../data/3_output/TAHMO/\"+filename)"
   ]
  },
  {
   "cell_type": "code",
   "execution_count": null,
   "metadata": {},
   "outputs": [],
   "source": [
    "for station_code in stations :\n",
    "    for variable in tqdm(variables):\n",
    "        "
   ]
  }
 ],
 "metadata": {
  "kernelspec": {
   "display_name": "Python 3.9.6 64-bit ('venv_sarra_data_download')",
   "language": "python",
   "name": "python3"
  },
  "language_info": {
   "codemirror_mode": {
    "name": "ipython",
    "version": 3
   },
   "file_extension": ".py",
   "mimetype": "text/x-python",
   "name": "python",
   "nbconvert_exporter": "python",
   "pygments_lexer": "ipython3",
   "version": "3.9.6"
  },
  "orig_nbformat": 4,
  "vscode": {
   "interpreter": {
    "hash": "a619a3e580409126cc44b05b414d75e5414ec3ffa31020c3aba01dc643503166"
   }
  }
 },
 "nbformat": 4,
 "nbformat_minor": 2
}
