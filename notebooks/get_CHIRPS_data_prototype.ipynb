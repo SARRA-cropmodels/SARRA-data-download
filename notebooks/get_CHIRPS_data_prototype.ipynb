{
 "cells": [
  {
   "cell_type": "code",
   "execution_count": 27,
   "metadata": {},
   "outputs": [],
   "source": [
    "import datetime\n",
    "from datetime import datetime as dt\n",
    "import requests\n",
    "import xarray as xr \n",
    "import gzip\n",
    "import shutil\n",
    "import calendar\n",
    "from tqdm import tqdm\n",
    "import rioxarray"
   ]
  },
  {
   "cell_type": "markdown",
   "metadata": {},
   "source": [
    "# Functions definition"
   ]
  },
  {
   "cell_type": "code",
   "execution_count": 28,
   "metadata": {},
   "outputs": [],
   "source": [
    "def build_CHIRPS_filename(query_date, selected_area=None):\n",
    "    # returns filename with proper naming convention\n",
    "\n",
    "    query_day = query_date.strftime('%d')\n",
    "    query_month = query_date.strftime('%m')\n",
    "    query_year = query_date.strftime('%Y')\n",
    "\n",
    "    if selected_area == None :\n",
    "        filename = \"CHIRPS_v2.0_Africa_\"+query_year+\"_\"+query_month+\"_\"+query_day\n",
    "    else :\n",
    "        filename = \"CHIRPS_v2.0_Africa_\"+selected_area+\"_\"+query_year+\"_\"+query_month+\"_\"+query_day\n",
    "\n",
    "    return filename"
   ]
  },
  {
   "cell_type": "code",
   "execution_count": 42,
   "metadata": {},
   "outputs": [],
   "source": [
    "def download_CHIRPS_day(query_date, download_path=\"../data/0_downloads/\"):\n",
    "    \"\"\"\n",
    "    query_date datetime.eate\n",
    "    \"\"\"\n",
    "    # https://data.chc.ucsb.edu/products/CHIRPS-2.0/africa_daily/tifs/p05/2022/chirps-v2.0.2022.01.11.tif.gz\n",
    "\n",
    "    query_day = query_date.strftime('%d')\n",
    "    query_month = query_date.strftime('%m')\n",
    "    query_year = query_date.strftime('%Y')\n",
    "\n",
    "    URL_filename = \"chirps-v2.0.\"+query_year+\".\"+query_month+\".\"+query_day+\".tif.gz\"\n",
    "    URL_full = \"https://data.chc.ucsb.edu/products/CHIRPS-2.0/africa_daily/tifs/p05/\"+query_year+\"/\"+URL_filename\n",
    "\n",
    "    save_filename = build_CHIRPS_filename(query_date)+\".tif.gz\"\n",
    "\n",
    "    # il file already exists, we do not download it\n",
    "    if os.path.isfile(os.path.join(download_path,save_filename)) == True :\n",
    "        print(\"file already exists. skipping download\")\n",
    "    else:\n",
    "        response = requests.get(URL_full)\n",
    "        open(os.path.join(download_path,save_filename), \"wb\").write(response.content)"
   ]
  },
  {
   "cell_type": "code",
   "execution_count": 43,
   "metadata": {},
   "outputs": [],
   "source": [
    "def extract_CHIRPS_data(query_date, origin_path=\"../data/0_downloads/\", dest_path='../data/1_extraction/CHIRPS_v2.0_Africa/'):\n",
    "    \"\"\"\n",
    "    uqery must be datetime.date\n",
    "    \"\"\"\n",
    "\n",
    "    origin_filename = build_CHIRPS_filename(query_date)+\".tif.gz\"\n",
    "    origin_full_path = os.path.join(origin_path,origin_filename)\n",
    "\n",
    "    dest_filename = build_CHIRPS_filename(query_date)+\".tif\"\n",
    "    dest_full_path = dest_path + dest_filename\n",
    "\n",
    "    if not os.path.exists(dest_path):\n",
    "        os.makedirs(dest_path)\n",
    "\n",
    "    with gzip.open(origin_full_path, 'rb') as f_in:\n",
    "        with open(dest_full_path, 'wb') as f_out:\n",
    "            shutil.copyfileobj(f_in, f_out)"
   ]
  },
  {
   "cell_type": "code",
   "execution_count": 44,
   "metadata": {},
   "outputs": [],
   "source": [
    "def crop_and_save_CHIRPS_day(query_date, area, selected_area, extraction_path='../data/1_extraction/CHIRPS_v2.0_Africa/', save_path=\"../data/3_output/\"):\n",
    "\n",
    "    nc_file_content = rioxarray.open_rasterio(os.path.join(extraction_path,build_CHIRPS_filename(query_date)+\".tif\"))\n",
    "\n",
    "    nc_file_content = nc_file_content.rio.clip_box(\n",
    "        minx=area[selected_area][1],\n",
    "        miny=area[selected_area][2],\n",
    "        maxx=area[selected_area][3],\n",
    "        maxy=area[selected_area][0],\n",
    "    )\n",
    "\n",
    "    output_filename = build_CHIRPS_filename(query_date,selected_area)+\".tif\"\n",
    "    output_path = os.path.join(save_path,\"CHIRPS_v2.0_Africa_\"+selected_area)\n",
    "\n",
    "    if not os.path.exists(output_path):\n",
    "        os.makedirs(output_path)\n",
    "\n",
    "    nc_file_content.rio.to_raster(os.path.join(output_path,output_filename))"
   ]
  },
  {
   "cell_type": "code",
   "execution_count": 45,
   "metadata": {},
   "outputs": [],
   "source": [
    "def download_CHIRPS_month(query_date, area, selected_area):\n",
    "\n",
    "    num_days = calendar.monthrange(query_date.year, query_date.month)[1]\n",
    "    days = [datetime.date(query_date.year, query_date.month, day) for day in range(1, num_days+1)]\n",
    "    \n",
    "    for day in tqdm(days) :\n",
    "        download_CHIRPS_day(day)\n",
    "        extract_CHIRPS_data(day)\n",
    "        crop_and_save_CHIRPS_day(day, area, selected_area)"
   ]
  },
  {
   "cell_type": "code",
   "execution_count": 46,
   "metadata": {},
   "outputs": [],
   "source": [
    "def download_CHIRPS_year(query_date, area, selected_area):\n",
    "\n",
    "    end_date = datetime.date(query_date.year,12,31)\n",
    "    start_date = datetime.date(query_date.year,1,1)\n",
    "    num_days = (end_date-start_date).days\n",
    "    \n",
    "    for num_day in tqdm(range(num_days)) :\n",
    "        date = datetime.date(query_date.year,1,1)+datetime.timedelta(days=num_day)\n",
    "        download_CHIRPS_day(date)\n",
    "        extract_CHIRPS_data(date)\n",
    "        crop_and_save_CHIRPS_day(date, area, selected_area)"
   ]
  },
  {
   "cell_type": "markdown",
   "metadata": {},
   "source": [
    "# Run for a single date"
   ]
  },
  {
   "cell_type": "code",
   "execution_count": 47,
   "metadata": {},
   "outputs": [
    {
     "name": "stdout",
     "output_type": "stream",
     "text": [
      "file already exists. skipping download\n"
     ]
    }
   ],
   "source": [
    "area = {\n",
    "    'burkina': [16, -6, 9, 3],\n",
    "    'west_africa':[29, -20, 3.5, 26]}\n",
    "\n",
    "selected_area = \"burkina\"\n",
    "\n",
    "query_date = datetime.date(2022,1,1)\n",
    "\n",
    "download_CHIRPS_day(query_date)\n",
    "extract_CHIRPS_data(query_date)\n",
    "crop_and_save_CHIRPS_day(query_date, area, selected_area)"
   ]
  },
  {
   "cell_type": "markdown",
   "metadata": {},
   "source": [
    "# Run for a whole month"
   ]
  },
  {
   "cell_type": "code",
   "execution_count": null,
   "metadata": {},
   "outputs": [],
   "source": [
    "area = {\n",
    "    'burkina': [16, -6, 9, 3],\n",
    "    'west_africa':[29, -20, 3.5, 26]}\n",
    "\n",
    "selected_area = \"burkina\"\n",
    "\n",
    "query_date = datetime.date(2022,1,1) # will run for Jan, 2021\n",
    "\n",
    "download_CHIRPS_month(query_date, area, selected_area)"
   ]
  },
  {
   "cell_type": "markdown",
   "metadata": {},
   "source": [
    "# Run for a whole year"
   ]
  },
  {
   "cell_type": "code",
   "execution_count": null,
   "metadata": {},
   "outputs": [],
   "source": [
    "area = {\n",
    "    'burkina': [16, -6, 9, 3],\n",
    "    'west_africa':[29, -20, 3.5, 26]}\n",
    "\n",
    "selected_area = \"burkina\"\n",
    "\n",
    "query_date = datetime.date(2022,1,1) # will run for whole 2021\n",
    "\n",
    "download_CHIRPS_year(query_date, area, selected_area)"
   ]
  }
 ],
 "metadata": {
  "kernelspec": {
   "display_name": "Python 3.9.6 64-bit ('venv_SARRA_Py')",
   "language": "python",
   "name": "python3"
  },
  "language_info": {
   "codemirror_mode": {
    "name": "ipython",
    "version": 3
   },
   "file_extension": ".py",
   "mimetype": "text/x-python",
   "name": "python",
   "nbconvert_exporter": "python",
   "pygments_lexer": "ipython3",
   "version": "3.9.6"
  },
  "orig_nbformat": 4,
  "vscode": {
   "interpreter": {
    "hash": "59596bfa884b38bda8229050bd743febcad69ace13cb01a56f57ffd48d5b3a13"
   }
  }
 },
 "nbformat": 4,
 "nbformat_minor": 2
}
