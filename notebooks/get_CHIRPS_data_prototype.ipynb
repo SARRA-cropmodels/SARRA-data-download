{
 "cells": [
  {
   "cell_type": "code",
   "execution_count": 11,
   "metadata": {},
   "outputs": [],
   "source": [
    "import datetime\n",
    "from datetime import datetime as dt\n",
    "import requests\n",
    "import xarray as xr \n",
    "import gzip\n",
    "import shutil\n",
    "import calendar\n",
    "from tqdm import tqdm\n",
    "import rioxarray"
   ]
  },
  {
   "cell_type": "markdown",
   "metadata": {},
   "source": [
    "# Functions definition"
   ]
  },
  {
   "cell_type": "code",
   "execution_count": 58,
   "metadata": {},
   "outputs": [],
   "source": [
    "def build_CHIRPS_filename(query_date, selected_area=None):\n",
    "    # returns filename with proper naming convention\n",
    "\n",
    "    query_day = query_date.strftime('%d')\n",
    "    query_month = query_date.strftime('%m')\n",
    "    query_year = query_date.strftime('%Y')\n",
    "\n",
    "    if selected_area == None :\n",
    "        filename = \"CHIRPS_v2.0_Africa_\"+query_year+\"_\"+query_month+\"_\"+query_day\n",
    "    else :\n",
    "        filename = \"CHIRPS_v2.0_Africa_\"+selected_area+\"_\"+query_year+\"_\"+query_month+\"_\"+query_day\n",
    "\n",
    "    return filename"
   ]
  },
  {
   "cell_type": "code",
   "execution_count": 59,
   "metadata": {},
   "outputs": [],
   "source": [
    "def download_CHIRPS_day(query_date, download_path=\"../data/0_downloads/\"):\n",
    "    \"\"\"\n",
    "    query_date datetime.eate\n",
    "    \"\"\"\n",
    "    # https://data.chc.ucsb.edu/products/CHIRPS-2.0/africa_daily/tifs/p05/2022/chirps-v2.0.2022.01.11.tif.gz\n",
    "\n",
    "    query_day = query_date.strftime('%d')\n",
    "    query_month = query_date.strftime('%m')\n",
    "    query_year = query_date.strftime('%Y')\n",
    "\n",
    "    URL_filename = \"chirps-v2.0.\"+query_year+\".\"+query_month+\".\"+query_day+\".tif.gz\"\n",
    "    URL_full = \"https://data.chc.ucsb.edu/products/CHIRPS-2.0/africa_daily/tifs/p05/\"+query_year+\"/\"+URL_filename\n",
    "\n",
    "    save_filename = build_CHIRPS_filename(query_date)+\".tif.gz\"\n",
    "\n",
    "    # il file already exists, we do not download it\n",
    "    if os.path.isfile(os.path.join(download_path,save_filename)) == True :\n",
    "        # print(\"file already exists. skipping download\")\n",
    "        pass\n",
    "    else:\n",
    "        try:\n",
    "            response = requests.get(URL_full)\n",
    "            if response.status_code != 404:\n",
    "                # if status code is different than 404, we download the file\n",
    "                open(os.path.join(download_path,save_filename), \"wb\").write(response.content)\n",
    "            else:\n",
    "                # hotfix to get images that weren't gzipped during 2021\n",
    "                print(\"download : hotfix for bad gzips\")\n",
    "                response = requests.get(URL_full.replace(\".tif.gz\",\".tif\"))\n",
    "                open(os.path.join(download_path,save_filename.replace(\".tif.gz\",\".tif\")), \"wb\").write(response.content)\n",
    "        except:\n",
    "            print(\"error downloading file\")"
   ]
  },
  {
   "cell_type": "code",
   "execution_count": 60,
   "metadata": {},
   "outputs": [],
   "source": [
    "def extract_CHIRPS_data(query_date, origin_path=\"../data/0_downloads/\", dest_path='../data/1_extraction/CHIRPS_v2.0_Africa/'):\n",
    "    \"\"\"\n",
    "    uqery must be datetime.date\n",
    "    \"\"\"\n",
    "\n",
    "    origin_filename = build_CHIRPS_filename(query_date)+\".tif.gz\"\n",
    "    origin_full_path = os.path.join(origin_path,origin_filename)\n",
    "\n",
    "    dest_filename = build_CHIRPS_filename(query_date)+\".tif\"\n",
    "    dest_full_path = dest_path + dest_filename\n",
    "\n",
    "    if not os.path.exists(dest_path):\n",
    "        os.makedirs(dest_path)\n",
    "\n",
    "    try:\n",
    "        with gzip.open(origin_full_path, 'rb') as f_in:\n",
    "            with open(dest_full_path, 'wb') as f_out:\n",
    "                shutil.copyfileobj(f_in, f_out)\n",
    "    except:\n",
    "        # hotfix to get images that weren't gzipped during 2021\n",
    "        print(\"extraction : hotfix for bad gzips\")\n",
    "        shutil.copyfile(origin_full_path.replace(\".tif.gz\",\".tif\"), dest_full_path)"
   ]
  },
  {
   "cell_type": "code",
   "execution_count": 61,
   "metadata": {},
   "outputs": [],
   "source": [
    "def crop_and_save_CHIRPS_day(query_date, area, selected_area, extraction_path='../data/1_extraction/CHIRPS_v2.0_Africa/', save_path=\"../data/3_output/\"):\n",
    "\n",
    "    nc_file_content = rioxarray.open_rasterio(os.path.join(extraction_path,build_CHIRPS_filename(query_date)+\".tif\"))\n",
    "\n",
    "    nc_file_content = nc_file_content.rio.clip_box(\n",
    "        minx=area[selected_area][1],\n",
    "        miny=area[selected_area][2],\n",
    "        maxx=area[selected_area][3],\n",
    "        maxy=area[selected_area][0],\n",
    "    )\n",
    "\n",
    "    output_filename = build_CHIRPS_filename(query_date,selected_area)+\".tif\"\n",
    "    output_path = os.path.join(save_path,\"CHIRPS_v2.0_Africa_\"+selected_area)\n",
    "\n",
    "    if not os.path.exists(output_path):\n",
    "        os.makedirs(output_path)\n",
    "\n",
    "    nc_file_content.rio.to_raster(os.path.join(output_path,output_filename))"
   ]
  },
  {
   "cell_type": "code",
   "execution_count": 62,
   "metadata": {},
   "outputs": [],
   "source": [
    "def download_CHIRPS_month(query_date, area, selected_area):\n",
    "\n",
    "    num_days = calendar.monthrange(query_date.year, query_date.month)[1]\n",
    "    days = [datetime.date(query_date.year, query_date.month, day) for day in range(1, num_days+1)]\n",
    "    \n",
    "    for day in tqdm(days) :\n",
    "        download_CHIRPS_day(day)\n",
    "        extract_CHIRPS_data(day)\n",
    "        crop_and_save_CHIRPS_day(day, area, selected_area)"
   ]
  },
  {
   "cell_type": "code",
   "execution_count": 63,
   "metadata": {},
   "outputs": [],
   "source": [
    "def download_CHIRPS_year(query_date, area, selected_area):\n",
    "\n",
    "    end_date = datetime.date(query_date.year,12,31)\n",
    "    start_date = datetime.date(query_date.year,1,1)\n",
    "    num_days = (end_date-start_date).days\n",
    "    \n",
    "    for num_day in tqdm(range(num_days+1)) :\n",
    "        try:\n",
    "            date = datetime.date(query_date.year,1,1)+datetime.timedelta(days=num_day)\n",
    "            download_CHIRPS_day(date)\n",
    "            extract_CHIRPS_data(date)\n",
    "            crop_and_save_CHIRPS_day(date, area, selected_area)\n",
    "        except:\n",
    "            print(\"error with day\",num_day)\n",
    "            pass"
   ]
  },
  {
   "cell_type": "markdown",
   "metadata": {},
   "source": [
    "# Run"
   ]
  },
  {
   "attachments": {},
   "cell_type": "markdown",
   "metadata": {},
   "source": [
    "## Single date"
   ]
  },
  {
   "cell_type": "code",
   "execution_count": 64,
   "metadata": {},
   "outputs": [
    {
     "name": "stdout",
     "output_type": "stream",
     "text": [
      "hotfix for bad gzips\n",
      "hotfix for bad gzips\n"
     ]
    }
   ],
   "source": [
    "# coordinates of area : lat NW, lon NW, lat SE, lon SE\n",
    "area = {\n",
    "    'burkina': [16, -6, 9, 3],\n",
    "    'niger':[23.8, -0.5, 11.3, 15.9],\n",
    "    'west_africa':[29, -20, 3.5, 26]}\n",
    "\n",
    "selected_area = \"niger\"\n",
    "\n",
    "query_date = datetime.date(2021,12,1)\n",
    "\n",
    "download_CHIRPS_day(query_date)\n",
    "extract_CHIRPS_data(query_date)\n",
    "crop_and_save_CHIRPS_day(query_date, area, selected_area)"
   ]
  },
  {
   "attachments": {},
   "cell_type": "markdown",
   "metadata": {},
   "source": [
    "## A whole month"
   ]
  },
  {
   "cell_type": "code",
   "execution_count": null,
   "metadata": {},
   "outputs": [],
   "source": [
    "# coordinates of area : lat NW, lon NW, lat SE, lon SE\n",
    "area = {\n",
    "    'burkina': [16, -6, 9, 3],\n",
    "    'niger':[23.8, -0.5, 11.3, 15.9],\n",
    "    'west_africa':[29, -20, 3.5, 26]}\n",
    "\n",
    "selected_area = \"niger\"\n",
    "\n",
    "query_date = datetime.date(2022,1,1) # will run for Jan, 2021\n",
    "\n",
    "download_CHIRPS_month(query_date, area, selected_area)"
   ]
  },
  {
   "attachments": {},
   "cell_type": "markdown",
   "metadata": {},
   "source": [
    "## A whole year"
   ]
  },
  {
   "cell_type": "code",
   "execution_count": 65,
   "metadata": {},
   "outputs": [
    {
     "name": "stderr",
     "output_type": "stream",
     "text": [
      " 92%|█████████▏| 334/364 [01:20<00:07,  3.80it/s]"
     ]
    },
    {
     "name": "stdout",
     "output_type": "stream",
     "text": [
      "hotfix for bad gzips\n"
     ]
    },
    {
     "name": "stderr",
     "output_type": "stream",
     "text": [
      " 92%|█████████▏| 335/364 [01:34<02:02,  4.22s/it]"
     ]
    },
    {
     "name": "stdout",
     "output_type": "stream",
     "text": [
      "hotfix for bad gzips\n",
      "hotfix for bad gzips\n",
      "hotfix for bad gzips\n"
     ]
    },
    {
     "name": "stderr",
     "output_type": "stream",
     "text": [
      " 92%|█████████▏| 336/364 [01:51<03:49,  8.19s/it]"
     ]
    },
    {
     "name": "stdout",
     "output_type": "stream",
     "text": [
      "hotfix for bad gzips\n"
     ]
    },
    {
     "name": "stderr",
     "output_type": "stream",
     "text": [
      " 93%|█████████▎| 337/364 [01:57<03:20,  7.42s/it]"
     ]
    },
    {
     "name": "stdout",
     "output_type": "stream",
     "text": [
      "hotfix for bad gzips\n",
      "hotfix for bad gzips\n"
     ]
    },
    {
     "name": "stderr",
     "output_type": "stream",
     "text": [
      " 93%|█████████▎| 338/364 [02:12<04:13,  9.77s/it]"
     ]
    },
    {
     "name": "stdout",
     "output_type": "stream",
     "text": [
      "hotfix for bad gzips\n",
      "hotfix for bad gzips\n",
      "hotfix for bad gzips\n"
     ]
    },
    {
     "name": "stderr",
     "output_type": "stream",
     "text": [
      " 93%|█████████▎| 339/364 [02:26<04:33, 10.93s/it]"
     ]
    },
    {
     "name": "stdout",
     "output_type": "stream",
     "text": [
      "hotfix for bad gzips\n"
     ]
    },
    {
     "name": "stderr",
     "output_type": "stream",
     "text": [
      " 93%|█████████▎| 340/364 [02:30<03:38,  9.11s/it]"
     ]
    },
    {
     "name": "stdout",
     "output_type": "stream",
     "text": [
      "hotfix for bad gzips\n",
      "hotfix for bad gzips\n"
     ]
    },
    {
     "name": "stderr",
     "output_type": "stream",
     "text": [
      " 94%|█████████▎| 341/364 [02:36<03:05,  8.06s/it]"
     ]
    },
    {
     "name": "stdout",
     "output_type": "stream",
     "text": [
      "hotfix for bad gzips\n",
      "hotfix for bad gzips\n"
     ]
    },
    {
     "name": "stderr",
     "output_type": "stream",
     "text": [
      " 94%|█████████▍| 342/364 [02:42<02:40,  7.32s/it]"
     ]
    },
    {
     "name": "stdout",
     "output_type": "stream",
     "text": [
      "hotfix for bad gzips\n",
      "hotfix for bad gzips\n"
     ]
    },
    {
     "name": "stderr",
     "output_type": "stream",
     "text": [
      " 94%|█████████▍| 343/364 [02:46<02:12,  6.31s/it]"
     ]
    },
    {
     "name": "stdout",
     "output_type": "stream",
     "text": [
      "hotfix for bad gzips\n",
      "hotfix for bad gzips\n"
     ]
    },
    {
     "name": "stderr",
     "output_type": "stream",
     "text": [
      " 95%|█████████▍| 344/364 [03:05<03:26, 10.33s/it]"
     ]
    },
    {
     "name": "stdout",
     "output_type": "stream",
     "text": [
      "hotfix for bad gzips\n",
      "hotfix for bad gzips\n"
     ]
    },
    {
     "name": "stderr",
     "output_type": "stream",
     "text": [
      " 95%|█████████▍| 345/364 [03:17<03:24, 10.75s/it]"
     ]
    },
    {
     "name": "stdout",
     "output_type": "stream",
     "text": [
      "hotfix for bad gzips\n",
      "hotfix for bad gzips\n"
     ]
    },
    {
     "name": "stderr",
     "output_type": "stream",
     "text": [
      " 95%|█████████▌| 346/364 [03:24<02:52,  9.58s/it]"
     ]
    },
    {
     "name": "stdout",
     "output_type": "stream",
     "text": [
      "hotfix for bad gzips\n",
      "hotfix for bad gzips\n"
     ]
    },
    {
     "name": "stderr",
     "output_type": "stream",
     "text": [
      " 95%|█████████▌| 347/364 [03:30<02:25,  8.54s/it]"
     ]
    },
    {
     "name": "stdout",
     "output_type": "stream",
     "text": [
      "hotfix for bad gzips\n",
      "hotfix for bad gzips\n"
     ]
    },
    {
     "name": "stderr",
     "output_type": "stream",
     "text": [
      " 96%|█████████▌| 348/364 [03:44<02:40, 10.06s/it]"
     ]
    },
    {
     "name": "stdout",
     "output_type": "stream",
     "text": [
      "hotfix for bad gzips\n",
      "hotfix for bad gzips\n"
     ]
    },
    {
     "name": "stderr",
     "output_type": "stream",
     "text": [
      " 96%|█████████▌| 349/364 [03:47<01:59,  7.96s/it]"
     ]
    },
    {
     "name": "stdout",
     "output_type": "stream",
     "text": [
      "hotfix for bad gzips\n",
      "hotfix for bad gzips\n"
     ]
    },
    {
     "name": "stderr",
     "output_type": "stream",
     "text": [
      " 96%|█████████▌| 350/364 [03:51<01:37,  6.97s/it]"
     ]
    },
    {
     "name": "stdout",
     "output_type": "stream",
     "text": [
      "hotfix for bad gzips\n",
      "hotfix for bad gzips\n"
     ]
    },
    {
     "name": "stderr",
     "output_type": "stream",
     "text": [
      " 96%|█████████▋| 351/364 [03:56<01:22,  6.33s/it]"
     ]
    },
    {
     "name": "stdout",
     "output_type": "stream",
     "text": [
      "hotfix for bad gzips\n",
      "hotfix for bad gzips\n"
     ]
    },
    {
     "name": "stderr",
     "output_type": "stream",
     "text": [
      " 97%|█████████▋| 352/364 [04:16<02:04, 10.37s/it]"
     ]
    },
    {
     "name": "stdout",
     "output_type": "stream",
     "text": [
      "hotfix for bad gzips\n",
      "hotfix for bad gzips\n"
     ]
    },
    {
     "name": "stderr",
     "output_type": "stream",
     "text": [
      " 97%|█████████▋| 353/364 [04:19<01:31,  8.32s/it]"
     ]
    },
    {
     "name": "stdout",
     "output_type": "stream",
     "text": [
      "hotfix for bad gzips\n",
      "hotfix for bad gzips\n",
      "hotfix for bad gzips\n"
     ]
    },
    {
     "name": "stderr",
     "output_type": "stream",
     "text": [
      " 97%|█████████▋| 354/364 [04:38<01:52, 11.29s/it]"
     ]
    },
    {
     "name": "stdout",
     "output_type": "stream",
     "text": [
      "hotfix for bad gzips\n",
      "hotfix for bad gzips\n"
     ]
    },
    {
     "name": "stderr",
     "output_type": "stream",
     "text": [
      " 98%|█████████▊| 355/364 [04:41<01:19,  8.82s/it]"
     ]
    },
    {
     "name": "stdout",
     "output_type": "stream",
     "text": [
      "hotfix for bad gzips\n"
     ]
    },
    {
     "name": "stderr",
     "output_type": "stream",
     "text": [
      " 98%|█████████▊| 356/364 [04:46<01:02,  7.82s/it]"
     ]
    },
    {
     "name": "stdout",
     "output_type": "stream",
     "text": [
      "hotfix for bad gzips\n",
      "hotfix for bad gzips\n"
     ]
    },
    {
     "name": "stderr",
     "output_type": "stream",
     "text": [
      " 98%|█████████▊| 357/364 [05:00<01:07,  9.68s/it]"
     ]
    },
    {
     "name": "stdout",
     "output_type": "stream",
     "text": [
      "hotfix for bad gzips\n",
      "hotfix for bad gzips\n",
      "hotfix for bad gzips\n"
     ]
    },
    {
     "name": "stderr",
     "output_type": "stream",
     "text": [
      " 98%|█████████▊| 358/364 [05:14<01:05, 10.94s/it]"
     ]
    },
    {
     "name": "stdout",
     "output_type": "stream",
     "text": [
      "hotfix for bad gzips\n"
     ]
    },
    {
     "name": "stderr",
     "output_type": "stream",
     "text": [
      " 99%|█████████▊| 359/364 [05:29<01:01, 12.22s/it]"
     ]
    },
    {
     "name": "stdout",
     "output_type": "stream",
     "text": [
      "hotfix for bad gzips\n",
      "hotfix for bad gzips\n"
     ]
    },
    {
     "name": "stderr",
     "output_type": "stream",
     "text": [
      " 99%|█████████▉| 360/364 [05:39<00:45, 11.33s/it]"
     ]
    },
    {
     "name": "stdout",
     "output_type": "stream",
     "text": [
      "hotfix for bad gzips\n",
      "hotfix for bad gzips\n"
     ]
    },
    {
     "name": "stderr",
     "output_type": "stream",
     "text": [
      " 99%|█████████▉| 361/364 [05:42<00:26,  8.92s/it]"
     ]
    },
    {
     "name": "stdout",
     "output_type": "stream",
     "text": [
      "hotfix for bad gzips\n",
      "hotfix for bad gzips\n",
      "hotfix for bad gzips\n"
     ]
    },
    {
     "name": "stderr",
     "output_type": "stream",
     "text": [
      " 99%|█████████▉| 362/364 [05:45<00:14,  7.19s/it]"
     ]
    },
    {
     "name": "stdout",
     "output_type": "stream",
     "text": [
      "hotfix for bad gzips\n"
     ]
    },
    {
     "name": "stderr",
     "output_type": "stream",
     "text": [
      "100%|█████████▉| 363/364 [05:59<00:09,  9.16s/it]"
     ]
    },
    {
     "name": "stdout",
     "output_type": "stream",
     "text": [
      "hotfix for bad gzips\n",
      "hotfix for bad gzips\n"
     ]
    },
    {
     "name": "stderr",
     "output_type": "stream",
     "text": [
      "100%|██████████| 364/364 [06:08<00:00,  9.15s/it]"
     ]
    },
    {
     "name": "stdout",
     "output_type": "stream",
     "text": [
      "hotfix for bad gzips\n"
     ]
    },
    {
     "name": "stderr",
     "output_type": "stream",
     "text": [
      "100%|██████████| 364/364 [06:08<00:00,  1.01s/it]\n"
     ]
    }
   ],
   "source": [
    "# coordinates of area : lat NW, lon NW, lat SE, lon SE\n",
    "area = {\n",
    "    'burkina': [16, -6, 9, 3],\n",
    "    'niger':[23.8, -0.5, 11.3, 15.9],\n",
    "    'west_africa':[29, -20, 3.5, 26]}\n",
    "\n",
    "selected_area = \"niger\"\n",
    "\n",
    "query_date = datetime.date(2021,1,1) # will run for whole year\n",
    "\n",
    "download_CHIRPS_year(query_date, area, selected_area)"
   ]
  },
  {
   "attachments": {},
   "cell_type": "markdown",
   "metadata": {},
   "source": [
    "## Multiple years"
   ]
  },
  {
   "cell_type": "code",
   "execution_count": null,
   "metadata": {},
   "outputs": [],
   "source": [
    "# coordinates of area : lat NW, lon NW, lat SE, lon SE\n",
    "area = {\n",
    "    'burkina': [16, -6, 9, 3],\n",
    "    'niger':[23.8, -0.5, 11.3, 15.9],\n",
    "    'west_africa':[29, -20, 3.5, 26]}\n",
    "\n",
    "selected_area = \"niger\"\n",
    "\n",
    "for year in range(2019,2022): \n",
    "    query_date = datetime.date(year,1,1) # will run for whole year\n",
    "    download_CHIRPS_year(query_date, area, selected_area)"
   ]
  }
 ],
 "metadata": {
  "kernelspec": {
   "display_name": "Python 3.9.6 64-bit ('venv_SARRA_Py')",
   "language": "python",
   "name": "python3"
  },
  "language_info": {
   "codemirror_mode": {
    "name": "ipython",
    "version": 3
   },
   "file_extension": ".py",
   "mimetype": "text/x-python",
   "name": "python",
   "nbconvert_exporter": "python",
   "pygments_lexer": "ipython3",
   "version": "3.9.6"
  },
  "orig_nbformat": 4,
  "vscode": {
   "interpreter": {
    "hash": "59596bfa884b38bda8229050bd743febcad69ace13cb01a56f57ffd48d5b3a13"
   }
  }
 },
 "nbformat": 4,
 "nbformat_minor": 2
}
