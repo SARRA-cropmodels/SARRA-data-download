{
 "cells": [
  {
   "cell_type": "code",
   "execution_count": 1,
   "metadata": {},
   "outputs": [],
   "source": [
    "import cdsapi\n",
    "import zipfile\n",
    "import xarray as xr \n",
    "import rioxarray as rio \n",
    "import os\n",
    "from tqdm import tqdm\n",
    "import pandas as pd\n",
    "from datetime import datetime as dt\n",
    "import datetime\n",
    "import rasterio\n",
    "from rasterio.plot import show\n",
    "from tqdm import tqdm\n",
    "import numpy as np\n",
    "import schedule"
   ]
  },
  {
   "cell_type": "markdown",
   "metadata": {},
   "source": [
    "# Download"
   ]
  },
  {
   "cell_type": "markdown",
   "metadata": {},
   "source": [
    "Data are downloaded from AgERA5 provided by CDS (https://cds.climate.copernicus.eu/cdsapp#!/dataset/sis-agrometeorological-indicators?tab=overview), through the cdsapi package. This has the advantage of magaging the caching of already passed requests, thus to speed up the downloading process.\n",
    "\n",
    "Frequency update : daily with a 7-day lag (https://confluence.ecmwf.int/display/CUSF/AgERA-5+frequency+update)\n",
    "\n",
    "envisager https://docs.python.org/3/library/pathlib.html"
   ]
  },
  {
   "cell_type": "code",
   "execution_count": 2,
   "metadata": {},
   "outputs": [],
   "source": [
    "def download_AgERA5_data(area, selected_area, variables, mode=\"month\", query=dt.today()):\n",
    "    \"\"\"\n",
    "    if mode \"month\", download all days of the month of the datetime.date passed in query\n",
    "    if mode \"year\", downloads all days of the year of the datetime.date passed in query    \n",
    "    by default, is in mode \"month\", and query is the current date\n",
    "    \"\"\"\n",
    "\n",
    "    print(\"===== download_AgERA5_data =====\")\n",
    "\n",
    "    # try:\n",
    "    if mode == \"month\":\n",
    "        query_year = query.year # int\n",
    "        query_month = query.strftime('%m') # str\n",
    "\n",
    "        print(\"Mode 'month' acknowledged. Will download data for month\",query.month,\"/\",query.year)\n",
    "        print(\"Please note that last available date on AgERA5 should be\",dt.today()-datetime.timedelta(days=8))\n",
    "\n",
    "    elif mode == \"year\":\n",
    "        query_year = query.year\n",
    "\n",
    "        print(\"Mode 'year' acknowledged. Will download data for year\",query.year)\n",
    "        print(\"Please note that last available date on AgERA5 should be\",(dt.today()-datetime.timedelta(days=8)).date())\n",
    "\n",
    "    else :\n",
    "        raise Exception(\"The mode passed (\"+mode+\") is incorrect. Please use either 'month' or 'year'\")\n",
    "\n",
    "\n",
    "    c = cdsapi.Client()\n",
    "\n",
    "    if not os.path.exists('../data/0_downloads/'):\n",
    "        os.makedirs('../data/0_downloads/')\n",
    "\n",
    "    for variable in variables :\n",
    "\n",
    "        request = {\n",
    "                'format': 'zip',\n",
    "                'day': [\n",
    "                    '01', '02', '03',\n",
    "                    '04', '05', '06',\n",
    "                    '07', '08', '09',\n",
    "                    '10', '11', '12',\n",
    "                    '13', '14', '15',\n",
    "                    '16', '17', '18',\n",
    "                    '19', '20', '21',\n",
    "                    '22', '23', '24',\n",
    "                    '25', '26', '27',\n",
    "                    '28', '29', '30',\n",
    "                    '31',\n",
    "                ],\n",
    "                'year': [str(query_year)],\n",
    "                'variable': variable[0],\n",
    "                'statistic': variable[1],\n",
    "                'area': area[selected_area],\n",
    "            }\n",
    "\n",
    "        if mode == \"month\":\n",
    "            zip_path = '../data/0_downloads/AgERA5_'+selected_area+'_'+variable[0]+'_'+variable[1]+\"_\"+str(query_year)+'_'+query_month+'.zip'\n",
    "            request[\"month\"] = query_month\n",
    "\n",
    "        if mode == \"year\": \n",
    "            zip_path = '../data/0_downloads/AgERA5_'+selected_area+'_'+variable[0]+'_'+variable[1]+\"_\"+str(query_year)+'.zip'\n",
    "            request[\"month\"] = [\n",
    "                '01', '02', '03',\n",
    "                '04', '05', '06',\n",
    "                '07', '08', '09',\n",
    "                '10', '11', '12',\n",
    "            ]\n",
    "\n",
    "        # la requête doit être adaptée pour cette variable\n",
    "        if variable[0] == \"solar_radiation_flux\" :\n",
    "            del request[\"statistic\"]\n",
    "\n",
    "        c.retrieve(\n",
    "            'sis-agrometeorological-indicators',\n",
    "            request,\n",
    "            zip_path)\n",
    "\n",
    "        print(\"Download OK\")\n",
    "\n",
    "    # except :\n",
    "    #     print(\"/!\\ Download NOT OK\")"
   ]
  },
  {
   "cell_type": "markdown",
   "metadata": {},
   "source": [
    "# Extraction"
   ]
  },
  {
   "cell_type": "code",
   "execution_count": 3,
   "metadata": {},
   "outputs": [],
   "source": [
    "def extract_AgERA5_data(area, selected_area, variables, mode=\"month\", query=dt.today()):\n",
    "    \"\"\"\n",
    "    mode can be 'month' or 'year'\n",
    "    uqery must be datetime.date\n",
    "\n",
    "\n",
    "    \"\"\"\n",
    "\n",
    "    print(\"===== extract_agERA5_month =====\")\n",
    "\n",
    "    try:\n",
    "        query_year = query.year # int\n",
    "        query_month = query.strftime('%m') # str\n",
    "\n",
    "        for variable in tqdm(variables) :\n",
    "\n",
    "            if mode == \"month\":\n",
    "                zip_path = '../data/0_downloads/AgERA5_'+selected_area+'_'+variable[0]+'_'+variable[1]+\"_\"+str(query_year)+'_'+query_month+'.zip'\n",
    "                \n",
    "            elif mode == \"year\":\n",
    "                zip_path = '../data/0_downloads/AgERA5_'+selected_area+'_'+variable[0]+'_'+variable[1]+\"_\"+str(query_year)+'.zip'\n",
    "            \n",
    "            extraction_path = '../data/1_extraction/AgERA5_'+selected_area+'/'+str(query_year)+\"/\"+variable[0]+'_'+variable[1]+'/'\n",
    "            \n",
    "            try:\n",
    "                with zipfile.ZipFile(zip_path, 'r') as zip_ref:\n",
    "                    zip_ref.extractall(extraction_path)\n",
    "            except:\n",
    "                pass\n",
    "        \n",
    "        print(\"Extraction OK\")\n",
    "\n",
    "    except :\n",
    "        print(\"/!\\ Extraction NOT OK\")"
   ]
  },
  {
   "cell_type": "markdown",
   "metadata": {},
   "source": [
    "# Conversion to daily Geotiffs"
   ]
  },
  {
   "cell_type": "code",
   "execution_count": 4,
   "metadata": {},
   "outputs": [],
   "source": [
    "def convert_AgERA5_netcdf_to_geotiff(area, selected_area, variables, query=dt.today()):\n",
    "    \"\"\"\n",
    "    converts netcdf to geotiff\n",
    "    must define which variable to convert, and for which year, as defined with a datetime.date\n",
    "    \"\"\"\n",
    "\n",
    "    print(\"===== convert_AgERA5_netcdf_to_geotiff =====\")\n",
    "\n",
    "    try:\n",
    "\n",
    "        query_year = query.year # int\n",
    "        query_month = query.strftime('%m') # str\n",
    "        \n",
    "        for variable in variables :\n",
    "            \n",
    "            extraction_path = '../data/1_extraction/AgERA5_'+selected_area+'/'+str(query_year)+\"/\"+variable[0]+'_'+variable[1]+'/'\n",
    "            nc_files = os.listdir(extraction_path)\n",
    "            conversion_path = '../data/2_conversion/AgERA5_'+selected_area+'/'+variable[0]+'_'+variable[1]+'/'\n",
    "\n",
    "            if not os.path.exists(conversion_path):\n",
    "                os.makedirs(conversion_path)\n",
    "\n",
    "            for nc_file in tqdm(nc_files) :\n",
    "                # d'après https://help.marine.copernicus.eu/en/articles/5029956-how-to-convert-netcdf-to-geotiff\n",
    "                nc_file_content = xr.open_dataset(os.path.join(extraction_path, nc_file))\n",
    "                xarray_variable_name = list(nc_file_content.keys())[0]\n",
    "                bT = nc_file_content[xarray_variable_name]\n",
    "                bT = bT.rio.set_spatial_dims(x_dim='lon', y_dim='lat')\n",
    "                bT.rio.crs\n",
    "                bT.rio.write_crs(\"epsg:4326\", inplace=True)\n",
    "\n",
    "                filename = variable[0]+\"_\"+variable[1]+\"_\"+pd.to_datetime(nc_file_content.time.values[0]).strftime('%Y')+\"_\"+pd.to_datetime(nc_file_content.time.values[0]).strftime('%m')+\"_\"+pd.to_datetime(nc_file_content.time.values[0]).strftime('%d')+\".tif\"\n",
    "                bT.rio.to_raster(os.path.join(conversion_path, filename))\n",
    "\n",
    "\n",
    "    except :\n",
    "        print(\"/!\\ Conversion to GeoTIFFs NOT OK\")"
   ]
  },
  {
   "cell_type": "markdown",
   "metadata": {},
   "source": [
    "# ET0 calculation"
   ]
  },
  {
   "cell_type": "markdown",
   "metadata": {},
   "source": [
    "Variables necessary for Penman-Monteith calculation : DAY, LAT, ELEV, TMIN, TMAX, IRRAD, VAP, WIND (see https://github.com/ajwdewit/pcse/blob/14a6229e4374dcde0c672d1df637cffb324a79a2/pcse/util.py)\n",
    "\n",
    "On peut utiliser # https://api.open-elevation.com/api/v1/lookup?locations=41.161758,-8.583933 pour récupérer l'altitude"
   ]
  },
  {
   "cell_type": "code",
   "execution_count": 5,
   "metadata": {},
   "outputs": [],
   "source": [
    "def calculate_AgERA5_ET0_and_save(area, selected_area, variables, query=dt.today()):\n",
    "\n",
    "    print(\"===== calculate_AgERA5_ET0_and_save =====\")\n",
    "\n",
    "    try:\n",
    "\n",
    "        query_year = query.year\n",
    "        query_month = query.strftime('%m')\n",
    "\n",
    "        # tmin\n",
    "        variable = variables[0]\n",
    "        conversion_path_tmin = '../data/2_conversion/AgERA5_'+selected_area+\"/\"+variable[0]+'_'+variable[1]+'/'\n",
    "        list_files_tmin = os.listdir(conversion_path_tmin)\n",
    "\n",
    "        # tmax\n",
    "        variable = variables[1]\n",
    "        conversion_path_tmax = '../data/2_conversion/AgERA5_'+selected_area+\"/\"+variable[0]+'_'+variable[1]+'/'\n",
    "        list_files_tmax = os.listdir(conversion_path_tmax)\n",
    "\n",
    "        # irrad\n",
    "        variable = variables[2]\n",
    "        conversion_path_irrad = '../data/2_conversion/AgERA5_'+selected_area+\"/\"+variable[0]+'_'+variable[1]+'/'\n",
    "        list_files_irrad = os.listdir(conversion_path_irrad)\n",
    "\n",
    "        # vapour pressure\n",
    "        variable = variables[3]\n",
    "        conversion_path_vp = '../data/2_conversion/AgERA5_'+selected_area+\"/\"+variable[0]+'_'+variable[1]+'/'\n",
    "        list_files_vp = os.listdir(conversion_path_vp)\n",
    "\n",
    "        # wind\n",
    "        variable = variables[4]\n",
    "        conversion_path_wind = '../data/2_conversion/AgERA5_'+selected_area+\"/\"+variable[0]+'_'+variable[1]+'/'\n",
    "        list_files_wind = os.listdir(conversion_path_wind)\n",
    "\n",
    "        # tmean\n",
    "        variable = variables[5]\n",
    "        conversion_path_tmean = '../data/2_conversion/AgERA5_'+selected_area+\"/\"+variable[0]+'_'+variable[1]+'/'\n",
    "        list_files_tmean = os.listdir(conversion_path_tmean)\n",
    "\n",
    "\n",
    "\n",
    "        # testing if all folders have the same number of files\n",
    "        len(list_files_tmin) == len(list_files_tmax) == len(list_files_irrad) == len(list_files_vp) == len(list_files_wind) == len(list_files_tmean)\n",
    "\n",
    "\n",
    "\n",
    "\n",
    "        for i in tqdm(range(len(list_files_irrad))):\n",
    "\n",
    "            ## on charge les arrays\n",
    "\n",
    "            ######################## tmin\n",
    "            img_tmin = rasterio.open(os.path.join(conversion_path_tmin,list_files_tmin[i]))\n",
    "            arr_tmin = img_tmin.read()\n",
    "            arr_tmin = arr_tmin - 273.15\n",
    "\n",
    "            geotiff_path = '../data/3_output/AgERA5_'+selected_area+\"/2m_temperature_24_hour_minimum/\"\n",
    "            \n",
    "\n",
    "            if not os.path.exists(geotiff_path):\n",
    "                os.makedirs(geotiff_path)\n",
    "\n",
    "            new_dataset = rasterio.open(\n",
    "                geotiff_path+\"2m_temperature_24_hour_minimum_\"+'_'.join(list_files_tmin[i].split(\"_\")[-3:]),\n",
    "                'w',\n",
    "                driver='GTiff',\n",
    "                height=arr_tmin.shape[1],\n",
    "                width=arr_tmin.shape[2],\n",
    "                count=1,\n",
    "                dtype=arr_tmin.dtype,\n",
    "                crs=img_tmin.crs,\n",
    "                transform=img_tmin.transform,\n",
    "            )\n",
    "\n",
    "            new_dataset.write(arr_tmin[0,:,:], 1)\n",
    "            \n",
    "\n",
    "            ######################## tmax\n",
    "            img_tmax = rasterio.open(os.path.join(conversion_path_tmax,list_files_tmax[i]))\n",
    "            arr_tmax = img_tmax.read()\n",
    "            arr_tmax = arr_tmax - 273.15\n",
    "\n",
    "            geotiff_path = '../data/3_output/AgERA5_'+selected_area+\"/2m_temperature_24_hour_maximum/\"\n",
    "\n",
    "            if not os.path.exists(geotiff_path):\n",
    "                os.makedirs(geotiff_path)\n",
    "\n",
    "            new_dataset = rasterio.open(\n",
    "                geotiff_path+\"2m_temperature_24_hour_maximum_\"+'_'.join(list_files_tmax[i].split(\"_\")[-3:]),\n",
    "                'w',\n",
    "                driver='GTiff',\n",
    "                height=arr_tmax.shape[1],\n",
    "                width=arr_tmax.shape[2],\n",
    "                count=1,\n",
    "                dtype=arr_tmax.dtype,\n",
    "                crs=img_tmax.crs,\n",
    "                transform=img_tmax.transform,\n",
    "            )\n",
    "\n",
    "            new_dataset.write(arr_tmax[0,:,:], 1)\n",
    "\n",
    "            ######################## irrad\n",
    "            # J/m²/d\n",
    "            img_irrad = rasterio.open(os.path.join(conversion_path_irrad,list_files_irrad[i]))\n",
    "            arr_irrad = img_irrad.read()\n",
    "            # pcse needs J/m²/d, no conversion needed\n",
    "            # however SARRA needs kJ/m²/d\n",
    "            arr_irrad = np.round(arr_irrad / 1000,0) # .astype(int)\n",
    "\n",
    "            # depending on the version, it may need MJ/m²/j\n",
    "            # arr_irrad = np.round(arr_irrad / 1000000,0)\n",
    "\n",
    "            geotiff_path = '../data/3_output/AgERA5_'+selected_area+\"/solar_radiation_flux_daily/\"\n",
    "\n",
    "            if not os.path.exists(geotiff_path):\n",
    "                os.makedirs(geotiff_path)\n",
    "\n",
    "            new_dataset = rasterio.open(\n",
    "                geotiff_path+\"solar_radiation_flux_daily_\"+'_'.join(list_files_irrad[i].split(\"_\")[-3:]),\n",
    "                'w',\n",
    "                driver='GTiff',\n",
    "                height=arr_irrad.shape[1],\n",
    "                width=arr_irrad.shape[2],\n",
    "                count=1,\n",
    "                dtype=arr_irrad.dtype,\n",
    "                crs=img_irrad.crs,\n",
    "                transform=img_irrad.transform,\n",
    "            )\n",
    "\n",
    "            new_dataset.write(arr_irrad[0,:,:], 1)\n",
    "\n",
    "\n",
    "            # hPa\n",
    "            img_vp = rasterio.open(os.path.join(conversion_path_vp,list_files_vp[i]))\n",
    "            arr_vp = img_vp.read()\n",
    "            # pcse needs hPa, no conversion needed\n",
    "\n",
    "            # m/s\n",
    "            img_wind = rasterio.open(os.path.join(conversion_path_wind,list_files_wind[i]))\n",
    "            arr_wind = img_wind.read()\n",
    "            # pcse needs m/s, no conversion needed\n",
    "\n",
    "            img_tmean = rasterio.open(os.path.join(conversion_path_tmean,list_files_tmean[i]))\n",
    "            arr_tmean = img_tmean.read()\n",
    "            arr_tmean = arr_tmean - 273.15\n",
    "\n",
    "            geotiff_path = '../data/3_output/AgERA5_'+selected_area+\"/2m_temperature_24_hour_mean/\"\n",
    "\n",
    "            if not os.path.exists(geotiff_path):\n",
    "                os.makedirs(geotiff_path)\n",
    "\n",
    "            new_dataset = rasterio.open(\n",
    "                geotiff_path+\"2m_temperature_24_hour_mean_\"+'_'.join(list_files_tmean[i].split(\"_\")[-3:]),\n",
    "                'w',\n",
    "                driver='GTiff',\n",
    "                height=arr_tmean.shape[1],\n",
    "                width=arr_tmean.shape[2],\n",
    "                count=1,\n",
    "                dtype=arr_tmean.dtype,\n",
    "                crs=img_tmean.crs,\n",
    "                transform=img_tmean.transform,\n",
    "            )\n",
    "\n",
    "            new_dataset.write(arr_tmean[0,:,:], 1)\n",
    "\n",
    "            ## on calcule le ET0\n",
    "\n",
    "            # \"When solar radiation data, relative humidity data and/or wind speed data are missing,\n",
    "            # ETo can be estimated using the Hargreaves ETo equation\" in FAO 56\n",
    "\n",
    "            coeff = 0.0023\n",
    "            arr_ET0 = coeff * (arr_tmean + 17.8) * 0.408 * arr_irrad/1000 * (abs(arr_tmax - arr_tmin))**0.5\n",
    "\n",
    "            ## on sauvegarde les geotiffs\n",
    "\n",
    "            geotiff_path = '../data/3_output/AgERA5_'+selected_area+\"/ET0Hargeaves/\"\n",
    "\n",
    "            if not os.path.exists(geotiff_path):\n",
    "                os.makedirs(geotiff_path)\n",
    "            \n",
    "            # on utilise tmean pour récupérer la date dans le nom de fichier, le crs et le transform\n",
    "            new_dataset = rasterio.open(\n",
    "                geotiff_path+\"ET0Hargreaves_\"+'_'.join(list_files_tmean[i].split(\"_\")[-3:]),\n",
    "                'w',\n",
    "                driver='GTiff',\n",
    "                height=arr_ET0.shape[1],\n",
    "                width=arr_ET0.shape[2],\n",
    "                count=1,\n",
    "                dtype=arr_ET0.dtype,\n",
    "                crs=img_tmean.crs,\n",
    "                transform=img_tmean.transform,\n",
    "            )\n",
    "\n",
    "            new_dataset.write(arr_ET0[0,:,:], 1)\n",
    "\n",
    "    except:\n",
    "        print(\"/!\\ Calculation of ET0 NOT OK\")"
   ]
  },
  {
   "cell_type": "markdown",
   "metadata": {},
   "source": [
    "# Run all"
   ]
  },
  {
   "cell_type": "code",
   "execution_count": 8,
   "metadata": {},
   "outputs": [
    {
     "name": "stderr",
     "output_type": "stream",
     "text": [
      "  0%|          | 0/24 [00:00<?, ?it/s]2023-02-21 15:47:15,535 INFO Welcome to the CDS\n",
      "2023-02-21 15:47:15,537 INFO Sending request to https://cds.climate.copernicus.eu/api/v2/resources/sis-agrometeorological-indicators\n",
      "2023-02-21 15:47:15,588 INFO Request is queued\n"
     ]
    },
    {
     "name": "stdout",
     "output_type": "stream",
     "text": [
      "===== download_AgERA5_data =====\n",
      "Mode 'year' acknowledged. Will download data for year 1995\n",
      "Please note that last available date on AgERA5 should be 2023-02-13\n"
     ]
    },
    {
     "name": "stderr",
     "output_type": "stream",
     "text": [
      "2023-02-21 15:48:05,180 INFO Request is completed\n",
      "2023-02-21 15:48:05,181 INFO Downloading https://download-0009-clone.copernicus-climate.eu/cache-compute-0009/cache/data9/dataset-sis-agrometeorological-indicators-d8bbbf34-7c66-4ba0-b960-739758ee207a.zip to ../data/0_downloads/AgERA5_burkina_2m_temperature_24_hour_minimum_1995.zip (14.7M)\n",
      "2023-02-21 15:48:06,397 INFO Download rate 12.1M/s\n",
      "2023-02-21 15:48:06,465 INFO Welcome to the CDS\n",
      "2023-02-21 15:48:06,466 INFO Sending request to https://cds.climate.copernicus.eu/api/v2/resources/sis-agrometeorological-indicators\n",
      "2023-02-21 15:48:06,551 INFO Request is queued\n"
     ]
    },
    {
     "name": "stdout",
     "output_type": "stream",
     "text": [
      "Download OK\n"
     ]
    },
    {
     "name": "stderr",
     "output_type": "stream",
     "text": [
      "2023-02-21 15:48:07,588 INFO Request is running\n",
      "2023-02-21 15:50:00,339 INFO Request is completed\n",
      "2023-02-21 15:50:00,340 INFO Downloading https://download-0012-clone.copernicus-climate.eu/cache-compute-0012/cache/data5/dataset-sis-agrometeorological-indicators-be3dd263-7b7e-48ff-bde8-c22445cc2a69.zip to ../data/0_downloads/AgERA5_burkina_2m_temperature_24_hour_maximum_1995.zip (14.7M)\n",
      "2023-02-21 15:50:02,358 INFO Download rate 7.3M/s\n"
     ]
    },
    {
     "name": "stdout",
     "output_type": "stream",
     "text": [
      "Download OK\n"
     ]
    },
    {
     "name": "stderr",
     "output_type": "stream",
     "text": [
      "2023-02-21 15:50:02,667 INFO Welcome to the CDS\n",
      "2023-02-21 15:50:02,668 INFO Sending request to https://cds.climate.copernicus.eu/api/v2/resources/sis-agrometeorological-indicators\n",
      "2023-02-21 15:50:02,709 INFO Request is queued\n",
      "2023-02-21 15:50:03,746 INFO Request is running\n",
      "2023-02-21 15:51:17,960 INFO Request is completed\n",
      "2023-02-21 15:51:17,961 INFO Downloading https://download-0012-clone.copernicus-climate.eu/cache-compute-0012/cache/data0/dataset-sis-agrometeorological-indicators-9a930bb4-2517-4956-b216-8e4d96ddbc5e.zip to ../data/0_downloads/AgERA5_burkina_solar_radiation_flux_daily_1995.zip (15.5M)\n",
      "2023-02-21 15:51:21,481 INFO Download rate 4.4M/s\n",
      "2023-02-21 15:51:21,549 INFO Welcome to the CDS\n",
      "2023-02-21 15:51:21,549 INFO Sending request to https://cds.climate.copernicus.eu/api/v2/resources/sis-agrometeorological-indicators\n",
      "2023-02-21 15:51:21,612 INFO Request is queued\n"
     ]
    },
    {
     "name": "stdout",
     "output_type": "stream",
     "text": [
      "Download OK\n"
     ]
    },
    {
     "name": "stderr",
     "output_type": "stream",
     "text": [
      "2023-02-21 15:51:22,650 INFO Request is running\n",
      "2023-02-21 15:53:15,403 INFO Request is completed\n",
      "2023-02-21 15:53:15,404 INFO Downloading https://download-0002-clone.copernicus-climate.eu/cache-compute-0002/cache/data1/dataset-sis-agrometeorological-indicators-9a9c9147-95fe-424d-bfeb-cca57b099ecd.zip to ../data/0_downloads/AgERA5_burkina_vapour_pressure_24_hour_mean_1995.zip (16.1M)\n",
      "2023-02-21 15:53:16,892 INFO Download rate 10.9M/s\n",
      "2023-02-21 15:53:16,962 INFO Welcome to the CDS\n",
      "2023-02-21 15:53:16,963 INFO Sending request to https://cds.climate.copernicus.eu/api/v2/resources/sis-agrometeorological-indicators\n",
      "2023-02-21 15:53:17,045 INFO Request is queued\n"
     ]
    },
    {
     "name": "stdout",
     "output_type": "stream",
     "text": [
      "Download OK\n"
     ]
    },
    {
     "name": "stderr",
     "output_type": "stream",
     "text": [
      "2023-02-21 15:53:18,082 INFO Request is running\n",
      "2023-02-21 15:55:12,850 INFO Request is completed\n",
      "2023-02-21 15:55:12,851 INFO Downloading https://download-0007-clone.copernicus-climate.eu/cache-compute-0007/cache/data5/dataset-sis-agrometeorological-indicators-6b0ef119-3e98-4077-b9e5-96b4540180f9.zip to ../data/0_downloads/AgERA5_burkina_10m_wind_speed_24_hour_mean_1995.zip (16.4M)\n",
      "2023-02-21 15:55:14,424 INFO Download rate 10.5M/s\n",
      "2023-02-21 15:55:14,491 INFO Welcome to the CDS\n",
      "2023-02-21 15:55:14,492 INFO Sending request to https://cds.climate.copernicus.eu/api/v2/resources/sis-agrometeorological-indicators\n",
      "2023-02-21 15:55:14,541 INFO Request is queued\n"
     ]
    },
    {
     "name": "stdout",
     "output_type": "stream",
     "text": [
      "Download OK\n"
     ]
    },
    {
     "name": "stderr",
     "output_type": "stream",
     "text": [
      "2023-02-21 15:55:15,576 INFO Request is running\n",
      "2023-02-21 15:57:08,557 INFO Request is completed\n",
      "2023-02-21 15:57:08,557 INFO Downloading https://download-0011-clone.copernicus-climate.eu/cache-compute-0011/cache/data7/dataset-sis-agrometeorological-indicators-4c63e377-a507-4b06-be02-f308344398fc.zip to ../data/0_downloads/AgERA5_burkina_2m_temperature_24_hour_mean_1995.zip (14.7M)\n",
      "2023-02-21 15:57:10,021 INFO Download rate 10M/s\n"
     ]
    },
    {
     "name": "stdout",
     "output_type": "stream",
     "text": [
      "Download OK\n",
      "===== extract_agERA5_month =====\n"
     ]
    },
    {
     "name": "stderr",
     "output_type": "stream",
     "text": [
      "100%|██████████| 6/6 [00:16<00:00,  2.70s/it]\n"
     ]
    },
    {
     "name": "stdout",
     "output_type": "stream",
     "text": [
      "Extraction OK\n",
      "===== convert_AgERA5_netcdf_to_geotiff =====\n"
     ]
    },
    {
     "name": "stderr",
     "output_type": "stream",
     "text": [
      "100%|██████████| 365/365 [00:29<00:00, 12.23it/s]\n",
      "100%|██████████| 365/365 [00:25<00:00, 14.07it/s]\n",
      "100%|██████████| 365/365 [00:23<00:00, 15.86it/s]\n",
      "100%|██████████| 365/365 [00:24<00:00, 15.00it/s]\n",
      "100%|██████████| 365/365 [00:24<00:00, 14.93it/s]\n",
      "100%|██████████| 365/365 [00:24<00:00, 14.83it/s]\n"
     ]
    },
    {
     "name": "stdout",
     "output_type": "stream",
     "text": [
      "===== calculate_AgERA5_ET0_and_save =====\n"
     ]
    },
    {
     "name": "stderr",
     "output_type": "stream",
     "text": [
      "100%|██████████| 1388/1388 [05:46<00:00,  4.00it/s]\n",
      "  4%|▍         | 1/24 [18:29<7:05:23, 1109.71s/it]2023-02-21 16:05:45,405 INFO Welcome to the CDS\n",
      "2023-02-21 16:05:45,407 INFO Sending request to https://cds.climate.copernicus.eu/api/v2/resources/sis-agrometeorological-indicators\n"
     ]
    },
    {
     "name": "stdout",
     "output_type": "stream",
     "text": [
      "===== Query date 1995-01-01 all done ! =====\n",
      "===== download_AgERA5_data =====\n",
      "Mode 'year' acknowledged. Will download data for year 1996\n",
      "Please note that last available date on AgERA5 should be 2023-02-13\n"
     ]
    },
    {
     "name": "stderr",
     "output_type": "stream",
     "text": [
      "2023-02-21 16:05:45,479 INFO Request is queued\n",
      "2023-02-21 16:05:46,521 INFO Request is running\n",
      "2023-02-21 16:07:39,311 INFO Request is completed\n",
      "2023-02-21 16:07:39,312 INFO Downloading https://download-0009-clone.copernicus-climate.eu/cache-compute-0009/cache/data5/dataset-sis-agrometeorological-indicators-42d27183-367d-4a23-a4b8-c616cf29945a.zip to ../data/0_downloads/AgERA5_burkina_2m_temperature_24_hour_minimum_1996.zip (14.8M)\n",
      "2023-02-21 16:07:41,028 INFO Download rate 8.6M/s\n",
      "2023-02-21 16:07:41,103 INFO Welcome to the CDS\n",
      "2023-02-21 16:07:41,104 INFO Sending request to https://cds.climate.copernicus.eu/api/v2/resources/sis-agrometeorological-indicators\n",
      "2023-02-21 16:07:41,167 INFO Request is queued\n"
     ]
    },
    {
     "name": "stdout",
     "output_type": "stream",
     "text": [
      "Download OK\n"
     ]
    },
    {
     "name": "stderr",
     "output_type": "stream",
     "text": [
      "2023-02-21 16:07:42,205 INFO Request is running\n",
      "2023-02-21 16:09:34,974 INFO Request is completed\n",
      "2023-02-21 16:09:34,974 INFO Downloading https://download-0010-clone.copernicus-climate.eu/cache-compute-0010/cache/data0/dataset-sis-agrometeorological-indicators-8d3c89da-b0fb-4004-873f-db7c4fbd4514.zip to ../data/0_downloads/AgERA5_burkina_2m_temperature_24_hour_maximum_1996.zip (14.7M)\n",
      "2023-02-21 16:09:38,297 INFO Download rate 4.4M/s\n",
      "2023-02-21 16:09:38,377 INFO Welcome to the CDS\n",
      "2023-02-21 16:09:38,379 INFO Sending request to https://cds.climate.copernicus.eu/api/v2/resources/sis-agrometeorological-indicators\n",
      "2023-02-21 16:09:38,469 INFO Request is queued\n"
     ]
    },
    {
     "name": "stdout",
     "output_type": "stream",
     "text": [
      "Download OK\n"
     ]
    },
    {
     "name": "stderr",
     "output_type": "stream",
     "text": [
      "2023-02-21 16:09:39,510 INFO Request is running\n",
      "2023-02-21 16:10:53,776 INFO Request is completed\n",
      "2023-02-21 16:10:53,777 INFO Downloading https://download-0017.copernicus-climate.eu/cache-compute-0017/cache/data1/dataset-sis-agrometeorological-indicators-39ada0da-ac33-4d79-a578-64527dc654ee.zip to ../data/0_downloads/AgERA5_burkina_solar_radiation_flux_daily_1996.zip (15.5M)\n",
      "2023-02-21 16:10:55,944 INFO Download rate 7.1M/s\n",
      "2023-02-21 16:10:56,020 INFO Welcome to the CDS\n",
      "2023-02-21 16:10:56,021 INFO Sending request to https://cds.climate.copernicus.eu/api/v2/resources/sis-agrometeorological-indicators\n",
      "2023-02-21 16:10:56,076 INFO Request is queued\n"
     ]
    },
    {
     "name": "stdout",
     "output_type": "stream",
     "text": [
      "Download OK\n"
     ]
    },
    {
     "name": "stderr",
     "output_type": "stream",
     "text": [
      "2023-02-21 16:10:57,115 INFO Request is running\n",
      "2023-02-21 16:12:49,881 INFO Request is completed\n",
      "2023-02-21 16:12:49,883 INFO Downloading https://download-0009-clone.copernicus-climate.eu/cache-compute-0009/cache/data3/dataset-sis-agrometeorological-indicators-5f8dfa2f-817a-4971-9df0-783c914ca738.zip to ../data/0_downloads/AgERA5_burkina_vapour_pressure_24_hour_mean_1996.zip (16.2M)\n",
      "2023-02-21 16:12:53,027 INFO Download rate 5.2M/s\n",
      "2023-02-21 16:12:53,105 INFO Welcome to the CDS\n",
      "2023-02-21 16:12:53,107 INFO Sending request to https://cds.climate.copernicus.eu/api/v2/resources/sis-agrometeorological-indicators\n",
      "2023-02-21 16:12:53,188 INFO Request is queued\n"
     ]
    },
    {
     "name": "stdout",
     "output_type": "stream",
     "text": [
      "Download OK\n"
     ]
    },
    {
     "name": "stderr",
     "output_type": "stream",
     "text": [
      "2023-02-21 16:12:54,229 INFO Request is running\n",
      "2023-02-21 16:14:08,494 INFO Request is completed\n",
      "2023-02-21 16:14:08,495 INFO Downloading https://download-0001-clone.copernicus-climate.eu/cache-compute-0001/cache/data5/dataset-sis-agrometeorological-indicators-cf7e1243-a62f-4932-9fb0-22f5bb9eac29.zip to ../data/0_downloads/AgERA5_burkina_10m_wind_speed_24_hour_mean_1996.zip (16.5M)\n",
      "2023-02-21 16:14:10,391 INFO Download rate 8.7M/s\n",
      "2023-02-21 16:14:10,470 INFO Welcome to the CDS\n",
      "2023-02-21 16:14:10,471 INFO Sending request to https://cds.climate.copernicus.eu/api/v2/resources/sis-agrometeorological-indicators\n",
      "2023-02-21 16:14:10,528 INFO Request is queued\n"
     ]
    },
    {
     "name": "stdout",
     "output_type": "stream",
     "text": [
      "Download OK\n"
     ]
    },
    {
     "name": "stderr",
     "output_type": "stream",
     "text": [
      "2023-02-21 16:14:11,566 INFO Request is running\n",
      "2023-02-21 16:16:04,350 INFO Request is completed\n",
      "2023-02-21 16:16:04,352 INFO Downloading https://download-0004-clone.copernicus-climate.eu/cache-compute-0004/cache/data1/dataset-sis-agrometeorological-indicators-f9f046e9-a9a1-4701-9bf6-f0944c5ab438.zip to ../data/0_downloads/AgERA5_burkina_2m_temperature_24_hour_mean_1996.zip (14.7M)\n",
      "2023-02-21 16:16:05,621 INFO Download rate 11.6M/s\n"
     ]
    },
    {
     "name": "stdout",
     "output_type": "stream",
     "text": [
      "Download OK\n",
      "===== extract_agERA5_month =====\n"
     ]
    },
    {
     "name": "stderr",
     "output_type": "stream",
     "text": [
      "100%|██████████| 6/6 [00:13<00:00,  2.24s/it]\n"
     ]
    },
    {
     "name": "stdout",
     "output_type": "stream",
     "text": [
      "Extraction OK\n",
      "===== convert_AgERA5_netcdf_to_geotiff =====\n"
     ]
    },
    {
     "name": "stderr",
     "output_type": "stream",
     "text": [
      "100%|██████████| 366/366 [00:25<00:00, 14.38it/s]\n",
      "100%|██████████| 366/366 [00:24<00:00, 14.70it/s]\n",
      "100%|██████████| 366/366 [00:25<00:00, 14.60it/s]\n",
      "100%|██████████| 366/366 [00:24<00:00, 14.83it/s]\n",
      "100%|██████████| 366/366 [00:25<00:00, 14.64it/s]\n",
      "100%|██████████| 366/366 [00:26<00:00, 13.71it/s]\n"
     ]
    },
    {
     "name": "stdout",
     "output_type": "stream",
     "text": [
      "===== calculate_AgERA5_ET0_and_save =====\n"
     ]
    },
    {
     "name": "stderr",
     "output_type": "stream",
     "text": [
      "100%|██████████| 1754/1754 [06:47<00:00,  4.31it/s]\n",
      "  8%|▊         | 2/24 [38:22<7:04:50, 1158.67s/it]2023-02-21 16:25:38,304 INFO Welcome to the CDS\n",
      "2023-02-21 16:25:38,305 INFO Sending request to https://cds.climate.copernicus.eu/api/v2/resources/sis-agrometeorological-indicators\n"
     ]
    },
    {
     "name": "stdout",
     "output_type": "stream",
     "text": [
      "===== Query date 1996-01-01 all done ! =====\n",
      "===== download_AgERA5_data =====\n",
      "Mode 'year' acknowledged. Will download data for year 1997\n",
      "Please note that last available date on AgERA5 should be 2023-02-13\n"
     ]
    },
    {
     "name": "stderr",
     "output_type": "stream",
     "text": [
      "2023-02-21 16:25:38,383 INFO Request is queued\n",
      "2023-02-21 16:25:39,415 INFO Request is running\n",
      "2023-02-21 16:27:32,138 INFO Request is completed\n",
      "2023-02-21 16:27:32,139 INFO Downloading https://download-0003-clone.copernicus-climate.eu/cache-compute-0003/cache/data0/dataset-sis-agrometeorological-indicators-2f1fe33e-7889-41f1-8d2e-4b39d89ea2b1.zip to ../data/0_downloads/AgERA5_burkina_2m_temperature_24_hour_minimum_1997.zip (14.7M)\n",
      "2023-02-21 16:27:34,333 INFO Download rate 6.7M/s\n",
      "2023-02-21 16:27:34,397 INFO Welcome to the CDS\n",
      "2023-02-21 16:27:34,398 INFO Sending request to https://cds.climate.copernicus.eu/api/v2/resources/sis-agrometeorological-indicators\n",
      "2023-02-21 16:27:34,447 INFO Request is queued\n"
     ]
    },
    {
     "name": "stdout",
     "output_type": "stream",
     "text": [
      "Download OK\n"
     ]
    },
    {
     "name": "stderr",
     "output_type": "stream",
     "text": [
      "2023-02-21 16:27:35,480 INFO Request is running\n",
      "2023-02-21 16:28:49,669 INFO Request is completed\n",
      "2023-02-21 16:28:49,670 INFO Downloading https://download-0008-clone.copernicus-climate.eu/cache-compute-0008/cache/data3/dataset-sis-agrometeorological-indicators-4b298b3d-ddac-4fa4-b49a-b11c49233418.zip to ../data/0_downloads/AgERA5_burkina_2m_temperature_24_hour_maximum_1997.zip (14.7M)\n",
      "2023-02-21 16:28:51,384 INFO Download rate 8.6M/s\n",
      "2023-02-21 16:28:51,447 INFO Welcome to the CDS\n",
      "2023-02-21 16:28:51,448 INFO Sending request to https://cds.climate.copernicus.eu/api/v2/resources/sis-agrometeorological-indicators\n"
     ]
    },
    {
     "name": "stdout",
     "output_type": "stream",
     "text": [
      "Download OK\n"
     ]
    },
    {
     "name": "stderr",
     "output_type": "stream",
     "text": [
      "2023-02-21 16:28:51,648 INFO Request is queued\n",
      "2023-02-21 16:28:52,680 INFO Request is running\n",
      "2023-02-21 16:30:06,890 INFO Request is completed\n",
      "2023-02-21 16:30:06,891 INFO Downloading https://download-0009-clone.copernicus-climate.eu/cache-compute-0009/cache/data5/dataset-sis-agrometeorological-indicators-f18f18b9-df7f-4f15-be4b-a693faa2879d.zip to ../data/0_downloads/AgERA5_burkina_solar_radiation_flux_daily_1997.zip (15.4M)\n",
      "2023-02-21 16:30:07,875 INFO Download rate 15.7M/s\n",
      "2023-02-21 16:30:07,936 INFO Welcome to the CDS\n",
      "2023-02-21 16:30:07,937 INFO Sending request to https://cds.climate.copernicus.eu/api/v2/resources/sis-agrometeorological-indicators\n",
      "2023-02-21 16:30:07,989 INFO Request is queued\n"
     ]
    },
    {
     "name": "stdout",
     "output_type": "stream",
     "text": [
      "Download OK\n"
     ]
    },
    {
     "name": "stderr",
     "output_type": "stream",
     "text": [
      "2023-02-21 16:30:09,022 INFO Request is running\n",
      "2023-02-21 16:32:01,971 INFO Request is completed\n",
      "2023-02-21 16:32:01,972 INFO Downloading https://download-0019.copernicus-climate.eu/cache-compute-0019/cache/data9/dataset-sis-agrometeorological-indicators-cd36df2b-7796-48a3-8fe0-92840319a1dd.zip to ../data/0_downloads/AgERA5_burkina_vapour_pressure_24_hour_mean_1997.zip (16.2M)\n",
      "2023-02-21 16:32:03,330 INFO Download rate 11.9M/s\n",
      "2023-02-21 16:32:03,391 INFO Welcome to the CDS\n",
      "2023-02-21 16:32:03,392 INFO Sending request to https://cds.climate.copernicus.eu/api/v2/resources/sis-agrometeorological-indicators\n",
      "2023-02-21 16:32:03,450 INFO Request is queued\n"
     ]
    },
    {
     "name": "stdout",
     "output_type": "stream",
     "text": [
      "Download OK\n"
     ]
    },
    {
     "name": "stderr",
     "output_type": "stream",
     "text": [
      "2023-02-21 16:32:04,535 INFO Request is running\n",
      "2023-02-21 16:33:57,238 INFO Request is completed\n",
      "2023-02-21 16:33:57,239 INFO Downloading https://download-0009-clone.copernicus-climate.eu/cache-compute-0009/cache/data3/dataset-sis-agrometeorological-indicators-f5f6aa1f-e0a4-4474-9727-6346b9991680.zip to ../data/0_downloads/AgERA5_burkina_10m_wind_speed_24_hour_mean_1997.zip (16.4M)\n",
      "2023-02-21 16:33:58,133 INFO Download rate 18.4M/s\n",
      "2023-02-21 16:33:58,194 INFO Welcome to the CDS\n",
      "2023-02-21 16:33:58,195 INFO Sending request to https://cds.climate.copernicus.eu/api/v2/resources/sis-agrometeorological-indicators\n",
      "2023-02-21 16:33:58,260 INFO Request is queued\n"
     ]
    },
    {
     "name": "stdout",
     "output_type": "stream",
     "text": [
      "Download OK\n"
     ]
    },
    {
     "name": "stderr",
     "output_type": "stream",
     "text": [
      "2023-02-21 16:33:59,294 INFO Request is running\n",
      "2023-02-21 16:35:13,512 INFO Request is completed\n",
      "2023-02-21 16:35:13,513 INFO Downloading https://download-0003-clone.copernicus-climate.eu/cache-compute-0003/cache/data1/dataset-sis-agrometeorological-indicators-de313c30-c752-43c2-8787-64807aabbf38.zip to ../data/0_downloads/AgERA5_burkina_2m_temperature_24_hour_mean_1997.zip (14.7M)\n",
      "2023-02-21 16:35:14,430 INFO Download rate 16M/s\n"
     ]
    },
    {
     "name": "stdout",
     "output_type": "stream",
     "text": [
      "Download OK\n",
      "===== extract_agERA5_month =====\n"
     ]
    },
    {
     "name": "stderr",
     "output_type": "stream",
     "text": [
      "100%|██████████| 6/6 [00:09<00:00,  1.60s/it]\n"
     ]
    },
    {
     "name": "stdout",
     "output_type": "stream",
     "text": [
      "Extraction OK\n",
      "===== convert_AgERA5_netcdf_to_geotiff =====\n"
     ]
    },
    {
     "name": "stderr",
     "output_type": "stream",
     "text": [
      "100%|██████████| 365/365 [00:18<00:00, 19.84it/s]\n",
      "100%|██████████| 365/365 [00:19<00:00, 18.84it/s]\n",
      "100%|██████████| 365/365 [00:18<00:00, 19.70it/s]\n",
      "100%|██████████| 365/365 [00:18<00:00, 19.28it/s]\n",
      "100%|██████████| 365/365 [00:22<00:00, 16.36it/s]\n",
      "100%|██████████| 365/365 [00:19<00:00, 18.38it/s]\n"
     ]
    },
    {
     "name": "stdout",
     "output_type": "stream",
     "text": [
      "===== calculate_AgERA5_ET0_and_save =====\n"
     ]
    },
    {
     "name": "stderr",
     "output_type": "stream",
     "text": [
      "100%|██████████| 2119/2119 [08:01<00:00,  4.40it/s]\n",
      " 12%|█▎        | 3/24 [58:07<6:49:47, 1170.84s/it]"
     ]
    },
    {
     "name": "stdout",
     "output_type": "stream",
     "text": [
      "===== Query date 1997-01-01 all done ! =====\n",
      "===== download_AgERA5_data =====\n",
      "Mode 'year' acknowledged. Will download data for year 1998\n",
      "Please note that last available date on AgERA5 should be 2023-02-13\n"
     ]
    },
    {
     "name": "stderr",
     "output_type": "stream",
     "text": [
      "2023-02-21 16:45:24,716 INFO Welcome to the CDS\n",
      "2023-02-21 16:45:24,718 INFO Sending request to https://cds.climate.copernicus.eu/api/v2/resources/sis-agrometeorological-indicators\n",
      "2023-02-21 16:45:24,817 INFO Request is queued\n",
      "2023-02-21 16:45:25,853 INFO Request is running\n",
      "2023-02-21 16:46:40,090 INFO Request is completed\n",
      "2023-02-21 16:46:40,092 INFO Downloading https://download-0011-clone.copernicus-climate.eu/cache-compute-0011/cache/data9/dataset-sis-agrometeorological-indicators-1a99edff-e7cd-4775-bfb9-44118157fb26.zip to ../data/0_downloads/AgERA5_burkina_2m_temperature_24_hour_minimum_1998.zip (14.7M)\n",
      "2023-02-21 16:46:42,370 INFO Download rate 6.5M/s\n",
      "2023-02-21 16:46:42,438 INFO Welcome to the CDS\n",
      "2023-02-21 16:46:42,439 INFO Sending request to https://cds.climate.copernicus.eu/api/v2/resources/sis-agrometeorological-indicators\n",
      "2023-02-21 16:46:42,493 INFO Request is queued\n"
     ]
    },
    {
     "name": "stdout",
     "output_type": "stream",
     "text": [
      "Download OK\n"
     ]
    },
    {
     "name": "stderr",
     "output_type": "stream",
     "text": [
      "2023-02-21 16:46:43,529 INFO Request is running\n",
      "2023-02-21 16:48:36,281 INFO Request is completed\n",
      "2023-02-21 16:48:36,283 INFO Downloading https://download-0010-clone.copernicus-climate.eu/cache-compute-0010/cache/data8/dataset-sis-agrometeorological-indicators-d6514f0b-5350-492e-8b5c-23e5897b60c7.zip to ../data/0_downloads/AgERA5_burkina_2m_temperature_24_hour_maximum_1998.zip (14.7M)\n",
      "2023-02-21 16:48:37,546 INFO Download rate 11.6M/s\n",
      "2023-02-21 16:48:37,615 INFO Welcome to the CDS\n",
      "2023-02-21 16:48:37,616 INFO Sending request to https://cds.climate.copernicus.eu/api/v2/resources/sis-agrometeorological-indicators\n",
      "2023-02-21 16:48:37,667 INFO Request is queued\n"
     ]
    },
    {
     "name": "stdout",
     "output_type": "stream",
     "text": [
      "Download OK\n"
     ]
    },
    {
     "name": "stderr",
     "output_type": "stream",
     "text": [
      "2023-02-21 16:48:38,702 INFO Request is running\n",
      "2023-02-21 16:49:52,938 INFO Request is completed\n",
      "2023-02-21 16:49:52,939 INFO Downloading https://download-0006-clone.copernicus-climate.eu/cache-compute-0006/cache/data8/dataset-sis-agrometeorological-indicators-9c96f0db-ae90-4451-b62f-e7f796612e6e.zip to ../data/0_downloads/AgERA5_burkina_solar_radiation_flux_daily_1998.zip (15.4M)\n",
      "2023-02-21 16:49:56,298 INFO Download rate 4.6M/s\n",
      "2023-02-21 16:49:56,398 INFO Welcome to the CDS\n",
      "2023-02-21 16:49:56,399 INFO Sending request to https://cds.climate.copernicus.eu/api/v2/resources/sis-agrometeorological-indicators\n",
      "2023-02-21 16:49:56,503 INFO Request is queued\n"
     ]
    },
    {
     "name": "stdout",
     "output_type": "stream",
     "text": [
      "Download OK\n"
     ]
    },
    {
     "name": "stderr",
     "output_type": "stream",
     "text": [
      "2023-02-21 16:49:57,539 INFO Request is running\n",
      "2023-02-21 16:51:50,285 INFO Request is completed\n",
      "2023-02-21 16:51:50,286 INFO Downloading https://download-0015-clone.copernicus-climate.eu/cache-compute-0015/cache/data9/dataset-sis-agrometeorological-indicators-fba53bf2-224b-4995-9c20-54820359c2fe.zip to ../data/0_downloads/AgERA5_burkina_vapour_pressure_24_hour_mean_1998.zip (16.1M)\n",
      "2023-02-21 16:51:51,661 INFO Download rate 11.7M/s\n",
      "2023-02-21 16:51:51,731 INFO Welcome to the CDS\n",
      "2023-02-21 16:51:51,732 INFO Sending request to https://cds.climate.copernicus.eu/api/v2/resources/sis-agrometeorological-indicators\n",
      "2023-02-21 16:51:51,770 INFO Request is queued\n"
     ]
    },
    {
     "name": "stdout",
     "output_type": "stream",
     "text": [
      "Download OK\n"
     ]
    },
    {
     "name": "stderr",
     "output_type": "stream",
     "text": [
      "2023-02-21 16:51:52,806 INFO Request is running\n",
      "2023-02-21 16:53:45,555 INFO Request is completed\n",
      "2023-02-21 16:53:45,556 INFO Downloading https://download-0005-clone.copernicus-climate.eu/cache-compute-0005/cache/data0/dataset-sis-agrometeorological-indicators-14c3cbd0-2017-4699-a323-0d218398fd2a.zip to ../data/0_downloads/AgERA5_burkina_10m_wind_speed_24_hour_mean_1998.zip (16.4M)\n",
      "2023-02-21 16:53:53,840 INFO Download rate 2M/s\n",
      "2023-02-21 16:53:53,911 INFO Welcome to the CDS\n",
      "2023-02-21 16:53:53,912 INFO Sending request to https://cds.climate.copernicus.eu/api/v2/resources/sis-agrometeorological-indicators\n",
      "2023-02-21 16:53:53,999 INFO Request is queued\n"
     ]
    },
    {
     "name": "stdout",
     "output_type": "stream",
     "text": [
      "Download OK\n"
     ]
    },
    {
     "name": "stderr",
     "output_type": "stream",
     "text": [
      "2023-02-21 16:53:55,034 INFO Request is running\n",
      "2023-02-21 16:55:47,770 INFO Request is completed\n",
      "2023-02-21 16:55:47,771 INFO Downloading https://download-0013-clone.copernicus-climate.eu/cache-compute-0013/cache/data9/dataset-sis-agrometeorological-indicators-28877c9b-62aa-4ab1-9287-9f3c91d7798d.zip to ../data/0_downloads/AgERA5_burkina_2m_temperature_24_hour_mean_1998.zip (14.7M)\n",
      "2023-02-21 16:55:48,965 INFO Download rate 12.3M/s\n"
     ]
    },
    {
     "name": "stdout",
     "output_type": "stream",
     "text": [
      "Download OK\n",
      "===== extract_agERA5_month =====\n"
     ]
    },
    {
     "name": "stderr",
     "output_type": "stream",
     "text": [
      "100%|██████████| 6/6 [00:08<00:00,  1.37s/it]\n"
     ]
    },
    {
     "name": "stdout",
     "output_type": "stream",
     "text": [
      "Extraction OK\n",
      "===== convert_AgERA5_netcdf_to_geotiff =====\n"
     ]
    },
    {
     "name": "stderr",
     "output_type": "stream",
     "text": [
      "100%|██████████| 365/365 [00:18<00:00, 19.63it/s]\n",
      "100%|██████████| 365/365 [00:17<00:00, 20.90it/s]\n",
      "100%|██████████| 365/365 [00:18<00:00, 19.94it/s]\n",
      "100%|██████████| 365/365 [00:20<00:00, 17.60it/s]\n",
      "100%|██████████| 365/365 [00:19<00:00, 18.86it/s]\n",
      "100%|██████████| 365/365 [00:20<00:00, 17.71it/s]\n"
     ]
    },
    {
     "name": "stdout",
     "output_type": "stream",
     "text": [
      "===== calculate_AgERA5_ET0_and_save =====\n"
     ]
    },
    {
     "name": "stderr",
     "output_type": "stream",
     "text": [
      "100%|██████████| 2484/2484 [08:49<00:00,  4.69it/s]\n",
      " 17%|█▋        | 4/24 [1:19:26<6:44:24, 1213.21s/it]2023-02-21 17:06:41,824 INFO Welcome to the CDS\n",
      "2023-02-21 17:06:41,825 INFO Sending request to https://cds.climate.copernicus.eu/api/v2/resources/sis-agrometeorological-indicators\n"
     ]
    },
    {
     "name": "stdout",
     "output_type": "stream",
     "text": [
      "===== Query date 1998-01-01 all done ! =====\n",
      "===== download_AgERA5_data =====\n",
      "Mode 'year' acknowledged. Will download data for year 1999\n",
      "Please note that last available date on AgERA5 should be 2023-02-13\n"
     ]
    },
    {
     "name": "stderr",
     "output_type": "stream",
     "text": [
      "2023-02-21 17:06:41,906 INFO Request is queued\n",
      "2023-02-21 17:06:42,946 INFO Request is running\n",
      "2023-02-21 17:07:57,204 INFO Request is completed\n",
      "2023-02-21 17:07:57,205 INFO Downloading https://download-0019.copernicus-climate.eu/cache-compute-0019/cache/data0/dataset-sis-agrometeorological-indicators-d8350386-0d75-46d5-a33c-2cd3047a2d25.zip to ../data/0_downloads/AgERA5_burkina_2m_temperature_24_hour_minimum_1999.zip (14.7M)\n",
      "2023-02-21 17:07:58,046 INFO Download rate 17.5M/s\n",
      "2023-02-21 17:07:58,133 INFO Welcome to the CDS\n",
      "2023-02-21 17:07:58,134 INFO Sending request to https://cds.climate.copernicus.eu/api/v2/resources/sis-agrometeorological-indicators\n",
      "2023-02-21 17:07:58,200 INFO Request is queued\n"
     ]
    },
    {
     "name": "stdout",
     "output_type": "stream",
     "text": [
      "Download OK\n"
     ]
    },
    {
     "name": "stderr",
     "output_type": "stream",
     "text": [
      "2023-02-21 17:07:59,238 INFO Request is running\n",
      "2023-02-21 17:09:52,119 INFO Request is completed\n",
      "2023-02-21 17:09:52,120 INFO Downloading https://download-0013-clone.copernicus-climate.eu/cache-compute-0013/cache/data2/dataset-sis-agrometeorological-indicators-05175b08-d410-4797-a333-ef763bcb9af6.zip to ../data/0_downloads/AgERA5_burkina_2m_temperature_24_hour_maximum_1999.zip (14.7M)\n",
      "2023-02-21 17:09:55,935 INFO Download rate 3.8M/s\n",
      "2023-02-21 17:09:56,008 INFO Welcome to the CDS\n",
      "2023-02-21 17:09:56,009 INFO Sending request to https://cds.climate.copernicus.eu/api/v2/resources/sis-agrometeorological-indicators\n",
      "2023-02-21 17:09:56,061 INFO Request is queued\n"
     ]
    },
    {
     "name": "stdout",
     "output_type": "stream",
     "text": [
      "Download OK\n"
     ]
    },
    {
     "name": "stderr",
     "output_type": "stream",
     "text": [
      "2023-02-21 17:09:57,099 INFO Request is running\n",
      "2023-02-21 17:11:11,338 INFO Request is completed\n",
      "2023-02-21 17:11:11,339 INFO Downloading https://download-0005-clone.copernicus-climate.eu/cache-compute-0005/cache/data1/dataset-sis-agrometeorological-indicators-df1a3397-0792-4ed7-b4d0-a5e86c79a642.zip to ../data/0_downloads/AgERA5_burkina_solar_radiation_flux_daily_1999.zip (15.4M)\n",
      "2023-02-21 17:11:12,279 INFO Download rate 16.4M/s\n",
      "2023-02-21 17:11:12,372 INFO Welcome to the CDS\n",
      "2023-02-21 17:11:12,373 INFO Sending request to https://cds.climate.copernicus.eu/api/v2/resources/sis-agrometeorological-indicators\n"
     ]
    },
    {
     "name": "stdout",
     "output_type": "stream",
     "text": [
      "Download OK\n"
     ]
    },
    {
     "name": "stderr",
     "output_type": "stream",
     "text": [
      "2023-02-21 17:11:12,538 INFO Request is queued\n",
      "2023-02-21 17:11:13,576 INFO Request is running\n",
      "2023-02-21 17:13:06,357 INFO Request is completed\n",
      "2023-02-21 17:13:06,358 INFO Downloading https://download-0018.copernicus-climate.eu/cache-compute-0018/cache/data1/dataset-sis-agrometeorological-indicators-40ff1e76-a69e-4009-8b50-7555d6c739c6.zip to ../data/0_downloads/AgERA5_burkina_vapour_pressure_24_hour_mean_1999.zip (16.1M)\n",
      "2023-02-21 17:13:07,309 INFO Download rate 17M/s\n",
      "2023-02-21 17:13:07,383 INFO Welcome to the CDS\n",
      "2023-02-21 17:13:07,384 INFO Sending request to https://cds.climate.copernicus.eu/api/v2/resources/sis-agrometeorological-indicators\n",
      "2023-02-21 17:13:07,444 INFO Request is queued\n"
     ]
    },
    {
     "name": "stdout",
     "output_type": "stream",
     "text": [
      "Download OK\n"
     ]
    },
    {
     "name": "stderr",
     "output_type": "stream",
     "text": [
      "2023-02-21 17:13:08,484 INFO Request is running\n",
      "2023-02-21 17:14:22,738 INFO Request is completed\n",
      "2023-02-21 17:14:22,739 INFO Downloading https://download-0014-clone.copernicus-climate.eu/cache-compute-0014/cache/data6/dataset-sis-agrometeorological-indicators-83aa1166-eaec-45f9-9f06-81fdd5f59777.zip to ../data/0_downloads/AgERA5_burkina_10m_wind_speed_24_hour_mean_1999.zip (16.4M)\n",
      "2023-02-21 17:14:23,676 INFO Download rate 17.6M/s\n",
      "2023-02-21 17:14:23,751 INFO Welcome to the CDS\n",
      "2023-02-21 17:14:23,751 INFO Sending request to https://cds.climate.copernicus.eu/api/v2/resources/sis-agrometeorological-indicators\n",
      "2023-02-21 17:14:23,817 INFO Request is queued\n"
     ]
    },
    {
     "name": "stdout",
     "output_type": "stream",
     "text": [
      "Download OK\n"
     ]
    },
    {
     "name": "stderr",
     "output_type": "stream",
     "text": [
      "2023-02-21 17:14:24,855 INFO Request is running\n",
      "2023-02-21 17:16:17,641 INFO Request is completed\n",
      "2023-02-21 17:16:17,642 INFO Downloading https://download-0001-clone.copernicus-climate.eu/cache-compute-0001/cache/data3/dataset-sis-agrometeorological-indicators-4a258d5e-b0a7-4f21-b4fa-4ee8bcd2eb63.zip to ../data/0_downloads/AgERA5_burkina_2m_temperature_24_hour_mean_1999.zip (14.7M)\n",
      "2023-02-21 17:16:18,579 INFO Download rate 15.7M/s\n"
     ]
    },
    {
     "name": "stdout",
     "output_type": "stream",
     "text": [
      "Download OK\n",
      "===== extract_agERA5_month =====\n"
     ]
    },
    {
     "name": "stderr",
     "output_type": "stream",
     "text": [
      "100%|██████████| 6/6 [00:07<00:00,  1.27s/it]\n"
     ]
    },
    {
     "name": "stdout",
     "output_type": "stream",
     "text": [
      "Extraction OK\n",
      "===== convert_AgERA5_netcdf_to_geotiff =====\n"
     ]
    },
    {
     "name": "stderr",
     "output_type": "stream",
     "text": [
      "100%|██████████| 365/365 [00:15<00:00, 23.43it/s]\n",
      "100%|██████████| 365/365 [00:17<00:00, 21.45it/s]\n",
      "100%|██████████| 365/365 [00:16<00:00, 21.88it/s]\n",
      "100%|██████████| 365/365 [00:16<00:00, 22.15it/s]\n",
      "100%|██████████| 365/365 [00:16<00:00, 21.84it/s]\n",
      "100%|██████████| 365/365 [00:17<00:00, 21.40it/s]\n"
     ]
    },
    {
     "name": "stdout",
     "output_type": "stream",
     "text": [
      "===== calculate_AgERA5_ET0_and_save =====\n"
     ]
    },
    {
     "name": "stderr",
     "output_type": "stream",
     "text": [
      "100%|██████████| 2849/2849 [09:35<00:00,  4.95it/s]\n",
      " 21%|██        | 5/24 [1:40:25<6:29:26, 1229.84s/it]2023-02-21 17:27:41,112 INFO Welcome to the CDS\n",
      "2023-02-21 17:27:41,113 INFO Sending request to https://cds.climate.copernicus.eu/api/v2/resources/sis-agrometeorological-indicators\n"
     ]
    },
    {
     "name": "stdout",
     "output_type": "stream",
     "text": [
      "===== Query date 1999-01-01 all done ! =====\n",
      "===== download_AgERA5_data =====\n",
      "Mode 'year' acknowledged. Will download data for year 2000\n",
      "Please note that last available date on AgERA5 should be 2023-02-13\n"
     ]
    },
    {
     "name": "stderr",
     "output_type": "stream",
     "text": [
      "2023-02-21 17:27:41,168 INFO Request is queued\n",
      "2023-02-21 17:27:42,201 INFO Request is running\n",
      "2023-02-21 17:29:34,944 INFO Request is completed\n",
      "2023-02-21 17:29:34,944 INFO Downloading https://download-0012-clone.copernicus-climate.eu/cache-compute-0012/cache/data2/dataset-sis-agrometeorological-indicators-ccaa0bf8-ba76-43d9-8041-9437d81bf4d9.zip to ../data/0_downloads/AgERA5_burkina_2m_temperature_24_hour_minimum_2000.zip (14.8M)\n",
      "2023-02-21 17:29:35,907 INFO Download rate 15.3M/s\n",
      "2023-02-21 17:29:35,971 INFO Welcome to the CDS\n",
      "2023-02-21 17:29:35,972 INFO Sending request to https://cds.climate.copernicus.eu/api/v2/resources/sis-agrometeorological-indicators\n",
      "2023-02-21 17:29:36,010 INFO Request is queued\n"
     ]
    },
    {
     "name": "stdout",
     "output_type": "stream",
     "text": [
      "Download OK\n"
     ]
    },
    {
     "name": "stderr",
     "output_type": "stream",
     "text": [
      "2023-02-21 17:29:37,046 INFO Request is running\n",
      "2023-02-21 17:30:51,281 INFO Request is completed\n",
      "2023-02-21 17:30:51,281 INFO Downloading https://download-0006-clone.copernicus-climate.eu/cache-compute-0006/cache/data1/dataset-sis-agrometeorological-indicators-f99e8048-264b-4b34-b40c-86989159a43e.zip to ../data/0_downloads/AgERA5_burkina_2m_temperature_24_hour_maximum_2000.zip (14.7M)\n",
      "2023-02-21 17:30:52,109 INFO Download rate 17.8M/s\n",
      "2023-02-21 17:30:52,170 INFO Welcome to the CDS\n",
      "2023-02-21 17:30:52,171 INFO Sending request to https://cds.climate.copernicus.eu/api/v2/resources/sis-agrometeorological-indicators\n",
      "2023-02-21 17:30:52,218 INFO Request is queued\n"
     ]
    },
    {
     "name": "stdout",
     "output_type": "stream",
     "text": [
      "Download OK\n"
     ]
    },
    {
     "name": "stderr",
     "output_type": "stream",
     "text": [
      "2023-02-21 17:30:53,253 INFO Request is running\n",
      "2023-02-21 17:32:45,958 INFO Request is completed\n",
      "2023-02-21 17:32:45,959 INFO Downloading https://download-0009-clone.copernicus-climate.eu/cache-compute-0009/cache/data3/dataset-sis-agrometeorological-indicators-df324cf5-8d8d-498d-ae54-388afdb3d8cd.zip to ../data/0_downloads/AgERA5_burkina_solar_radiation_flux_daily_2000.zip (15.4M)\n",
      "2023-02-21 17:32:48,385 INFO Download rate 6.4M/s\n",
      "2023-02-21 17:32:48,459 INFO Welcome to the CDS\n",
      "2023-02-21 17:32:48,460 INFO Sending request to https://cds.climate.copernicus.eu/api/v2/resources/sis-agrometeorological-indicators\n",
      "2023-02-21 17:32:48,514 INFO Request is queued\n"
     ]
    },
    {
     "name": "stdout",
     "output_type": "stream",
     "text": [
      "Download OK\n"
     ]
    },
    {
     "name": "stderr",
     "output_type": "stream",
     "text": [
      "2023-02-21 17:32:49,549 INFO Request is running\n",
      "2023-02-21 17:34:42,277 INFO Request is completed\n",
      "2023-02-21 17:34:42,278 INFO Downloading https://download-0020.copernicus-climate.eu/cache-compute-0020/cache/data7/dataset-sis-agrometeorological-indicators-2be5cc9e-0328-4c4b-89f0-23b74cf8132d.zip to ../data/0_downloads/AgERA5_burkina_vapour_pressure_24_hour_mean_2000.zip (16.2M)\n",
      "2023-02-21 17:34:44,291 INFO Download rate 8M/s\n",
      "2023-02-21 17:34:44,353 INFO Welcome to the CDS\n",
      "2023-02-21 17:34:44,354 INFO Sending request to https://cds.climate.copernicus.eu/api/v2/resources/sis-agrometeorological-indicators\n",
      "2023-02-21 17:34:44,405 INFO Request is queued\n"
     ]
    },
    {
     "name": "stdout",
     "output_type": "stream",
     "text": [
      "Download OK\n"
     ]
    },
    {
     "name": "stderr",
     "output_type": "stream",
     "text": [
      "2023-02-21 17:34:45,438 INFO Request is running\n",
      "2023-02-21 17:36:38,162 INFO Request is completed\n",
      "2023-02-21 17:36:38,163 INFO Downloading https://download-0013-clone.copernicus-climate.eu/cache-compute-0013/cache/data1/dataset-sis-agrometeorological-indicators-23613994-b1e9-4404-992b-f798ed03d3d7.zip to ../data/0_downloads/AgERA5_burkina_10m_wind_speed_24_hour_mean_2000.zip (16.5M)\n",
      "2023-02-21 17:36:49,272 INFO Download rate 1.5M/s\n",
      "2023-02-21 17:36:49,333 INFO Welcome to the CDS\n",
      "2023-02-21 17:36:49,333 INFO Sending request to https://cds.climate.copernicus.eu/api/v2/resources/sis-agrometeorological-indicators\n",
      "2023-02-21 17:36:49,369 INFO Request is queued\n"
     ]
    },
    {
     "name": "stdout",
     "output_type": "stream",
     "text": [
      "Download OK\n"
     ]
    },
    {
     "name": "stderr",
     "output_type": "stream",
     "text": [
      "2023-02-21 17:36:50,403 INFO Request is running\n",
      "2023-02-21 17:38:04,624 INFO Request is completed\n",
      "2023-02-21 17:38:04,625 INFO Downloading https://download-0009-clone.copernicus-climate.eu/cache-compute-0009/cache/data8/dataset-sis-agrometeorological-indicators-684d293c-1ee2-4f65-8600-659ff2457ece.zip to ../data/0_downloads/AgERA5_burkina_2m_temperature_24_hour_mean_2000.zip (14.7M)\n",
      "2023-02-21 17:38:06,549 INFO Download rate 7.6M/s\n"
     ]
    },
    {
     "name": "stdout",
     "output_type": "stream",
     "text": [
      "Download OK\n",
      "===== extract_agERA5_month =====\n"
     ]
    },
    {
     "name": "stderr",
     "output_type": "stream",
     "text": [
      "100%|██████████| 6/6 [00:07<00:00,  1.20s/it]\n"
     ]
    },
    {
     "name": "stdout",
     "output_type": "stream",
     "text": [
      "Extraction OK\n",
      "===== convert_AgERA5_netcdf_to_geotiff =====\n"
     ]
    },
    {
     "name": "stderr",
     "output_type": "stream",
     "text": [
      "100%|██████████| 366/366 [00:13<00:00, 27.00it/s]\n",
      "100%|██████████| 366/366 [00:13<00:00, 27.13it/s]\n",
      "100%|██████████| 366/366 [00:13<00:00, 26.53it/s]\n",
      "100%|██████████| 366/366 [00:14<00:00, 24.78it/s]\n",
      "100%|██████████| 366/366 [00:14<00:00, 25.22it/s]\n",
      "100%|██████████| 366/366 [00:14<00:00, 24.92it/s]\n"
     ]
    },
    {
     "name": "stdout",
     "output_type": "stream",
     "text": [
      "===== calculate_AgERA5_ET0_and_save =====\n"
     ]
    },
    {
     "name": "stderr",
     "output_type": "stream",
     "text": [
      "100%|██████████| 3215/3215 [09:55<00:00,  5.40it/s]\n",
      " 25%|██▌       | 6/24 [2:02:18<6:17:26, 1258.16s/it]2023-02-21 17:49:34,262 INFO Welcome to the CDS\n",
      "2023-02-21 17:49:34,263 INFO Sending request to https://cds.climate.copernicus.eu/api/v2/resources/sis-agrometeorological-indicators\n"
     ]
    },
    {
     "name": "stdout",
     "output_type": "stream",
     "text": [
      "===== Query date 2000-01-01 all done ! =====\n",
      "===== download_AgERA5_data =====\n",
      "Mode 'year' acknowledged. Will download data for year 2001\n",
      "Please note that last available date on AgERA5 should be 2023-02-13\n"
     ]
    },
    {
     "name": "stderr",
     "output_type": "stream",
     "text": [
      "2023-02-21 17:49:34,309 INFO Request is queued\n",
      "2023-02-21 17:49:35,346 INFO Request is running\n",
      "2023-02-21 17:50:49,585 INFO Request is completed\n",
      "2023-02-21 17:50:49,586 INFO Downloading https://download-0006-clone.copernicus-climate.eu/cache-compute-0006/cache/data7/dataset-sis-agrometeorological-indicators-be2d21d7-dc90-468f-bb6d-1e2b3a66913e.zip to ../data/0_downloads/AgERA5_burkina_2m_temperature_24_hour_minimum_2001.zip (14.7M)\n",
      "2023-02-21 17:50:50,480 INFO Download rate 16.5M/s\n",
      "2023-02-21 17:50:50,559 INFO Welcome to the CDS\n",
      "2023-02-21 17:50:50,560 INFO Sending request to https://cds.climate.copernicus.eu/api/v2/resources/sis-agrometeorological-indicators\n",
      "2023-02-21 17:50:50,603 INFO Request is queued\n"
     ]
    },
    {
     "name": "stdout",
     "output_type": "stream",
     "text": [
      "Download OK\n"
     ]
    },
    {
     "name": "stderr",
     "output_type": "stream",
     "text": [
      "2023-02-21 17:50:51,639 INFO Request is running\n",
      "2023-02-21 17:52:44,400 INFO Request is completed\n",
      "2023-02-21 17:52:44,401 INFO Downloading https://download-0011-clone.copernicus-climate.eu/cache-compute-0011/cache/data8/dataset-sis-agrometeorological-indicators-ad768cfd-3b9b-4f80-be17-58edcafe28fe.zip to ../data/0_downloads/AgERA5_burkina_2m_temperature_24_hour_maximum_2001.zip (14.7M)\n",
      "2023-02-21 17:52:45,300 INFO Download rate 16.3M/s\n",
      "2023-02-21 17:52:45,386 INFO Welcome to the CDS\n",
      "2023-02-21 17:52:45,387 INFO Sending request to https://cds.climate.copernicus.eu/api/v2/resources/sis-agrometeorological-indicators\n",
      "2023-02-21 17:52:45,435 INFO Request is queued\n"
     ]
    },
    {
     "name": "stdout",
     "output_type": "stream",
     "text": [
      "Download OK\n"
     ]
    },
    {
     "name": "stderr",
     "output_type": "stream",
     "text": [
      "2023-02-21 17:52:46,475 INFO Request is running\n",
      "2023-02-21 17:54:39,242 INFO Request is completed\n",
      "2023-02-21 17:54:39,243 INFO Downloading https://download-0010-clone.copernicus-climate.eu/cache-compute-0010/cache/data7/dataset-sis-agrometeorological-indicators-ef04d271-6219-42fe-8554-208125f89478.zip to ../data/0_downloads/AgERA5_burkina_solar_radiation_flux_daily_2001.zip (15.4M)\n",
      "2023-02-21 17:54:44,194 INFO Download rate 3.1M/s\n",
      "2023-02-21 17:54:44,278 INFO Welcome to the CDS\n",
      "2023-02-21 17:54:44,279 INFO Sending request to https://cds.climate.copernicus.eu/api/v2/resources/sis-agrometeorological-indicators\n",
      "2023-02-21 17:54:44,327 INFO Request is queued\n"
     ]
    },
    {
     "name": "stdout",
     "output_type": "stream",
     "text": [
      "Download OK\n"
     ]
    },
    {
     "name": "stderr",
     "output_type": "stream",
     "text": [
      "2023-02-21 17:54:45,362 INFO Request is running\n",
      "2023-02-21 17:55:59,600 INFO Request is completed\n",
      "2023-02-21 17:55:59,600 INFO Downloading https://download-0019.copernicus-climate.eu/cache-compute-0019/cache/data7/dataset-sis-agrometeorological-indicators-8b9e26e8-c5ad-417c-9559-0aefab2a67f5.zip to ../data/0_downloads/AgERA5_burkina_vapour_pressure_24_hour_mean_2001.zip (16.2M)\n",
      "2023-02-21 17:56:00,523 INFO Download rate 17.5M/s\n",
      "2023-02-21 17:56:00,593 INFO Welcome to the CDS\n",
      "2023-02-21 17:56:00,595 INFO Sending request to https://cds.climate.copernicus.eu/api/v2/resources/sis-agrometeorological-indicators\n",
      "2023-02-21 17:56:00,644 INFO Request is queued\n"
     ]
    },
    {
     "name": "stdout",
     "output_type": "stream",
     "text": [
      "Download OK\n"
     ]
    },
    {
     "name": "stderr",
     "output_type": "stream",
     "text": [
      "2023-02-21 17:56:01,679 INFO Request is running\n",
      "2023-02-21 17:57:15,923 INFO Request is completed\n",
      "2023-02-21 17:57:15,924 INFO Downloading https://download-0013-clone.copernicus-climate.eu/cache-compute-0013/cache/data7/dataset-sis-agrometeorological-indicators-f6fddb0d-4272-4f71-9fff-aee67a0be744.zip to ../data/0_downloads/AgERA5_burkina_10m_wind_speed_24_hour_mean_2001.zip (16.4M)\n",
      "2023-02-21 17:57:16,829 INFO Download rate 18.2M/s\n",
      "2023-02-21 17:57:16,898 INFO Welcome to the CDS\n",
      "2023-02-21 17:57:16,899 INFO Sending request to https://cds.climate.copernicus.eu/api/v2/resources/sis-agrometeorological-indicators\n",
      "2023-02-21 17:57:16,962 INFO Request is queued\n"
     ]
    },
    {
     "name": "stdout",
     "output_type": "stream",
     "text": [
      "Download OK\n"
     ]
    },
    {
     "name": "stderr",
     "output_type": "stream",
     "text": [
      "2023-02-21 17:57:18,002 INFO Request is running\n",
      "2023-02-21 17:58:32,253 INFO Request is completed\n",
      "2023-02-21 17:58:32,255 INFO Downloading https://download-0019.copernicus-climate.eu/cache-compute-0019/cache/data6/dataset-sis-agrometeorological-indicators-6521fb1b-7be8-40e3-8a2d-b2dbb16ae27b.zip to ../data/0_downloads/AgERA5_burkina_2m_temperature_24_hour_mean_2001.zip (14.7M)\n",
      "2023-02-21 17:58:33,130 INFO Download rate 16.8M/s\n"
     ]
    },
    {
     "name": "stdout",
     "output_type": "stream",
     "text": [
      "Download OK\n",
      "===== extract_agERA5_month =====\n"
     ]
    },
    {
     "name": "stderr",
     "output_type": "stream",
     "text": [
      "100%|██████████| 6/6 [00:06<00:00,  1.16s/it]\n"
     ]
    },
    {
     "name": "stdout",
     "output_type": "stream",
     "text": [
      "Extraction OK\n",
      "===== convert_AgERA5_netcdf_to_geotiff =====\n"
     ]
    },
    {
     "name": "stderr",
     "output_type": "stream",
     "text": [
      "100%|██████████| 365/365 [00:13<00:00, 27.40it/s]\n",
      "100%|██████████| 365/365 [00:13<00:00, 27.13it/s]\n",
      "100%|██████████| 365/365 [00:13<00:00, 27.19it/s]\n",
      "100%|██████████| 365/365 [00:14<00:00, 25.97it/s]\n",
      "100%|██████████| 365/365 [00:16<00:00, 21.99it/s]\n",
      "100%|██████████| 365/365 [00:15<00:00, 23.04it/s]\n"
     ]
    },
    {
     "name": "stdout",
     "output_type": "stream",
     "text": [
      "===== calculate_AgERA5_ET0_and_save =====\n"
     ]
    },
    {
     "name": "stderr",
     "output_type": "stream",
     "text": [
      "100%|██████████| 3580/3580 [11:33<00:00,  5.16it/s]\n",
      " 29%|██▉       | 7/24 [2:24:25<6:02:48, 1280.48s/it]2023-02-21 18:11:40,702 INFO Welcome to the CDS\n",
      "2023-02-21 18:11:40,703 INFO Sending request to https://cds.climate.copernicus.eu/api/v2/resources/sis-agrometeorological-indicators\n"
     ]
    },
    {
     "name": "stdout",
     "output_type": "stream",
     "text": [
      "===== Query date 2001-01-01 all done ! =====\n",
      "===== download_AgERA5_data =====\n",
      "Mode 'year' acknowledged. Will download data for year 2002\n",
      "Please note that last available date on AgERA5 should be 2023-02-13\n"
     ]
    },
    {
     "name": "stderr",
     "output_type": "stream",
     "text": [
      "2023-02-21 18:11:40,793 INFO Request is queued\n",
      "2023-02-21 18:11:41,830 INFO Request is running\n",
      "2023-02-21 18:12:56,150 INFO Request is completed\n",
      "2023-02-21 18:12:56,152 INFO Downloading https://download-0003-clone.copernicus-climate.eu/cache-compute-0003/cache/data3/dataset-sis-agrometeorological-indicators-2bb6b923-09fd-423b-93e6-ed662a9359c2.zip to ../data/0_downloads/AgERA5_burkina_2m_temperature_24_hour_minimum_2002.zip (14.7M)\n",
      "2023-02-21 18:12:57,941 INFO Download rate 8.2M/s\n",
      "2023-02-21 18:12:58,012 INFO Welcome to the CDS\n",
      "2023-02-21 18:12:58,012 INFO Sending request to https://cds.climate.copernicus.eu/api/v2/resources/sis-agrometeorological-indicators\n",
      "2023-02-21 18:12:58,101 INFO Request is queued\n"
     ]
    },
    {
     "name": "stdout",
     "output_type": "stream",
     "text": [
      "Download OK\n"
     ]
    },
    {
     "name": "stderr",
     "output_type": "stream",
     "text": [
      "2023-02-21 18:12:59,136 INFO Request is running\n",
      "2023-02-21 18:14:51,887 INFO Request is completed\n",
      "2023-02-21 18:14:51,888 INFO Downloading https://download-0000-clone.copernicus-climate.eu/cache-compute-0000/cache/data7/dataset-sis-agrometeorological-indicators-8cb90232-5155-40ba-8646-b8a066313a30.zip to ../data/0_downloads/AgERA5_burkina_2m_temperature_24_hour_maximum_2002.zip (14.7M)\n",
      "2023-02-21 18:14:52,814 INFO Download rate 15.9M/s\n",
      "2023-02-21 18:14:52,880 INFO Welcome to the CDS\n",
      "2023-02-21 18:14:52,881 INFO Sending request to https://cds.climate.copernicus.eu/api/v2/resources/sis-agrometeorological-indicators\n",
      "2023-02-21 18:14:52,940 INFO Request is queued\n"
     ]
    },
    {
     "name": "stdout",
     "output_type": "stream",
     "text": [
      "Download OK\n"
     ]
    },
    {
     "name": "stderr",
     "output_type": "stream",
     "text": [
      "2023-02-21 18:14:53,975 INFO Request is running\n",
      "2023-02-21 18:16:08,193 INFO Request is completed\n",
      "2023-02-21 18:16:08,195 INFO Downloading https://download-0017.copernicus-climate.eu/cache-compute-0017/cache/data0/dataset-sis-agrometeorological-indicators-caf9bf47-58eb-400e-8d17-dbd521a8f919.zip to ../data/0_downloads/AgERA5_burkina_solar_radiation_flux_daily_2002.zip (15.4M)\n",
      "2023-02-21 18:16:09,139 INFO Download rate 16.4M/s\n",
      "2023-02-21 18:16:09,209 INFO Welcome to the CDS\n",
      "2023-02-21 18:16:09,209 INFO Sending request to https://cds.climate.copernicus.eu/api/v2/resources/sis-agrometeorological-indicators\n",
      "2023-02-21 18:16:09,349 INFO Request is queued\n"
     ]
    },
    {
     "name": "stdout",
     "output_type": "stream",
     "text": [
      "Download OK\n"
     ]
    },
    {
     "name": "stderr",
     "output_type": "stream",
     "text": [
      "2023-02-21 18:16:10,384 INFO Request is running\n",
      "2023-02-21 18:17:24,602 INFO Request is completed\n",
      "2023-02-21 18:17:24,603 INFO Downloading https://download-0008-clone.copernicus-climate.eu/cache-compute-0008/cache/data6/dataset-sis-agrometeorological-indicators-8f14f66b-0454-489f-a2bd-d32f34567918.zip to ../data/0_downloads/AgERA5_burkina_vapour_pressure_24_hour_mean_2002.zip (16.1M)\n",
      "2023-02-21 18:17:25,622 INFO Download rate 15.8M/s\n",
      "2023-02-21 18:17:25,691 INFO Welcome to the CDS\n",
      "2023-02-21 18:17:25,692 INFO Sending request to https://cds.climate.copernicus.eu/api/v2/resources/sis-agrometeorological-indicators\n",
      "2023-02-21 18:17:25,738 INFO Request is queued\n"
     ]
    },
    {
     "name": "stdout",
     "output_type": "stream",
     "text": [
      "Download OK\n"
     ]
    },
    {
     "name": "stderr",
     "output_type": "stream",
     "text": [
      "2023-02-21 18:17:26,773 INFO Request is running\n",
      "2023-02-21 18:18:41,001 INFO Request is completed\n",
      "2023-02-21 18:18:41,002 INFO Downloading https://download-0010-clone.copernicus-climate.eu/cache-compute-0010/cache/data1/dataset-sis-agrometeorological-indicators-1815d62d-d189-4822-85d6-b9f47a9b7543.zip to ../data/0_downloads/AgERA5_burkina_10m_wind_speed_24_hour_mean_2002.zip (16.4M)\n",
      "2023-02-21 18:18:42,002 INFO Download rate 16.4M/s\n",
      "2023-02-21 18:18:42,071 INFO Welcome to the CDS\n",
      "2023-02-21 18:18:42,072 INFO Sending request to https://cds.climate.copernicus.eu/api/v2/resources/sis-agrometeorological-indicators\n",
      "2023-02-21 18:18:42,218 INFO Request is queued\n"
     ]
    },
    {
     "name": "stdout",
     "output_type": "stream",
     "text": [
      "Download OK\n"
     ]
    },
    {
     "name": "stderr",
     "output_type": "stream",
     "text": [
      "2023-02-21 18:18:43,253 INFO Request is running\n",
      "2023-02-21 18:19:57,484 INFO Request is completed\n",
      "2023-02-21 18:19:57,485 INFO Downloading https://download-0017.copernicus-climate.eu/cache-compute-0017/cache/data0/dataset-sis-agrometeorological-indicators-ad8747cf-ec85-4352-a69a-ae84f64ec0c2.zip to ../data/0_downloads/AgERA5_burkina_2m_temperature_24_hour_mean_2002.zip (14.7M)\n",
      "2023-02-21 18:19:58,404 INFO Download rate 16M/s\n"
     ]
    },
    {
     "name": "stdout",
     "output_type": "stream",
     "text": [
      "Download OK\n",
      "===== extract_agERA5_month =====\n"
     ]
    },
    {
     "name": "stderr",
     "output_type": "stream",
     "text": [
      "100%|██████████| 6/6 [00:07<00:00,  1.23s/it]\n"
     ]
    },
    {
     "name": "stdout",
     "output_type": "stream",
     "text": [
      "Extraction OK\n",
      "===== convert_AgERA5_netcdf_to_geotiff =====\n"
     ]
    },
    {
     "name": "stderr",
     "output_type": "stream",
     "text": [
      "100%|██████████| 365/365 [00:15<00:00, 24.23it/s]\n",
      "100%|██████████| 365/365 [00:18<00:00, 19.41it/s]\n",
      "100%|██████████| 365/365 [00:15<00:00, 24.18it/s]\n",
      "100%|██████████| 365/365 [00:17<00:00, 20.93it/s]\n",
      "100%|██████████| 365/365 [00:17<00:00, 20.35it/s]\n",
      "100%|██████████| 365/365 [00:14<00:00, 25.28it/s]\n"
     ]
    },
    {
     "name": "stdout",
     "output_type": "stream",
     "text": [
      "===== calculate_AgERA5_ET0_and_save =====\n"
     ]
    },
    {
     "name": "stderr",
     "output_type": "stream",
     "text": [
      "100%|██████████| 3945/3945 [14:19:23<00:00, 13.07s/it]\n",
      " 33%|███▎      | 8/24 [16:53:52<77:41:29, 17480.60s/it]"
     ]
    },
    {
     "name": "stdout",
     "output_type": "stream",
     "text": [
      "===== Query date 2002-01-01 all done ! =====\n",
      "===== download_AgERA5_data =====\n",
      "Mode 'year' acknowledged. Will download data for year 2003\n",
      "Please note that last available date on AgERA5 should be 2023-02-14\n"
     ]
    },
    {
     "name": "stderr",
     "output_type": "stream",
     "text": [
      "2023-02-22 08:41:08,718 INFO Welcome to the CDS\n",
      "2023-02-22 08:41:08,719 INFO Sending request to https://cds.climate.copernicus.eu/api/v2/resources/sis-agrometeorological-indicators\n",
      "2023-02-22 08:41:08,844 INFO Request is queued\n",
      "2023-02-22 08:41:09,885 INFO Request is running\n",
      "2023-02-22 08:42:24,123 INFO Request is completed\n",
      "2023-02-22 08:42:24,124 INFO Downloading https://download-0009-clone.copernicus-climate.eu/cache-compute-0009/cache/data6/dataset-sis-agrometeorological-indicators-05d211c9-5fee-4ea0-be5f-7ed6489d3184.zip to ../data/0_downloads/AgERA5_burkina_2m_temperature_24_hour_minimum_2003.zip (14.7M)\n",
      "2023-02-22 08:42:25,362 INFO Download rate 11.9M/s\n",
      "2023-02-22 08:42:25,433 INFO Welcome to the CDS\n",
      "2023-02-22 08:42:25,434 INFO Sending request to https://cds.climate.copernicus.eu/api/v2/resources/sis-agrometeorological-indicators\n",
      "2023-02-22 08:42:25,545 INFO Request is queued\n"
     ]
    },
    {
     "name": "stdout",
     "output_type": "stream",
     "text": [
      "Download OK\n"
     ]
    },
    {
     "name": "stderr",
     "output_type": "stream",
     "text": [
      "2023-02-22 08:42:26,581 INFO Request is running\n",
      "2023-02-22 08:43:40,822 INFO Request is completed\n",
      "2023-02-22 08:43:40,824 INFO Downloading https://download-0015-clone.copernicus-climate.eu/cache-compute-0015/cache/data7/dataset-sis-agrometeorological-indicators-e489463b-d084-4078-b31d-e3fe2bdd2748.zip to ../data/0_downloads/AgERA5_burkina_2m_temperature_24_hour_maximum_2003.zip (14.7M)\n",
      "2023-02-22 08:43:41,804 INFO Download rate 15M/s\n",
      "2023-02-22 08:43:41,877 INFO Welcome to the CDS\n",
      "2023-02-22 08:43:41,878 INFO Sending request to https://cds.climate.copernicus.eu/api/v2/resources/sis-agrometeorological-indicators\n",
      "2023-02-22 08:43:41,960 INFO Request is queued\n"
     ]
    },
    {
     "name": "stdout",
     "output_type": "stream",
     "text": [
      "Download OK\n"
     ]
    },
    {
     "name": "stderr",
     "output_type": "stream",
     "text": [
      "2023-02-22 08:43:42,996 INFO Request is running\n",
      "2023-02-22 08:45:35,729 INFO Request is completed\n",
      "2023-02-22 08:45:35,730 INFO Downloading https://download-0004-clone.copernicus-climate.eu/cache-compute-0004/cache/data9/dataset-sis-agrometeorological-indicators-3c2fe119-15e6-4507-bf32-2c5083a7ccaf.zip to ../data/0_downloads/AgERA5_burkina_solar_radiation_flux_daily_2003.zip (15.5M)\n",
      "2023-02-22 08:45:36,780 INFO Download rate 14.7M/s\n",
      "2023-02-22 08:45:36,848 INFO Welcome to the CDS\n",
      "2023-02-22 08:45:36,849 INFO Sending request to https://cds.climate.copernicus.eu/api/v2/resources/sis-agrometeorological-indicators\n",
      "2023-02-22 08:45:36,913 INFO Request is queued\n"
     ]
    },
    {
     "name": "stdout",
     "output_type": "stream",
     "text": [
      "Download OK\n"
     ]
    },
    {
     "name": "stderr",
     "output_type": "stream",
     "text": [
      "2023-02-22 08:45:37,949 INFO Request is running\n",
      "2023-02-22 08:47:30,697 INFO Request is completed\n",
      "2023-02-22 08:47:30,698 INFO Downloading https://download-0020.copernicus-climate.eu/cache-compute-0020/cache/data1/dataset-sis-agrometeorological-indicators-bfc93b41-62a4-44bc-8d32-d00a4c62ee3f.zip to ../data/0_downloads/AgERA5_burkina_vapour_pressure_24_hour_mean_2003.zip (16.1M)\n",
      "2023-02-22 08:47:31,784 INFO Download rate 14.9M/s\n",
      "2023-02-22 08:47:31,858 INFO Welcome to the CDS\n",
      "2023-02-22 08:47:31,858 INFO Sending request to https://cds.climate.copernicus.eu/api/v2/resources/sis-agrometeorological-indicators\n",
      "2023-02-22 08:47:31,941 INFO Request is queued\n"
     ]
    },
    {
     "name": "stdout",
     "output_type": "stream",
     "text": [
      "Download OK\n"
     ]
    },
    {
     "name": "stderr",
     "output_type": "stream",
     "text": [
      "2023-02-22 08:47:32,976 INFO Request is running\n",
      "2023-02-22 08:49:25,722 INFO Request is completed\n",
      "2023-02-22 08:49:25,723 INFO Downloading https://download-0003-clone.copernicus-climate.eu/cache-compute-0003/cache/data8/dataset-sis-agrometeorological-indicators-a1fbc688-adf3-450d-9dda-b58f71823037.zip to ../data/0_downloads/AgERA5_burkina_10m_wind_speed_24_hour_mean_2003.zip (16.4M)\n",
      "2023-02-22 08:49:26,700 INFO Download rate 16.8M/s\n",
      "2023-02-22 08:49:26,773 INFO Welcome to the CDS\n",
      "2023-02-22 08:49:26,774 INFO Sending request to https://cds.climate.copernicus.eu/api/v2/resources/sis-agrometeorological-indicators\n",
      "2023-02-22 08:49:26,864 INFO Request is queued\n"
     ]
    },
    {
     "name": "stdout",
     "output_type": "stream",
     "text": [
      "Download OK\n"
     ]
    },
    {
     "name": "stderr",
     "output_type": "stream",
     "text": [
      "2023-02-22 08:49:27,899 INFO Request is running\n",
      "2023-02-22 08:51:20,655 INFO Request is completed\n",
      "2023-02-22 08:51:20,656 INFO Downloading https://download-0007-clone.copernicus-climate.eu/cache-compute-0007/cache/data7/dataset-sis-agrometeorological-indicators-8ac11619-6483-48a1-aa6d-c8433f13bf73.zip to ../data/0_downloads/AgERA5_burkina_2m_temperature_24_hour_mean_2003.zip (14.7M)\n",
      "2023-02-22 08:51:22,139 INFO Download rate 9.9M/s\n"
     ]
    },
    {
     "name": "stdout",
     "output_type": "stream",
     "text": [
      "Download OK\n",
      "===== extract_agERA5_month =====\n"
     ]
    },
    {
     "name": "stderr",
     "output_type": "stream",
     "text": [
      "100%|██████████| 6/6 [00:07<00:00,  1.28s/it]\n"
     ]
    },
    {
     "name": "stdout",
     "output_type": "stream",
     "text": [
      "Extraction OK\n",
      "===== convert_AgERA5_netcdf_to_geotiff =====\n"
     ]
    },
    {
     "name": "stderr",
     "output_type": "stream",
     "text": [
      "100%|██████████| 365/365 [00:15<00:00, 23.63it/s]\n",
      "100%|██████████| 365/365 [00:17<00:00, 21.39it/s]\n",
      "100%|██████████| 365/365 [00:17<00:00, 20.81it/s]\n",
      "100%|██████████| 365/365 [00:17<00:00, 20.86it/s]\n",
      "100%|██████████| 365/365 [00:15<00:00, 23.10it/s]\n",
      "100%|██████████| 365/365 [00:15<00:00, 22.92it/s]\n"
     ]
    },
    {
     "name": "stdout",
     "output_type": "stream",
     "text": [
      "===== calculate_AgERA5_ET0_and_save =====\n"
     ]
    },
    {
     "name": "stderr",
     "output_type": "stream",
     "text": [
      "100%|██████████| 4310/4310 [13:35<00:00,  5.28it/s]\n",
      " 38%|███▊      | 9/24 [17:19:29<52:04:03, 12496.25s/it]2023-02-22 09:06:45,108 INFO Welcome to the CDS\n",
      "2023-02-22 09:06:45,109 INFO Sending request to https://cds.climate.copernicus.eu/api/v2/resources/sis-agrometeorological-indicators\n"
     ]
    },
    {
     "name": "stdout",
     "output_type": "stream",
     "text": [
      "===== Query date 2003-01-01 all done ! =====\n",
      "===== download_AgERA5_data =====\n",
      "Mode 'year' acknowledged. Will download data for year 2004\n",
      "Please note that last available date on AgERA5 should be 2023-02-14\n"
     ]
    },
    {
     "name": "stderr",
     "output_type": "stream",
     "text": [
      "2023-02-22 09:06:45,199 INFO Request is queued\n",
      "2023-02-22 09:06:46,236 INFO Request is running\n",
      "2023-02-22 09:08:00,476 INFO Request is completed\n",
      "2023-02-22 09:08:00,477 INFO Downloading https://download-0021.copernicus-climate.eu/cache-compute-0021/cache/data4/dataset-sis-agrometeorological-indicators-0b1f1b56-d5b4-4c49-9dc3-690d461ed9d7.zip to ../data/0_downloads/AgERA5_burkina_2m_temperature_24_hour_minimum_2004.zip (14.7M)\n",
      "2023-02-22 09:08:01,491 INFO Download rate 14.6M/s\n",
      "2023-02-22 09:08:01,559 INFO Welcome to the CDS\n",
      "2023-02-22 09:08:01,560 INFO Sending request to https://cds.climate.copernicus.eu/api/v2/resources/sis-agrometeorological-indicators\n",
      "2023-02-22 09:08:01,647 INFO Request is queued\n"
     ]
    },
    {
     "name": "stdout",
     "output_type": "stream",
     "text": [
      "Download OK\n"
     ]
    },
    {
     "name": "stderr",
     "output_type": "stream",
     "text": [
      "2023-02-22 09:08:02,684 INFO Request is running\n",
      "2023-02-22 09:09:16,927 INFO Request is completed\n",
      "2023-02-22 09:09:16,929 INFO Downloading https://download-0004-clone.copernicus-climate.eu/cache-compute-0004/cache/data2/dataset-sis-agrometeorological-indicators-e2331061-0d0a-4e7e-b06d-ebbcddc43f95.zip to ../data/0_downloads/AgERA5_burkina_2m_temperature_24_hour_maximum_2004.zip (14.7M)\n",
      "2023-02-22 09:09:17,756 INFO Download rate 17.8M/s\n",
      "2023-02-22 09:09:17,826 INFO Welcome to the CDS\n",
      "2023-02-22 09:09:17,828 INFO Sending request to https://cds.climate.copernicus.eu/api/v2/resources/sis-agrometeorological-indicators\n",
      "2023-02-22 09:09:17,930 INFO Request is queued\n"
     ]
    },
    {
     "name": "stdout",
     "output_type": "stream",
     "text": [
      "Download OK\n"
     ]
    },
    {
     "name": "stderr",
     "output_type": "stream",
     "text": [
      "2023-02-22 09:09:18,969 INFO Request is running\n",
      "2023-02-22 09:10:33,213 INFO Request is completed\n",
      "2023-02-22 09:10:33,214 INFO Downloading https://download-0016.copernicus-climate.eu/cache-compute-0016/cache/data0/dataset-sis-agrometeorological-indicators-618ea792-a813-4548-863b-a826295cf6bb.zip to ../data/0_downloads/AgERA5_burkina_solar_radiation_flux_daily_2004.zip (15.5M)\n",
      "2023-02-22 09:10:34,125 INFO Download rate 17M/s\n",
      "2023-02-22 09:10:34,193 INFO Welcome to the CDS\n",
      "2023-02-22 09:10:34,194 INFO Sending request to https://cds.climate.copernicus.eu/api/v2/resources/sis-agrometeorological-indicators\n",
      "2023-02-22 09:10:34,253 INFO Request is queued\n"
     ]
    },
    {
     "name": "stdout",
     "output_type": "stream",
     "text": [
      "Download OK\n"
     ]
    },
    {
     "name": "stderr",
     "output_type": "stream",
     "text": [
      "2023-02-22 09:10:35,288 INFO Request is running\n",
      "2023-02-22 09:12:28,047 INFO Request is completed\n",
      "2023-02-22 09:12:28,048 INFO Downloading https://download-0020.copernicus-climate.eu/cache-compute-0020/cache/data4/dataset-sis-agrometeorological-indicators-bcccfc6e-85cd-4c20-9ca4-3a5d4c2449f5.zip to ../data/0_downloads/AgERA5_burkina_vapour_pressure_24_hour_mean_2004.zip (16.2M)\n",
      "2023-02-22 09:12:28,973 INFO Download rate 17.5M/s\n",
      "2023-02-22 09:12:29,043 INFO Welcome to the CDS\n",
      "2023-02-22 09:12:29,044 INFO Sending request to https://cds.climate.copernicus.eu/api/v2/resources/sis-agrometeorological-indicators\n",
      "2023-02-22 09:12:29,142 INFO Request is queued\n"
     ]
    },
    {
     "name": "stdout",
     "output_type": "stream",
     "text": [
      "Download OK\n"
     ]
    },
    {
     "name": "stderr",
     "output_type": "stream",
     "text": [
      "2023-02-22 09:12:30,183 INFO Request is running\n",
      "2023-02-22 09:14:22,955 INFO Request is completed\n",
      "2023-02-22 09:14:22,956 INFO Downloading https://download-0012-clone.copernicus-climate.eu/cache-compute-0012/cache/data3/dataset-sis-agrometeorological-indicators-7c833002-9341-4a7a-80e2-cc7d945056e4.zip to ../data/0_downloads/AgERA5_burkina_10m_wind_speed_24_hour_mean_2004.zip (16.5M)\n",
      "2023-02-22 09:14:23,890 INFO Download rate 17.7M/s\n",
      "2023-02-22 09:14:23,963 INFO Welcome to the CDS\n",
      "2023-02-22 09:14:23,964 INFO Sending request to https://cds.climate.copernicus.eu/api/v2/resources/sis-agrometeorological-indicators\n",
      "2023-02-22 09:14:24,037 INFO Request is queued\n"
     ]
    },
    {
     "name": "stdout",
     "output_type": "stream",
     "text": [
      "Download OK\n"
     ]
    },
    {
     "name": "stderr",
     "output_type": "stream",
     "text": [
      "2023-02-22 09:14:25,078 INFO Request is running\n",
      "2023-02-22 09:15:39,306 INFO Request is completed\n",
      "2023-02-22 09:15:39,308 INFO Downloading https://download-0014-clone.copernicus-climate.eu/cache-compute-0014/cache/data0/dataset-sis-agrometeorological-indicators-4ae55307-80b2-47c3-a2d4-b4e98231cc0d.zip to ../data/0_downloads/AgERA5_burkina_2m_temperature_24_hour_mean_2004.zip (14.7M)\n",
      "2023-02-22 09:15:44,070 INFO Download rate 3.1M/s\n"
     ]
    },
    {
     "name": "stdout",
     "output_type": "stream",
     "text": [
      "Download OK\n",
      "===== extract_agERA5_month =====\n"
     ]
    },
    {
     "name": "stderr",
     "output_type": "stream",
     "text": [
      "100%|██████████| 6/6 [00:07<00:00,  1.20s/it]\n"
     ]
    },
    {
     "name": "stdout",
     "output_type": "stream",
     "text": [
      "Extraction OK\n",
      "===== convert_AgERA5_netcdf_to_geotiff =====\n"
     ]
    },
    {
     "name": "stderr",
     "output_type": "stream",
     "text": [
      "100%|██████████| 732/732 [00:38<00:00, 19.26it/s]\n",
      "100%|██████████| 732/732 [00:37<00:00, 19.37it/s]\n",
      "100%|██████████| 732/732 [00:39<00:00, 18.47it/s]\n",
      "100%|██████████| 732/732 [00:37<00:00, 19.36it/s]\n",
      "100%|██████████| 732/732 [00:38<00:00, 18.97it/s]\n",
      "100%|██████████| 732/732 [00:43<00:00, 16.86it/s]\n"
     ]
    },
    {
     "name": "stdout",
     "output_type": "stream",
     "text": [
      "===== calculate_AgERA5_ET0_and_save =====\n"
     ]
    },
    {
     "name": "stderr",
     "output_type": "stream",
     "text": [
      "100%|██████████| 4310/4310 [14:32<00:00,  4.94it/s]\n",
      " 42%|████▏     | 10/24 [17:47:03<35:34:45, 9148.96s/it]2023-02-22 09:34:18,939 INFO Welcome to the CDS\n",
      "2023-02-22 09:34:18,941 INFO Sending request to https://cds.climate.copernicus.eu/api/v2/resources/sis-agrometeorological-indicators\n"
     ]
    },
    {
     "name": "stdout",
     "output_type": "stream",
     "text": [
      "===== Query date 2004-01-01 all done ! =====\n",
      "===== download_AgERA5_data =====\n",
      "Mode 'year' acknowledged. Will download data for year 2005\n",
      "Please note that last available date on AgERA5 should be 2023-02-14\n"
     ]
    },
    {
     "name": "stderr",
     "output_type": "stream",
     "text": [
      "2023-02-22 09:34:19,088 INFO Request is queued\n",
      "2023-02-22 09:34:20,125 INFO Request is running\n",
      "2023-02-22 09:35:34,376 INFO Request is completed\n",
      "2023-02-22 09:35:34,377 INFO Downloading https://download-0008-clone.copernicus-climate.eu/cache-compute-0008/cache/data8/dataset-sis-agrometeorological-indicators-5d465b2f-34a4-4520-a665-c7cd8b08e35e.zip to ../data/0_downloads/AgERA5_burkina_2m_temperature_24_hour_minimum_2005.zip (14.7M)\n",
      "2023-02-22 09:35:35,324 INFO Download rate 15.5M/s\n",
      "2023-02-22 09:35:35,391 INFO Welcome to the CDS\n",
      "2023-02-22 09:35:35,392 INFO Sending request to https://cds.climate.copernicus.eu/api/v2/resources/sis-agrometeorological-indicators\n",
      "2023-02-22 09:35:35,454 INFO Request is queued\n"
     ]
    },
    {
     "name": "stdout",
     "output_type": "stream",
     "text": [
      "Download OK\n"
     ]
    },
    {
     "name": "stderr",
     "output_type": "stream",
     "text": [
      "2023-02-22 09:35:36,492 INFO Request is running\n",
      "2023-02-22 09:37:29,244 INFO Request is completed\n",
      "2023-02-22 09:37:29,246 INFO Downloading https://download-0016.copernicus-climate.eu/cache-compute-0016/cache/data6/dataset-sis-agrometeorological-indicators-02560341-fa3b-4fca-a9f1-630aa48b1d07.zip to ../data/0_downloads/AgERA5_burkina_2m_temperature_24_hour_maximum_2005.zip (14.7M)\n",
      "2023-02-22 09:37:30,689 INFO Download rate 10.2M/s\n",
      "2023-02-22 09:37:30,758 INFO Welcome to the CDS\n",
      "2023-02-22 09:37:30,759 INFO Sending request to https://cds.climate.copernicus.eu/api/v2/resources/sis-agrometeorological-indicators\n",
      "2023-02-22 09:37:30,837 INFO Request is queued\n"
     ]
    },
    {
     "name": "stdout",
     "output_type": "stream",
     "text": [
      "Download OK\n"
     ]
    },
    {
     "name": "stderr",
     "output_type": "stream",
     "text": [
      "2023-02-22 09:37:31,876 INFO Request is running\n",
      "2023-02-22 09:39:24,636 INFO Request is completed\n",
      "2023-02-22 09:39:24,638 INFO Downloading https://download-0012-clone.copernicus-climate.eu/cache-compute-0012/cache/data3/dataset-sis-agrometeorological-indicators-86c00136-82ff-40ae-87c0-0514dd7a26d9.zip to ../data/0_downloads/AgERA5_burkina_solar_radiation_flux_daily_2005.zip (15.4M)\n",
      "2023-02-22 09:39:25,532 INFO Download rate 17.3M/s\n",
      "2023-02-22 09:39:25,602 INFO Welcome to the CDS\n",
      "2023-02-22 09:39:25,603 INFO Sending request to https://cds.climate.copernicus.eu/api/v2/resources/sis-agrometeorological-indicators\n",
      "2023-02-22 09:39:25,689 INFO Request is queued\n"
     ]
    },
    {
     "name": "stdout",
     "output_type": "stream",
     "text": [
      "Download OK\n"
     ]
    },
    {
     "name": "stderr",
     "output_type": "stream",
     "text": [
      "2023-02-22 09:39:26,729 INFO Request is running\n",
      "2023-02-22 09:41:19,484 INFO Request is completed\n",
      "2023-02-22 09:41:19,484 INFO Downloading https://download-0001-clone.copernicus-climate.eu/cache-compute-0001/cache/data2/dataset-sis-agrometeorological-indicators-b5a6e98d-a3df-41e1-a7c4-5bfc8de20656.zip to ../data/0_downloads/AgERA5_burkina_vapour_pressure_24_hour_mean_2005.zip (16.1M)\n",
      "2023-02-22 09:41:22,805 INFO Download rate 4.9M/s\n",
      "2023-02-22 09:41:22,874 INFO Welcome to the CDS\n",
      "2023-02-22 09:41:22,875 INFO Sending request to https://cds.climate.copernicus.eu/api/v2/resources/sis-agrometeorological-indicators\n",
      "2023-02-22 09:41:22,940 INFO Request is queued\n"
     ]
    },
    {
     "name": "stdout",
     "output_type": "stream",
     "text": [
      "Download OK\n"
     ]
    },
    {
     "name": "stderr",
     "output_type": "stream",
     "text": [
      "2023-02-22 09:41:23,976 INFO Request is running\n",
      "2023-02-22 09:43:16,729 INFO Request is completed\n",
      "2023-02-22 09:43:16,730 INFO Downloading https://download-0000-clone.copernicus-climate.eu/cache-compute-0000/cache/data1/dataset-sis-agrometeorological-indicators-34054079-b4e5-4550-b93d-4e6e85501588.zip to ../data/0_downloads/AgERA5_burkina_10m_wind_speed_24_hour_mean_2005.zip (16.4M)\n",
      "2023-02-22 09:43:17,724 INFO Download rate 16.5M/s\n",
      "2023-02-22 09:43:17,792 INFO Welcome to the CDS\n",
      "2023-02-22 09:43:17,794 INFO Sending request to https://cds.climate.copernicus.eu/api/v2/resources/sis-agrometeorological-indicators\n",
      "2023-02-22 09:43:17,936 INFO Request is queued\n"
     ]
    },
    {
     "name": "stdout",
     "output_type": "stream",
     "text": [
      "Download OK\n"
     ]
    },
    {
     "name": "stderr",
     "output_type": "stream",
     "text": [
      "2023-02-22 09:43:18,973 INFO Request is running\n",
      "2023-02-22 09:44:33,218 INFO Request is completed\n",
      "2023-02-22 09:44:33,219 INFO Downloading https://download-0007-clone.copernicus-climate.eu/cache-compute-0007/cache/data1/dataset-sis-agrometeorological-indicators-0dc57177-99bf-44ad-9c8b-2e87fcef2a8b.zip to ../data/0_downloads/AgERA5_burkina_2m_temperature_24_hour_mean_2005.zip (14.7M)\n",
      "2023-02-22 09:44:34,128 INFO Download rate 16.1M/s\n"
     ]
    },
    {
     "name": "stdout",
     "output_type": "stream",
     "text": [
      "Download OK\n",
      "===== extract_agERA5_month =====\n"
     ]
    },
    {
     "name": "stderr",
     "output_type": "stream",
     "text": [
      "100%|██████████| 6/6 [00:06<00:00,  1.10s/it]\n"
     ]
    },
    {
     "name": "stdout",
     "output_type": "stream",
     "text": [
      "Extraction OK\n",
      "===== convert_AgERA5_netcdf_to_geotiff =====\n"
     ]
    },
    {
     "name": "stderr",
     "output_type": "stream",
     "text": [
      "100%|██████████| 365/365 [00:12<00:00, 28.41it/s]\n",
      "100%|██████████| 365/365 [00:12<00:00, 28.52it/s]\n",
      "100%|██████████| 365/365 [00:12<00:00, 28.73it/s]\n",
      "100%|██████████| 365/365 [00:12<00:00, 28.60it/s]\n",
      "100%|██████████| 365/365 [00:12<00:00, 29.01it/s]\n",
      "100%|██████████| 365/365 [00:12<00:00, 28.10it/s]\n"
     ]
    },
    {
     "name": "stdout",
     "output_type": "stream",
     "text": [
      "===== calculate_AgERA5_ET0_and_save =====\n"
     ]
    },
    {
     "name": "stderr",
     "output_type": "stream",
     "text": [
      "100%|██████████| 4675/4675 [14:48<00:00,  5.26it/s]\n",
      " 46%|████▌     | 11/24 [18:13:30<24:40:49, 6834.59s/it]2023-02-22 10:00:45,825 INFO Welcome to the CDS\n",
      "2023-02-22 10:00:45,826 INFO Sending request to https://cds.climate.copernicus.eu/api/v2/resources/sis-agrometeorological-indicators\n",
      "2023-02-22 10:00:45,866 INFO Request is queued\n"
     ]
    },
    {
     "name": "stdout",
     "output_type": "stream",
     "text": [
      "===== Query date 2005-01-01 all done ! =====\n",
      "===== download_AgERA5_data =====\n",
      "Mode 'year' acknowledged. Will download data for year 2006\n",
      "Please note that last available date on AgERA5 should be 2023-02-14\n"
     ]
    },
    {
     "name": "stderr",
     "output_type": "stream",
     "text": [
      "2023-02-22 10:00:46,902 INFO Request is running\n",
      "2023-02-22 10:02:01,149 INFO Request is completed\n",
      "2023-02-22 10:02:01,150 INFO Downloading https://download-0004-clone.copernicus-climate.eu/cache-compute-0004/cache/data9/dataset-sis-agrometeorological-indicators-95cd6074-20fd-44ee-8c16-83e1a5974df6.zip to ../data/0_downloads/AgERA5_burkina_2m_temperature_24_hour_minimum_2006.zip (14.7M)\n",
      "2023-02-22 10:02:02,553 INFO Download rate 10.5M/s\n",
      "2023-02-22 10:02:02,622 INFO Welcome to the CDS\n",
      "2023-02-22 10:02:02,623 INFO Sending request to https://cds.climate.copernicus.eu/api/v2/resources/sis-agrometeorological-indicators\n",
      "2023-02-22 10:02:02,700 INFO Request is queued\n"
     ]
    },
    {
     "name": "stdout",
     "output_type": "stream",
     "text": [
      "Download OK\n"
     ]
    },
    {
     "name": "stderr",
     "output_type": "stream",
     "text": [
      "2023-02-22 10:02:03,736 INFO Request is running\n",
      "2023-02-22 10:03:17,978 INFO Request is completed\n",
      "2023-02-22 10:03:17,979 INFO Downloading https://download-0017.copernicus-climate.eu/cache-compute-0017/cache/data1/dataset-sis-agrometeorological-indicators-1ed1f0cf-b287-40c1-b18b-c1a790e907bc.zip to ../data/0_downloads/AgERA5_burkina_2m_temperature_24_hour_maximum_2006.zip (14.7M)\n",
      "2023-02-22 10:03:18,859 INFO Download rate 16.7M/s\n",
      "2023-02-22 10:03:18,928 INFO Welcome to the CDS\n",
      "2023-02-22 10:03:18,928 INFO Sending request to https://cds.climate.copernicus.eu/api/v2/resources/sis-agrometeorological-indicators\n",
      "2023-02-22 10:03:18,980 INFO Request is queued\n"
     ]
    },
    {
     "name": "stdout",
     "output_type": "stream",
     "text": [
      "Download OK\n"
     ]
    },
    {
     "name": "stderr",
     "output_type": "stream",
     "text": [
      "2023-02-22 10:03:20,018 INFO Request is running\n",
      "2023-02-22 10:04:34,266 INFO Request is completed\n",
      "2023-02-22 10:04:34,267 INFO Downloading https://download-0019.copernicus-climate.eu/cache-compute-0019/cache/data2/dataset-sis-agrometeorological-indicators-a5f3cbb8-3950-4ea4-a8a7-d4740255f092.zip to ../data/0_downloads/AgERA5_burkina_solar_radiation_flux_daily_2006.zip (15.4M)\n",
      "2023-02-22 10:04:35,722 INFO Download rate 10.6M/s\n",
      "2023-02-22 10:04:35,791 INFO Welcome to the CDS\n",
      "2023-02-22 10:04:35,792 INFO Sending request to https://cds.climate.copernicus.eu/api/v2/resources/sis-agrometeorological-indicators\n",
      "2023-02-22 10:04:35,910 INFO Request is queued\n"
     ]
    },
    {
     "name": "stdout",
     "output_type": "stream",
     "text": [
      "Download OK\n"
     ]
    },
    {
     "name": "stderr",
     "output_type": "stream",
     "text": [
      "2023-02-22 10:04:36,946 INFO Request is running\n",
      "2023-02-22 10:06:29,703 INFO Request is completed\n",
      "2023-02-22 10:06:29,704 INFO Downloading https://download-0018.copernicus-climate.eu/cache-compute-0018/cache/data9/dataset-sis-agrometeorological-indicators-15cfc4b4-b011-4da4-b6a1-707d1fee24b6.zip to ../data/0_downloads/AgERA5_burkina_vapour_pressure_24_hour_mean_2006.zip (16.2M)\n",
      "2023-02-22 10:06:37,365 INFO Download rate 2.1M/s\n",
      "2023-02-22 10:06:37,435 INFO Welcome to the CDS\n",
      "2023-02-22 10:06:37,436 INFO Sending request to https://cds.climate.copernicus.eu/api/v2/resources/sis-agrometeorological-indicators\n",
      "2023-02-22 10:06:37,484 INFO Request is queued\n"
     ]
    },
    {
     "name": "stdout",
     "output_type": "stream",
     "text": [
      "Download OK\n"
     ]
    },
    {
     "name": "stderr",
     "output_type": "stream",
     "text": [
      "2023-02-22 10:06:38,520 INFO Request is running\n",
      "2023-02-22 10:08:31,342 INFO Request is completed\n",
      "2023-02-22 10:08:31,343 INFO Downloading https://download-0018.copernicus-climate.eu/cache-compute-0018/cache/data1/dataset-sis-agrometeorological-indicators-1e24f36c-00e2-4d76-8085-7cf9b520c20e.zip to ../data/0_downloads/AgERA5_burkina_10m_wind_speed_24_hour_mean_2006.zip (16.4M)\n",
      "2023-02-22 10:08:38,429 INFO Download rate 2.3M/s\n",
      "2023-02-22 10:08:38,496 INFO Welcome to the CDS\n",
      "2023-02-22 10:08:38,498 INFO Sending request to https://cds.climate.copernicus.eu/api/v2/resources/sis-agrometeorological-indicators\n",
      "2023-02-22 10:08:38,583 INFO Request is queued\n"
     ]
    },
    {
     "name": "stdout",
     "output_type": "stream",
     "text": [
      "Download OK\n"
     ]
    },
    {
     "name": "stderr",
     "output_type": "stream",
     "text": [
      "2023-02-22 10:08:39,620 INFO Request is running\n",
      "2023-02-22 10:09:53,878 INFO Request is completed\n",
      "2023-02-22 10:09:53,879 INFO Downloading https://download-0009-clone.copernicus-climate.eu/cache-compute-0009/cache/data4/dataset-sis-agrometeorological-indicators-238ff010-ae11-4a7a-beb1-5e2584346411.zip to ../data/0_downloads/AgERA5_burkina_2m_temperature_24_hour_mean_2006.zip (14.7M)\n",
      "2023-02-22 10:09:54,831 INFO Download rate 15.4M/s\n"
     ]
    },
    {
     "name": "stdout",
     "output_type": "stream",
     "text": [
      "Download OK\n",
      "===== extract_agERA5_month =====\n"
     ]
    },
    {
     "name": "stderr",
     "output_type": "stream",
     "text": [
      "100%|██████████| 6/6 [00:06<00:00,  1.08s/it]\n"
     ]
    },
    {
     "name": "stdout",
     "output_type": "stream",
     "text": [
      "Extraction OK\n",
      "===== convert_AgERA5_netcdf_to_geotiff =====\n"
     ]
    },
    {
     "name": "stderr",
     "output_type": "stream",
     "text": [
      "100%|██████████| 365/365 [00:13<00:00, 27.41it/s]\n",
      "100%|██████████| 365/365 [00:13<00:00, 26.67it/s]\n",
      "100%|██████████| 365/365 [00:14<00:00, 25.84it/s]\n",
      "100%|██████████| 365/365 [00:14<00:00, 25.25it/s]\n",
      "100%|██████████| 365/365 [00:13<00:00, 26.84it/s]\n",
      "100%|██████████| 365/365 [00:14<00:00, 25.68it/s]\n"
     ]
    },
    {
     "name": "stdout",
     "output_type": "stream",
     "text": [
      "===== calculate_AgERA5_ET0_and_save =====\n"
     ]
    },
    {
     "name": "stderr",
     "output_type": "stream",
     "text": [
      "100%|██████████| 5040/5040 [15:58<00:00,  5.26it/s]\n",
      " 50%|█████     | 12/24 [18:40:08<17:28:19, 5241.59s/it]2023-02-22 10:27:23,922 INFO Welcome to the CDS\n",
      "2023-02-22 10:27:23,923 INFO Sending request to https://cds.climate.copernicus.eu/api/v2/resources/sis-agrometeorological-indicators\n"
     ]
    },
    {
     "name": "stdout",
     "output_type": "stream",
     "text": [
      "===== Query date 2006-01-01 all done ! =====\n",
      "===== download_AgERA5_data =====\n",
      "Mode 'year' acknowledged. Will download data for year 2007\n",
      "Please note that last available date on AgERA5 should be 2023-02-14\n"
     ]
    },
    {
     "name": "stderr",
     "output_type": "stream",
     "text": [
      "2023-02-22 10:27:24,099 INFO Request is queued\n",
      "2023-02-22 10:27:25,136 INFO Request is running\n",
      "2023-02-22 10:29:17,898 INFO Request is completed\n",
      "2023-02-22 10:29:17,899 INFO Downloading https://download-0018.copernicus-climate.eu/cache-compute-0018/cache/data9/dataset-sis-agrometeorological-indicators-d75a3656-e313-47df-aacd-cc00f73de7de.zip to ../data/0_downloads/AgERA5_burkina_2m_temperature_24_hour_minimum_2007.zip (14.7M)\n",
      "2023-02-22 10:29:18,819 INFO Download rate 16M/s\n",
      "2023-02-22 10:29:18,888 INFO Welcome to the CDS\n",
      "2023-02-22 10:29:18,889 INFO Sending request to https://cds.climate.copernicus.eu/api/v2/resources/sis-agrometeorological-indicators\n",
      "2023-02-22 10:29:18,996 INFO Request is queued\n"
     ]
    },
    {
     "name": "stdout",
     "output_type": "stream",
     "text": [
      "Download OK\n"
     ]
    },
    {
     "name": "stderr",
     "output_type": "stream",
     "text": [
      "2023-02-22 10:29:20,031 INFO Request is running\n",
      "2023-02-22 10:31:13,012 INFO Request is completed\n",
      "2023-02-22 10:31:13,014 INFO Downloading https://download-0016.copernicus-climate.eu/cache-compute-0016/cache/data1/dataset-sis-agrometeorological-indicators-c4c62f76-abdf-45b9-b1be-82f3ab4b2ba6.zip to ../data/0_downloads/AgERA5_burkina_2m_temperature_24_hour_maximum_2007.zip (14.7M)\n",
      "2023-02-22 10:31:20,266 INFO Download rate 2M/s\n",
      "2023-02-22 10:31:20,338 INFO Welcome to the CDS\n",
      "2023-02-22 10:31:20,339 INFO Sending request to https://cds.climate.copernicus.eu/api/v2/resources/sis-agrometeorological-indicators\n",
      "2023-02-22 10:31:20,422 INFO Request is queued\n"
     ]
    },
    {
     "name": "stdout",
     "output_type": "stream",
     "text": [
      "Download OK\n"
     ]
    },
    {
     "name": "stderr",
     "output_type": "stream",
     "text": [
      "2023-02-22 10:31:22,995 INFO Request is running\n",
      "2023-02-22 10:32:35,695 INFO Request is completed\n",
      "2023-02-22 10:32:35,696 INFO Downloading https://download-0017.copernicus-climate.eu/cache-compute-0017/cache/data9/dataset-sis-agrometeorological-indicators-09812d14-8cd7-4fa6-9ae3-a4d1b6195141.zip to ../data/0_downloads/AgERA5_burkina_solar_radiation_flux_daily_2007.zip (15.4M)\n",
      "2023-02-22 10:32:36,565 INFO Download rate 17.8M/s\n",
      "2023-02-22 10:32:36,635 INFO Welcome to the CDS\n",
      "2023-02-22 10:32:36,636 INFO Sending request to https://cds.climate.copernicus.eu/api/v2/resources/sis-agrometeorological-indicators\n",
      "2023-02-22 10:32:36,715 INFO Request is queued\n"
     ]
    },
    {
     "name": "stdout",
     "output_type": "stream",
     "text": [
      "Download OK\n"
     ]
    },
    {
     "name": "stderr",
     "output_type": "stream",
     "text": [
      "2023-02-22 10:32:37,752 INFO Request is running\n",
      "2023-02-22 10:34:30,505 INFO Request is completed\n",
      "2023-02-22 10:34:30,506 INFO Downloading https://download-0009-clone.copernicus-climate.eu/cache-compute-0009/cache/data1/dataset-sis-agrometeorological-indicators-08aedc27-4ac6-40e4-9cd0-5691f5663c9b.zip to ../data/0_downloads/AgERA5_burkina_vapour_pressure_24_hour_mean_2007.zip (16.1M)\n",
      "2023-02-22 10:34:31,569 INFO Download rate 15.2M/s\n",
      "2023-02-22 10:34:31,641 INFO Welcome to the CDS\n",
      "2023-02-22 10:34:31,642 INFO Sending request to https://cds.climate.copernicus.eu/api/v2/resources/sis-agrometeorological-indicators\n",
      "2023-02-22 10:34:31,687 INFO Request is queued\n"
     ]
    },
    {
     "name": "stdout",
     "output_type": "stream",
     "text": [
      "Download OK\n"
     ]
    },
    {
     "name": "stderr",
     "output_type": "stream",
     "text": [
      "2023-02-22 10:34:32,726 INFO Request is running\n",
      "2023-02-22 10:36:25,487 INFO Request is completed\n",
      "2023-02-22 10:36:25,488 INFO Downloading https://download-0020.copernicus-climate.eu/cache-compute-0020/cache/data9/dataset-sis-agrometeorological-indicators-20324493-2612-44a4-9499-dd1d2d5447bf.zip to ../data/0_downloads/AgERA5_burkina_10m_wind_speed_24_hour_mean_2007.zip (16.4M)\n",
      "2023-02-22 10:36:26,602 INFO Download rate 14.8M/s\n",
      "2023-02-22 10:36:26,669 INFO Welcome to the CDS\n",
      "2023-02-22 10:36:26,669 INFO Sending request to https://cds.climate.copernicus.eu/api/v2/resources/sis-agrometeorological-indicators\n",
      "2023-02-22 10:36:26,718 INFO Request is queued\n"
     ]
    },
    {
     "name": "stdout",
     "output_type": "stream",
     "text": [
      "Download OK\n"
     ]
    },
    {
     "name": "stderr",
     "output_type": "stream",
     "text": [
      "2023-02-22 10:36:27,754 INFO Request is running\n",
      "2023-02-22 10:38:20,484 INFO Request is completed\n",
      "2023-02-22 10:38:20,485 INFO Downloading https://download-0010-clone.copernicus-climate.eu/cache-compute-0010/cache/data4/dataset-sis-agrometeorological-indicators-121fc4a8-52fa-4eaf-89dc-1cdba7fa709c.zip to ../data/0_downloads/AgERA5_burkina_2m_temperature_24_hour_mean_2007.zip (14.7M)\n",
      "2023-02-22 10:38:24,778 INFO Download rate 3.4M/s\n"
     ]
    },
    {
     "name": "stdout",
     "output_type": "stream",
     "text": [
      "Download OK\n",
      "===== extract_agERA5_month =====\n"
     ]
    },
    {
     "name": "stderr",
     "output_type": "stream",
     "text": [
      "100%|██████████| 6/6 [00:07<00:00,  1.24s/it]\n"
     ]
    },
    {
     "name": "stdout",
     "output_type": "stream",
     "text": [
      "Extraction OK\n",
      "===== convert_AgERA5_netcdf_to_geotiff =====\n"
     ]
    },
    {
     "name": "stderr",
     "output_type": "stream",
     "text": [
      "100%|██████████| 365/365 [00:14<00:00, 25.73it/s]\n",
      "100%|██████████| 365/365 [00:15<00:00, 22.99it/s]\n",
      "100%|██████████| 365/365 [00:16<00:00, 21.89it/s]\n",
      "100%|██████████| 365/365 [00:16<00:00, 21.65it/s]\n",
      "100%|██████████| 365/365 [00:19<00:00, 18.36it/s]\n",
      "100%|██████████| 365/365 [00:15<00:00, 23.08it/s]\n"
     ]
    },
    {
     "name": "stdout",
     "output_type": "stream",
     "text": [
      "===== calculate_AgERA5_ET0_and_save =====\n"
     ]
    },
    {
     "name": "stderr",
     "output_type": "stream",
     "text": [
      "100%|██████████| 5405/5405 [18:29<00:00,  4.87it/s]\n",
      " 54%|█████▍    | 13/24 [19:11:25<12:54:05, 4222.36s/it]2023-02-22 10:58:41,019 INFO Welcome to the CDS\n",
      "2023-02-22 10:58:41,019 INFO Sending request to https://cds.climate.copernicus.eu/api/v2/resources/sis-agrometeorological-indicators\n"
     ]
    },
    {
     "name": "stdout",
     "output_type": "stream",
     "text": [
      "===== Query date 2007-01-01 all done ! =====\n",
      "===== download_AgERA5_data =====\n",
      "Mode 'year' acknowledged. Will download data for year 2008\n",
      "Please note that last available date on AgERA5 should be 2023-02-14\n"
     ]
    },
    {
     "name": "stderr",
     "output_type": "stream",
     "text": [
      "2023-02-22 10:58:41,082 INFO Request is queued\n",
      "2023-02-22 10:58:42,122 INFO Request is running\n",
      "2023-02-22 11:00:34,911 INFO Request is completed\n",
      "2023-02-22 11:00:34,911 INFO Downloading https://download-0010-clone.copernicus-climate.eu/cache-compute-0010/cache/data1/dataset-sis-agrometeorological-indicators-433482f6-ed29-49f4-88a9-3d8ab9b97ad9.zip to ../data/0_downloads/AgERA5_burkina_2m_temperature_24_hour_minimum_2008.zip (14.7M)\n",
      "2023-02-22 11:00:35,832 INFO Download rate 16M/s\n",
      "2023-02-22 11:00:35,907 INFO Welcome to the CDS\n",
      "2023-02-22 11:00:35,909 INFO Sending request to https://cds.climate.copernicus.eu/api/v2/resources/sis-agrometeorological-indicators\n",
      "2023-02-22 11:00:35,953 INFO Request is queued\n"
     ]
    },
    {
     "name": "stdout",
     "output_type": "stream",
     "text": [
      "Download OK\n"
     ]
    },
    {
     "name": "stderr",
     "output_type": "stream",
     "text": [
      "2023-02-22 11:00:36,992 INFO Request is running\n",
      "2023-02-22 11:02:29,772 INFO Request is completed\n",
      "2023-02-22 11:02:29,773 INFO Downloading https://download-0001-clone.copernicus-climate.eu/cache-compute-0001/cache/data9/dataset-sis-agrometeorological-indicators-058ecae7-3efb-47a3-a5fa-b81492a21f18.zip to ../data/0_downloads/AgERA5_burkina_2m_temperature_24_hour_maximum_2008.zip (14.7M)\n",
      "2023-02-22 11:02:30,686 INFO Download rate 16.1M/s\n",
      "2023-02-22 11:02:30,761 INFO Welcome to the CDS\n",
      "2023-02-22 11:02:30,762 INFO Sending request to https://cds.climate.copernicus.eu/api/v2/resources/sis-agrometeorological-indicators\n",
      "2023-02-22 11:02:30,844 INFO Request is queued\n"
     ]
    },
    {
     "name": "stdout",
     "output_type": "stream",
     "text": [
      "Download OK\n"
     ]
    },
    {
     "name": "stderr",
     "output_type": "stream",
     "text": [
      "2023-02-22 11:02:31,884 INFO Request is running\n",
      "2023-02-22 11:04:24,664 INFO Request is completed\n",
      "2023-02-22 11:04:24,665 INFO Downloading https://download-0013-clone.copernicus-climate.eu/cache-compute-0013/cache/data5/dataset-sis-agrometeorological-indicators-21a6a937-be88-4bce-920a-835f4eff5d23.zip to ../data/0_downloads/AgERA5_burkina_solar_radiation_flux_daily_2008.zip (15.4M)\n",
      "2023-02-22 11:04:25,715 INFO Download rate 14.7M/s\n",
      "2023-02-22 11:04:25,791 INFO Welcome to the CDS\n",
      "2023-02-22 11:04:25,791 INFO Sending request to https://cds.climate.copernicus.eu/api/v2/resources/sis-agrometeorological-indicators\n",
      "2023-02-22 11:04:25,857 INFO Request is queued\n"
     ]
    },
    {
     "name": "stdout",
     "output_type": "stream",
     "text": [
      "Download OK\n"
     ]
    },
    {
     "name": "stderr",
     "output_type": "stream",
     "text": [
      "2023-02-22 11:04:26,896 INFO Request is running\n",
      "2023-02-22 11:05:41,162 INFO Request is completed\n",
      "2023-02-22 11:05:41,163 INFO Downloading https://download-0006-clone.copernicus-climate.eu/cache-compute-0006/cache/data2/dataset-sis-agrometeorological-indicators-91639755-4f2a-49ae-8368-b033dcc99389.zip to ../data/0_downloads/AgERA5_burkina_vapour_pressure_24_hour_mean_2008.zip (16.2M)\n",
      "2023-02-22 11:05:46,313 INFO Download rate 3.1M/s\n",
      "2023-02-22 11:05:46,387 INFO Welcome to the CDS\n",
      "2023-02-22 11:05:46,388 INFO Sending request to https://cds.climate.copernicus.eu/api/v2/resources/sis-agrometeorological-indicators\n",
      "2023-02-22 11:05:46,436 INFO Request is queued\n"
     ]
    },
    {
     "name": "stdout",
     "output_type": "stream",
     "text": [
      "Download OK\n"
     ]
    },
    {
     "name": "stderr",
     "output_type": "stream",
     "text": [
      "2023-02-22 11:05:47,475 INFO Request is running\n",
      "2023-02-22 11:07:01,744 INFO Request is completed\n",
      "2023-02-22 11:07:01,745 INFO Downloading https://download-0006-clone.copernicus-climate.eu/cache-compute-0006/cache/data3/dataset-sis-agrometeorological-indicators-4a457e4e-e700-4419-85f2-e4e7a75dbf2f.zip to ../data/0_downloads/AgERA5_burkina_10m_wind_speed_24_hour_mean_2008.zip (16.5M)\n",
      "2023-02-22 11:07:02,688 INFO Download rate 17.5M/s\n",
      "2023-02-22 11:07:02,762 INFO Welcome to the CDS\n",
      "2023-02-22 11:07:02,763 INFO Sending request to https://cds.climate.copernicus.eu/api/v2/resources/sis-agrometeorological-indicators\n",
      "2023-02-22 11:07:02,833 INFO Request is queued\n"
     ]
    },
    {
     "name": "stdout",
     "output_type": "stream",
     "text": [
      "Download OK\n"
     ]
    },
    {
     "name": "stderr",
     "output_type": "stream",
     "text": [
      "2023-02-22 11:07:03,872 INFO Request is running\n",
      "2023-02-22 11:08:18,128 INFO Request is completed\n",
      "2023-02-22 11:08:18,129 INFO Downloading https://download-0005-clone.copernicus-climate.eu/cache-compute-0005/cache/data7/dataset-sis-agrometeorological-indicators-f79db246-618d-45d2-915b-c744c06ea61e.zip to ../data/0_downloads/AgERA5_burkina_2m_temperature_24_hour_mean_2008.zip (14.7M)\n",
      "2023-02-22 11:08:19,102 INFO Download rate 15.1M/s\n"
     ]
    },
    {
     "name": "stdout",
     "output_type": "stream",
     "text": [
      "Download OK\n",
      "===== extract_agERA5_month =====\n"
     ]
    },
    {
     "name": "stderr",
     "output_type": "stream",
     "text": [
      "100%|██████████| 6/6 [00:07<00:00,  1.25s/it]\n"
     ]
    },
    {
     "name": "stdout",
     "output_type": "stream",
     "text": [
      "Extraction OK\n",
      "===== convert_AgERA5_netcdf_to_geotiff =====\n"
     ]
    },
    {
     "name": "stderr",
     "output_type": "stream",
     "text": [
      "100%|██████████| 366/366 [00:14<00:00, 24.86it/s]\n",
      "100%|██████████| 366/366 [00:15<00:00, 24.24it/s]\n",
      "100%|██████████| 366/366 [00:15<00:00, 23.04it/s]\n",
      "100%|██████████| 366/366 [00:15<00:00, 22.97it/s]\n",
      "100%|██████████| 366/366 [00:15<00:00, 23.80it/s]\n",
      "100%|██████████| 366/366 [00:17<00:00, 20.77it/s]\n"
     ]
    },
    {
     "name": "stdout",
     "output_type": "stream",
     "text": [
      "===== calculate_AgERA5_ET0_and_save =====\n"
     ]
    },
    {
     "name": "stderr",
     "output_type": "stream",
     "text": [
      "100%|██████████| 5771/5771 [20:41<00:00,  4.65it/s]\n",
      " 58%|█████▊    | 14/24 [19:43:27<9:47:56, 3527.63s/it] 2023-02-22 11:30:43,310 INFO Welcome to the CDS\n",
      "2023-02-22 11:30:43,310 INFO Sending request to https://cds.climate.copernicus.eu/api/v2/resources/sis-agrometeorological-indicators\n"
     ]
    },
    {
     "name": "stdout",
     "output_type": "stream",
     "text": [
      "===== Query date 2008-01-01 all done ! =====\n",
      "===== download_AgERA5_data =====\n",
      "Mode 'year' acknowledged. Will download data for year 2009\n",
      "Please note that last available date on AgERA5 should be 2023-02-14\n"
     ]
    },
    {
     "name": "stderr",
     "output_type": "stream",
     "text": [
      "2023-02-22 11:30:43,382 INFO Request is queued\n",
      "2023-02-22 11:30:44,420 INFO Request is running\n",
      "2023-02-22 11:31:58,682 INFO Request is completed\n",
      "2023-02-22 11:31:58,684 INFO Downloading https://download-0013-clone.copernicus-climate.eu/cache-compute-0013/cache/data2/dataset-sis-agrometeorological-indicators-288eeb28-d356-47ed-8b24-81de219e9eff.zip to ../data/0_downloads/AgERA5_burkina_2m_temperature_24_hour_minimum_2009.zip (14.7M)\n",
      "2023-02-22 11:32:04,445 INFO Download rate 2.6M/s\n",
      "2023-02-22 11:32:04,520 INFO Welcome to the CDS\n",
      "2023-02-22 11:32:04,521 INFO Sending request to https://cds.climate.copernicus.eu/api/v2/resources/sis-agrometeorological-indicators\n",
      "2023-02-22 11:32:04,574 INFO Request is queued\n"
     ]
    },
    {
     "name": "stdout",
     "output_type": "stream",
     "text": [
      "Download OK\n"
     ]
    },
    {
     "name": "stderr",
     "output_type": "stream",
     "text": [
      "2023-02-22 11:32:07,153 INFO Request is running\n",
      "2023-02-22 11:33:58,351 INFO Request is completed\n",
      "2023-02-22 11:33:58,352 INFO Downloading https://download-0018.copernicus-climate.eu/cache-compute-0018/cache/data6/dataset-sis-agrometeorological-indicators-5125e210-0a90-496e-a675-09e78226f598.zip to ../data/0_downloads/AgERA5_burkina_2m_temperature_24_hour_maximum_2009.zip (14.7M)\n",
      "2023-02-22 11:34:01,707 INFO Download rate 4.4M/s\n",
      "2023-02-22 11:34:01,784 INFO Welcome to the CDS\n",
      "2023-02-22 11:34:01,785 INFO Sending request to https://cds.climate.copernicus.eu/api/v2/resources/sis-agrometeorological-indicators\n",
      "2023-02-22 11:34:01,828 INFO Request is queued\n"
     ]
    },
    {
     "name": "stdout",
     "output_type": "stream",
     "text": [
      "Download OK\n"
     ]
    },
    {
     "name": "stderr",
     "output_type": "stream",
     "text": [
      "2023-02-22 11:34:02,867 INFO Request is running\n",
      "2023-02-22 11:35:55,608 INFO Request is completed\n",
      "2023-02-22 11:35:55,608 INFO Downloading https://download-0019.copernicus-climate.eu/cache-compute-0019/cache/data9/dataset-sis-agrometeorological-indicators-aa870575-a945-4bd8-9adc-6218a9cbb94d.zip to ../data/0_downloads/AgERA5_burkina_solar_radiation_flux_daily_2009.zip (15.4M)\n",
      "2023-02-22 11:36:14,325 INFO Download rate 844.7K/s\n",
      "2023-02-22 11:36:14,402 INFO Welcome to the CDS\n",
      "2023-02-22 11:36:14,403 INFO Sending request to https://cds.climate.copernicus.eu/api/v2/resources/sis-agrometeorological-indicators\n",
      "2023-02-22 11:36:14,446 INFO Request is queued\n"
     ]
    },
    {
     "name": "stdout",
     "output_type": "stream",
     "text": [
      "Download OK\n"
     ]
    },
    {
     "name": "stderr",
     "output_type": "stream",
     "text": [
      "2023-02-22 11:36:15,485 INFO Request is running\n",
      "2023-02-22 11:39:05,979 INFO Request is completed\n",
      "2023-02-22 11:39:05,979 INFO Downloading https://download-0001-clone.copernicus-climate.eu/cache-compute-0001/cache/data0/dataset-sis-agrometeorological-indicators-3d724714-d782-46fb-989c-eba2c97f5253.zip to ../data/0_downloads/AgERA5_burkina_vapour_pressure_24_hour_mean_2009.zip (16.1M)\n",
      "2023-02-22 11:39:07,693 INFO Download rate 9.4M/s\n",
      "2023-02-22 11:39:07,768 INFO Welcome to the CDS\n",
      "2023-02-22 11:39:07,769 INFO Sending request to https://cds.climate.copernicus.eu/api/v2/resources/sis-agrometeorological-indicators\n",
      "2023-02-22 11:39:07,837 INFO Request is queued\n"
     ]
    },
    {
     "name": "stdout",
     "output_type": "stream",
     "text": [
      "Download OK\n"
     ]
    },
    {
     "name": "stderr",
     "output_type": "stream",
     "text": [
      "2023-02-22 11:39:08,877 INFO Request is running\n",
      "2023-02-22 11:40:23,137 INFO Request is completed\n",
      "2023-02-22 11:40:23,138 INFO Downloading https://download-0005-clone.copernicus-climate.eu/cache-compute-0005/cache/data8/dataset-sis-agrometeorological-indicators-79abbefe-b0ec-4c9b-949b-d8573b33d029.zip to ../data/0_downloads/AgERA5_burkina_10m_wind_speed_24_hour_mean_2009.zip (16.4M)\n",
      "2023-02-22 11:40:33,256 INFO Download rate 1.6M/s\n",
      "2023-02-22 11:40:33,331 INFO Welcome to the CDS\n",
      "2023-02-22 11:40:33,331 INFO Sending request to https://cds.climate.copernicus.eu/api/v2/resources/sis-agrometeorological-indicators\n",
      "2023-02-22 11:40:33,439 INFO Request is queued\n"
     ]
    },
    {
     "name": "stdout",
     "output_type": "stream",
     "text": [
      "Download OK\n"
     ]
    },
    {
     "name": "stderr",
     "output_type": "stream",
     "text": [
      "2023-02-22 11:40:34,478 INFO Request is running\n",
      "2023-02-22 11:42:27,259 INFO Request is completed\n",
      "2023-02-22 11:42:27,260 INFO Downloading https://download-0018.copernicus-climate.eu/cache-compute-0018/cache/data7/dataset-sis-agrometeorological-indicators-e8368152-8f2d-4d7e-a953-1ad5b37ac778.zip to ../data/0_downloads/AgERA5_burkina_2m_temperature_24_hour_mean_2009.zip (14.7M)\n",
      "2023-02-22 11:42:28,171 INFO Download rate 16.1M/s\n"
     ]
    },
    {
     "name": "stdout",
     "output_type": "stream",
     "text": [
      "Download OK\n",
      "===== extract_agERA5_month =====\n"
     ]
    },
    {
     "name": "stderr",
     "output_type": "stream",
     "text": [
      "100%|██████████| 6/6 [00:07<00:00,  1.28s/it]\n"
     ]
    },
    {
     "name": "stdout",
     "output_type": "stream",
     "text": [
      "Extraction OK\n",
      "===== convert_AgERA5_netcdf_to_geotiff =====\n"
     ]
    },
    {
     "name": "stderr",
     "output_type": "stream",
     "text": [
      "100%|██████████| 365/365 [00:15<00:00, 23.60it/s]\n",
      "100%|██████████| 365/365 [00:18<00:00, 19.93it/s]\n",
      "100%|██████████| 365/365 [00:19<00:00, 19.08it/s]\n",
      "100%|██████████| 365/365 [00:17<00:00, 21.13it/s]\n",
      "100%|██████████| 365/365 [00:18<00:00, 19.62it/s]\n",
      "100%|██████████| 365/365 [00:17<00:00, 21.37it/s]\n"
     ]
    },
    {
     "name": "stdout",
     "output_type": "stream",
     "text": [
      "===== calculate_AgERA5_ET0_and_save =====\n"
     ]
    },
    {
     "name": "stderr",
     "output_type": "stream",
     "text": [
      "100%|██████████| 6136/6136 [22:43<00:00,  4.50it/s]\n",
      " 62%|██████▎   | 15/24 [20:19:50<7:48:20, 3122.25s/it]2023-02-22 12:07:06,102 INFO Welcome to the CDS\n",
      "2023-02-22 12:07:06,102 INFO Sending request to https://cds.climate.copernicus.eu/api/v2/resources/sis-agrometeorological-indicators\n"
     ]
    },
    {
     "name": "stdout",
     "output_type": "stream",
     "text": [
      "===== Query date 2009-01-01 all done ! =====\n",
      "===== download_AgERA5_data =====\n",
      "Mode 'year' acknowledged. Will download data for year 2010\n",
      "Please note that last available date on AgERA5 should be 2023-02-14\n"
     ]
    },
    {
     "name": "stderr",
     "output_type": "stream",
     "text": [
      "2023-02-22 12:07:06,357 INFO Request is queued\n",
      "2023-02-22 12:07:07,396 INFO Request is running\n",
      "2023-02-22 12:09:00,139 INFO Request is completed\n",
      "2023-02-22 12:09:00,142 INFO Downloading https://download-0015-clone.copernicus-climate.eu/cache-compute-0015/cache/data1/dataset-sis-agrometeorological-indicators-051c9c6c-9e70-4bb1-9283-5ceb38a69a2c.zip to ../data/0_downloads/AgERA5_burkina_2m_temperature_24_hour_minimum_2010.zip (14.7M)\n",
      "2023-02-22 12:09:01,269 INFO Download rate 13.1M/s\n",
      "2023-02-22 12:09:01,344 INFO Welcome to the CDS\n",
      "2023-02-22 12:09:01,345 INFO Sending request to https://cds.climate.copernicus.eu/api/v2/resources/sis-agrometeorological-indicators\n",
      "2023-02-22 12:09:01,394 INFO Request is queued\n"
     ]
    },
    {
     "name": "stdout",
     "output_type": "stream",
     "text": [
      "Download OK\n"
     ]
    },
    {
     "name": "stderr",
     "output_type": "stream",
     "text": [
      "2023-02-22 12:09:02,432 INFO Request is running\n",
      "2023-02-22 12:10:55,211 INFO Request is completed\n",
      "2023-02-22 12:10:55,212 INFO Downloading https://download-0011-clone.copernicus-climate.eu/cache-compute-0011/cache/data1/dataset-sis-agrometeorological-indicators-83de7b7b-8067-4c09-9aa4-d2bb5ea768f2.zip to ../data/0_downloads/AgERA5_burkina_2m_temperature_24_hour_maximum_2010.zip (14.7M)\n",
      "2023-02-22 12:10:57,800 INFO Download rate 5.7M/s\n",
      "2023-02-22 12:10:57,874 INFO Welcome to the CDS\n",
      "2023-02-22 12:10:57,875 INFO Sending request to https://cds.climate.copernicus.eu/api/v2/resources/sis-agrometeorological-indicators\n",
      "2023-02-22 12:10:57,996 INFO Request is queued\n"
     ]
    },
    {
     "name": "stdout",
     "output_type": "stream",
     "text": [
      "Download OK\n"
     ]
    },
    {
     "name": "stderr",
     "output_type": "stream",
     "text": [
      "2023-02-22 12:10:59,039 INFO Request is running\n",
      "2023-02-22 12:12:51,811 INFO Request is completed\n",
      "2023-02-22 12:12:51,812 INFO Downloading https://download-0000-clone.copernicus-climate.eu/cache-compute-0000/cache/data5/dataset-sis-agrometeorological-indicators-4ec19af6-db07-4c70-9d5f-ff4c1ccfd394.zip to ../data/0_downloads/AgERA5_burkina_solar_radiation_flux_daily_2010.zip (15.5M)\n",
      "2023-02-22 12:12:55,256 INFO Download rate 4.5M/s\n",
      "2023-02-22 12:12:55,331 INFO Welcome to the CDS\n",
      "2023-02-22 12:12:55,332 INFO Sending request to https://cds.climate.copernicus.eu/api/v2/resources/sis-agrometeorological-indicators\n",
      "2023-02-22 12:12:55,409 INFO Request is queued\n"
     ]
    },
    {
     "name": "stdout",
     "output_type": "stream",
     "text": [
      "Download OK\n"
     ]
    },
    {
     "name": "stderr",
     "output_type": "stream",
     "text": [
      "2023-02-22 12:12:56,448 INFO Request is running\n",
      "2023-02-22 12:14:49,228 INFO Request is completed\n",
      "2023-02-22 12:14:49,229 INFO Downloading https://download-0010-clone.copernicus-climate.eu/cache-compute-0010/cache/data8/dataset-sis-agrometeorological-indicators-7d198801-4f39-4df8-bed8-810ad05bbc32.zip to ../data/0_downloads/AgERA5_burkina_vapour_pressure_24_hour_mean_2010.zip (16.1M)\n",
      "2023-02-22 12:14:50,265 INFO Download rate 15.6M/s\n",
      "2023-02-22 12:14:50,340 INFO Welcome to the CDS\n",
      "2023-02-22 12:14:50,341 INFO Sending request to https://cds.climate.copernicus.eu/api/v2/resources/sis-agrometeorological-indicators\n",
      "2023-02-22 12:14:50,398 INFO Request is queued\n"
     ]
    },
    {
     "name": "stdout",
     "output_type": "stream",
     "text": [
      "Download OK\n"
     ]
    },
    {
     "name": "stderr",
     "output_type": "stream",
     "text": [
      "2023-02-22 12:14:51,441 INFO Request is running\n",
      "2023-02-22 12:16:05,698 INFO Request is completed\n",
      "2023-02-22 12:16:05,699 INFO Downloading https://download-0012-clone.copernicus-climate.eu/cache-compute-0012/cache/data9/dataset-sis-agrometeorological-indicators-20f9e52b-2f38-461d-8e93-3399fe88c86a.zip to ../data/0_downloads/AgERA5_burkina_10m_wind_speed_24_hour_mean_2010.zip (16.4M)\n",
      "2023-02-22 12:16:06,715 INFO Download rate 16.2M/s\n",
      "2023-02-22 12:16:06,791 INFO Welcome to the CDS\n",
      "2023-02-22 12:16:06,791 INFO Sending request to https://cds.climate.copernicus.eu/api/v2/resources/sis-agrometeorological-indicators\n",
      "2023-02-22 12:16:06,834 INFO Request is queued\n"
     ]
    },
    {
     "name": "stdout",
     "output_type": "stream",
     "text": [
      "Download OK\n"
     ]
    },
    {
     "name": "stderr",
     "output_type": "stream",
     "text": [
      "2023-02-22 12:16:07,873 INFO Request is running\n",
      "2023-02-22 12:17:22,134 INFO Request is completed\n",
      "2023-02-22 12:17:22,134 INFO Downloading https://download-0007-clone.copernicus-climate.eu/cache-compute-0007/cache/data2/dataset-sis-agrometeorological-indicators-4975be89-5b18-4282-9ee0-9305adb17c2c.zip to ../data/0_downloads/AgERA5_burkina_2m_temperature_24_hour_mean_2010.zip (14.7M)\n",
      "2023-02-22 12:17:23,156 INFO Download rate 14.4M/s\n"
     ]
    },
    {
     "name": "stdout",
     "output_type": "stream",
     "text": [
      "Download OK\n",
      "===== extract_agERA5_month =====\n"
     ]
    },
    {
     "name": "stderr",
     "output_type": "stream",
     "text": [
      "100%|██████████| 6/6 [00:07<00:00,  1.21s/it]\n"
     ]
    },
    {
     "name": "stdout",
     "output_type": "stream",
     "text": [
      "Extraction OK\n",
      "===== convert_AgERA5_netcdf_to_geotiff =====\n"
     ]
    },
    {
     "name": "stderr",
     "output_type": "stream",
     "text": [
      "100%|██████████| 365/365 [00:14<00:00, 24.79it/s]\n",
      "100%|██████████| 365/365 [00:14<00:00, 24.46it/s]\n",
      "100%|██████████| 365/365 [00:16<00:00, 21.70it/s]\n",
      "100%|██████████| 365/365 [00:17<00:00, 21.23it/s]\n",
      "100%|██████████| 365/365 [00:16<00:00, 22.32it/s]\n",
      "100%|██████████| 365/365 [00:17<00:00, 21.00it/s]\n"
     ]
    },
    {
     "name": "stdout",
     "output_type": "stream",
     "text": [
      "===== calculate_AgERA5_ET0_and_save =====\n"
     ]
    },
    {
     "name": "stderr",
     "output_type": "stream",
     "text": [
      "100%|██████████| 6501/6501 [24:42<00:00,  4.38it/s]\n",
      " 67%|██████▋   | 16/24 [20:56:35<6:19:29, 2846.20s/it]"
     ]
    },
    {
     "name": "stdout",
     "output_type": "stream",
     "text": [
      "===== Query date 2010-01-01 all done ! =====\n",
      "===== download_AgERA5_data =====\n",
      "Mode 'year' acknowledged. Will download data for year 2011\n",
      "Please note that last available date on AgERA5 should be 2023-02-14\n"
     ]
    },
    {
     "name": "stderr",
     "output_type": "stream",
     "text": [
      "2023-02-22 12:43:51,254 INFO Welcome to the CDS\n",
      "2023-02-22 12:43:51,255 INFO Sending request to https://cds.climate.copernicus.eu/api/v2/resources/sis-agrometeorological-indicators\n",
      "2023-02-22 12:43:51,303 INFO Request is queued\n",
      "2023-02-22 12:43:52,338 INFO Request is running\n",
      "2023-02-22 12:45:06,576 INFO Request is completed\n",
      "2023-02-22 12:45:06,577 INFO Downloading https://download-0019.copernicus-climate.eu/cache-compute-0019/cache/data1/dataset-sis-agrometeorological-indicators-5c4ede50-0565-40ee-9fd0-4a9309df6ee0.zip to ../data/0_downloads/AgERA5_burkina_2m_temperature_24_hour_minimum_2011.zip (14.7M)\n",
      "2023-02-22 12:45:07,569 INFO Download rate 14.8M/s\n",
      "2023-02-22 12:45:07,638 INFO Welcome to the CDS\n",
      "2023-02-22 12:45:07,639 INFO Sending request to https://cds.climate.copernicus.eu/api/v2/resources/sis-agrometeorological-indicators\n",
      "2023-02-22 12:45:07,702 INFO Request is queued\n"
     ]
    },
    {
     "name": "stdout",
     "output_type": "stream",
     "text": [
      "Download OK\n"
     ]
    },
    {
     "name": "stderr",
     "output_type": "stream",
     "text": [
      "2023-02-22 12:45:08,738 INFO Request is running\n",
      "2023-02-22 12:47:01,492 INFO Request is completed\n",
      "2023-02-22 12:47:01,493 INFO Downloading https://download-0001-clone.copernicus-climate.eu/cache-compute-0001/cache/data2/dataset-sis-agrometeorological-indicators-0718c9eb-61e2-4d60-9583-49d83ccf57d2.zip to ../data/0_downloads/AgERA5_burkina_2m_temperature_24_hour_maximum_2011.zip (14.7M)\n",
      "2023-02-22 12:47:04,407 INFO Download rate 5M/s\n",
      "2023-02-22 12:47:04,477 INFO Welcome to the CDS\n",
      "2023-02-22 12:47:04,478 INFO Sending request to https://cds.climate.copernicus.eu/api/v2/resources/sis-agrometeorological-indicators\n",
      "2023-02-22 12:47:04,550 INFO Request is queued\n"
     ]
    },
    {
     "name": "stdout",
     "output_type": "stream",
     "text": [
      "Download OK\n"
     ]
    },
    {
     "name": "stderr",
     "output_type": "stream",
     "text": [
      "2023-02-22 12:47:05,586 INFO Request is running\n",
      "2023-02-22 12:48:58,353 INFO Request is completed\n",
      "2023-02-22 12:48:58,354 INFO Downloading https://download-0006-clone.copernicus-climate.eu/cache-compute-0006/cache/data7/dataset-sis-agrometeorological-indicators-6f252aa6-baa4-4606-abbf-a58da802f507.zip to ../data/0_downloads/AgERA5_burkina_solar_radiation_flux_daily_2011.zip (15.4M)\n",
      "2023-02-22 12:48:59,847 INFO Download rate 10.3M/s\n",
      "2023-02-22 12:48:59,919 INFO Welcome to the CDS\n",
      "2023-02-22 12:48:59,919 INFO Sending request to https://cds.climate.copernicus.eu/api/v2/resources/sis-agrometeorological-indicators\n",
      "2023-02-22 12:48:59,959 INFO Request is queued\n"
     ]
    },
    {
     "name": "stdout",
     "output_type": "stream",
     "text": [
      "Download OK\n"
     ]
    },
    {
     "name": "stderr",
     "output_type": "stream",
     "text": [
      "2023-02-22 12:49:00,994 INFO Request is running\n",
      "2023-02-22 12:50:15,233 INFO Request is completed\n",
      "2023-02-22 12:50:15,233 INFO Downloading https://download-0011-clone.copernicus-climate.eu/cache-compute-0011/cache/data0/dataset-sis-agrometeorological-indicators-9621d634-d69a-4465-ad55-0f07095a0d9b.zip to ../data/0_downloads/AgERA5_burkina_vapour_pressure_24_hour_mean_2011.zip (16.1M)\n",
      "2023-02-22 12:50:16,218 INFO Download rate 16.4M/s\n",
      "2023-02-22 12:50:16,291 INFO Welcome to the CDS\n",
      "2023-02-22 12:50:16,292 INFO Sending request to https://cds.climate.copernicus.eu/api/v2/resources/sis-agrometeorological-indicators\n",
      "2023-02-22 12:50:16,357 INFO Request is queued\n"
     ]
    },
    {
     "name": "stdout",
     "output_type": "stream",
     "text": [
      "Download OK\n"
     ]
    },
    {
     "name": "stderr",
     "output_type": "stream",
     "text": [
      "2023-02-22 12:50:17,392 INFO Request is running\n",
      "2023-02-22 12:52:10,143 INFO Request is completed\n",
      "2023-02-22 12:52:10,144 INFO Downloading https://download-0019.copernicus-climate.eu/cache-compute-0019/cache/data9/dataset-sis-agrometeorological-indicators-44ff4078-ba48-46a4-b3cf-b04ffddf64ee.zip to ../data/0_downloads/AgERA5_burkina_10m_wind_speed_24_hour_mean_2011.zip (16.4M)\n",
      "2023-02-22 12:52:11,128 INFO Download rate 16.7M/s\n",
      "2023-02-22 12:52:11,195 INFO Welcome to the CDS\n",
      "2023-02-22 12:52:11,196 INFO Sending request to https://cds.climate.copernicus.eu/api/v2/resources/sis-agrometeorological-indicators\n",
      "2023-02-22 12:52:11,237 INFO Request is queued\n"
     ]
    },
    {
     "name": "stdout",
     "output_type": "stream",
     "text": [
      "Download OK\n"
     ]
    },
    {
     "name": "stderr",
     "output_type": "stream",
     "text": [
      "2023-02-22 12:52:12,274 INFO Request is running\n",
      "2023-02-22 12:54:05,023 INFO Request is completed\n",
      "2023-02-22 12:54:05,024 INFO Downloading https://download-0021.copernicus-climate.eu/cache-compute-0021/cache/data7/dataset-sis-agrometeorological-indicators-424d56d2-9796-4f77-a67c-8cc47db7ece8.zip to ../data/0_downloads/AgERA5_burkina_2m_temperature_24_hour_mean_2011.zip (14.7M)\n",
      "2023-02-22 12:54:06,089 INFO Download rate 13.8M/s\n"
     ]
    },
    {
     "name": "stdout",
     "output_type": "stream",
     "text": [
      "Download OK\n",
      "===== extract_agERA5_month =====\n"
     ]
    },
    {
     "name": "stderr",
     "output_type": "stream",
     "text": [
      "100%|██████████| 6/6 [00:08<00:00,  1.34s/it]\n"
     ]
    },
    {
     "name": "stdout",
     "output_type": "stream",
     "text": [
      "Extraction OK\n",
      "===== convert_AgERA5_netcdf_to_geotiff =====\n"
     ]
    },
    {
     "name": "stderr",
     "output_type": "stream",
     "text": [
      "100%|██████████| 365/365 [00:16<00:00, 21.47it/s]\n",
      "100%|██████████| 365/365 [00:17<00:00, 21.24it/s]\n",
      "100%|██████████| 365/365 [00:17<00:00, 21.14it/s]\n",
      "100%|██████████| 365/365 [00:17<00:00, 21.17it/s]\n",
      "100%|██████████| 365/365 [00:19<00:00, 18.63it/s]\n",
      "100%|██████████| 365/365 [00:20<00:00, 17.57it/s]\n"
     ]
    },
    {
     "name": "stdout",
     "output_type": "stream",
     "text": [
      "===== calculate_AgERA5_ET0_and_save =====\n"
     ]
    },
    {
     "name": "stderr",
     "output_type": "stream",
     "text": [
      "100%|██████████| 6866/6866 [27:24<00:00,  4.18it/s]\n",
      " 71%|███████   | 17/24 [21:36:12<5:15:35, 2705.03s/it]2023-02-22 13:23:27,973 INFO Welcome to the CDS\n",
      "2023-02-22 13:23:27,975 INFO Sending request to https://cds.climate.copernicus.eu/api/v2/resources/sis-agrometeorological-indicators\n"
     ]
    },
    {
     "name": "stdout",
     "output_type": "stream",
     "text": [
      "===== Query date 2011-01-01 all done ! =====\n",
      "===== download_AgERA5_data =====\n",
      "Mode 'year' acknowledged. Will download data for year 2012\n",
      "Please note that last available date on AgERA5 should be 2023-02-14\n"
     ]
    },
    {
     "name": "stderr",
     "output_type": "stream",
     "text": [
      "2023-02-22 13:23:28,030 INFO Request is queued\n",
      "2023-02-22 13:23:29,068 INFO Request is running\n",
      "2023-02-22 13:25:21,819 INFO Request is completed\n",
      "2023-02-22 13:25:21,820 INFO Downloading https://download-0005-clone.copernicus-climate.eu/cache-compute-0005/cache/data8/dataset-sis-agrometeorological-indicators-2b127ecf-2a2e-4275-8bbf-9ed00eae2cfc.zip to ../data/0_downloads/AgERA5_burkina_2m_temperature_24_hour_minimum_2012.zip (14.7M)\n",
      "2023-02-22 13:25:23,090 INFO Download rate 11.6M/s\n",
      "2023-02-22 13:25:23,166 INFO Welcome to the CDS\n",
      "2023-02-22 13:25:23,167 INFO Sending request to https://cds.climate.copernicus.eu/api/v2/resources/sis-agrometeorological-indicators\n",
      "2023-02-22 13:25:23,232 INFO Request is queued\n"
     ]
    },
    {
     "name": "stdout",
     "output_type": "stream",
     "text": [
      "Download OK\n"
     ]
    },
    {
     "name": "stderr",
     "output_type": "stream",
     "text": [
      "2023-02-22 13:25:24,514 INFO Request is running\n",
      "2023-02-22 13:27:17,248 INFO Request is completed\n",
      "2023-02-22 13:27:17,249 INFO Downloading https://download-0006-clone.copernicus-climate.eu/cache-compute-0006/cache/data8/dataset-sis-agrometeorological-indicators-c121bf16-6636-49d8-b6c8-2c2b7c0575cb.zip to ../data/0_downloads/AgERA5_burkina_2m_temperature_24_hour_maximum_2012.zip (14.7M)\n",
      "2023-02-22 13:27:18,251 INFO Download rate 14.7M/s\n",
      "2023-02-22 13:27:18,318 INFO Welcome to the CDS\n",
      "2023-02-22 13:27:18,319 INFO Sending request to https://cds.climate.copernicus.eu/api/v2/resources/sis-agrometeorological-indicators\n",
      "2023-02-22 13:27:18,396 INFO Request is queued\n"
     ]
    },
    {
     "name": "stdout",
     "output_type": "stream",
     "text": [
      "Download OK\n"
     ]
    },
    {
     "name": "stderr",
     "output_type": "stream",
     "text": [
      "2023-02-22 13:27:19,431 INFO Request is running\n",
      "2023-02-22 13:28:33,667 INFO Request is completed\n",
      "2023-02-22 13:28:33,668 INFO Downloading https://download-0007-clone.copernicus-climate.eu/cache-compute-0007/cache/data8/dataset-sis-agrometeorological-indicators-ac08f87d-07c1-4658-96b9-386ba6492157.zip to ../data/0_downloads/AgERA5_burkina_solar_radiation_flux_daily_2012.zip (15.5M)\n",
      "2023-02-22 13:28:34,666 INFO Download rate 15.6M/s\n",
      "2023-02-22 13:28:34,739 INFO Welcome to the CDS\n",
      "2023-02-22 13:28:34,740 INFO Sending request to https://cds.climate.copernicus.eu/api/v2/resources/sis-agrometeorological-indicators\n",
      "2023-02-22 13:28:34,804 INFO Request is queued\n"
     ]
    },
    {
     "name": "stdout",
     "output_type": "stream",
     "text": [
      "Download OK\n"
     ]
    },
    {
     "name": "stderr",
     "output_type": "stream",
     "text": [
      "2023-02-22 13:28:35,839 INFO Request is running\n",
      "2023-02-22 13:30:28,590 INFO Request is completed\n",
      "2023-02-22 13:30:28,591 INFO Downloading https://download-0007-clone.copernicus-climate.eu/cache-compute-0007/cache/data5/dataset-sis-agrometeorological-indicators-58ca804b-eece-470c-aa96-0eb536c20833.zip to ../data/0_downloads/AgERA5_burkina_vapour_pressure_24_hour_mean_2012.zip (16.2M)\n",
      "2023-02-22 13:30:29,413 INFO Download rate 19.7M/s\n",
      "2023-02-22 13:30:29,483 INFO Welcome to the CDS\n",
      "2023-02-22 13:30:29,484 INFO Sending request to https://cds.climate.copernicus.eu/api/v2/resources/sis-agrometeorological-indicators\n",
      "2023-02-22 13:30:29,545 INFO Request is queued\n"
     ]
    },
    {
     "name": "stdout",
     "output_type": "stream",
     "text": [
      "Download OK\n"
     ]
    },
    {
     "name": "stderr",
     "output_type": "stream",
     "text": [
      "2023-02-22 13:30:30,582 INFO Request is running\n",
      "2023-02-22 13:31:44,828 INFO Request is completed\n",
      "2023-02-22 13:31:44,828 INFO Downloading https://download-0012-clone.copernicus-climate.eu/cache-compute-0012/cache/data2/dataset-sis-agrometeorological-indicators-747e3c88-fec5-4703-b783-527101876a11.zip to ../data/0_downloads/AgERA5_burkina_10m_wind_speed_24_hour_mean_2012.zip (16.5M)\n",
      "2023-02-22 13:31:45,868 INFO Download rate 15.9M/s\n",
      "2023-02-22 13:31:45,938 INFO Welcome to the CDS\n",
      "2023-02-22 13:31:45,939 INFO Sending request to https://cds.climate.copernicus.eu/api/v2/resources/sis-agrometeorological-indicators\n",
      "2023-02-22 13:31:45,977 INFO Request is queued\n"
     ]
    },
    {
     "name": "stdout",
     "output_type": "stream",
     "text": [
      "Download OK\n"
     ]
    },
    {
     "name": "stderr",
     "output_type": "stream",
     "text": [
      "2023-02-22 13:31:47,012 INFO Request is running\n",
      "2023-02-22 13:33:01,249 INFO Request is completed\n",
      "2023-02-22 13:33:01,250 INFO Downloading https://download-0015-clone.copernicus-climate.eu/cache-compute-0015/cache/data4/dataset-sis-agrometeorological-indicators-58f0ce26-bea4-4c47-8369-4c0cb9f0ce6c.zip to ../data/0_downloads/AgERA5_burkina_2m_temperature_24_hour_mean_2012.zip (14.7M)\n",
      "2023-02-22 13:33:02,252 INFO Download rate 14.7M/s\n"
     ]
    },
    {
     "name": "stdout",
     "output_type": "stream",
     "text": [
      "Download OK\n",
      "===== extract_agERA5_month =====\n"
     ]
    },
    {
     "name": "stderr",
     "output_type": "stream",
     "text": [
      "100%|██████████| 6/6 [00:07<00:00,  1.24s/it]\n"
     ]
    },
    {
     "name": "stdout",
     "output_type": "stream",
     "text": [
      "Extraction OK\n",
      "===== convert_AgERA5_netcdf_to_geotiff =====\n"
     ]
    },
    {
     "name": "stderr",
     "output_type": "stream",
     "text": [
      "100%|██████████| 366/366 [00:14<00:00, 24.55it/s]\n",
      "100%|██████████| 366/366 [00:14<00:00, 25.03it/s]\n",
      "100%|██████████| 366/366 [00:15<00:00, 23.07it/s]\n",
      "100%|██████████| 366/366 [00:15<00:00, 23.50it/s]\n",
      "100%|██████████| 366/366 [00:16<00:00, 21.96it/s]\n",
      "100%|██████████| 366/366 [00:19<00:00, 19.04it/s]\n"
     ]
    },
    {
     "name": "stdout",
     "output_type": "stream",
     "text": [
      "===== calculate_AgERA5_ET0_and_save =====\n"
     ]
    },
    {
     "name": "stderr",
     "output_type": "stream",
     "text": [
      "100%|██████████| 7232/7232 [28:48<00:00,  4.18it/s]\n",
      " 75%|███████▌  | 18/24 [22:16:20<4:21:34, 2615.73s/it]2023-02-22 14:03:35,823 INFO Welcome to the CDS\n",
      "2023-02-22 14:03:35,824 INFO Sending request to https://cds.climate.copernicus.eu/api/v2/resources/sis-agrometeorological-indicators\n"
     ]
    },
    {
     "name": "stdout",
     "output_type": "stream",
     "text": [
      "===== Query date 2012-01-01 all done ! =====\n",
      "===== download_AgERA5_data =====\n",
      "Mode 'year' acknowledged. Will download data for year 2013\n",
      "Please note that last available date on AgERA5 should be 2023-02-14\n"
     ]
    },
    {
     "name": "stderr",
     "output_type": "stream",
     "text": [
      "2023-02-22 14:03:35,910 INFO Request is queued\n",
      "2023-02-22 14:03:36,950 INFO Request is running\n",
      "2023-02-22 14:05:29,742 INFO Request is completed\n",
      "2023-02-22 14:05:29,743 INFO Downloading https://download-0005-clone.copernicus-climate.eu/cache-compute-0005/cache/data4/dataset-sis-agrometeorological-indicators-95b3aa71-b14a-4229-9f5d-f576053f28d2.zip to ../data/0_downloads/AgERA5_burkina_2m_temperature_24_hour_minimum_2013.zip (14.7M)\n",
      "2023-02-22 14:05:37,362 INFO Download rate 1.9M/s\n",
      "2023-02-22 14:05:37,442 INFO Welcome to the CDS\n",
      "2023-02-22 14:05:37,443 INFO Sending request to https://cds.climate.copernicus.eu/api/v2/resources/sis-agrometeorological-indicators\n",
      "2023-02-22 14:05:37,534 INFO Request is queued\n"
     ]
    },
    {
     "name": "stdout",
     "output_type": "stream",
     "text": [
      "Download OK\n"
     ]
    },
    {
     "name": "stderr",
     "output_type": "stream",
     "text": [
      "2023-02-22 14:05:38,576 INFO Request is running\n",
      "2023-02-22 14:06:52,860 INFO Request is completed\n",
      "2023-02-22 14:06:52,862 INFO Downloading https://download-0002-clone.copernicus-climate.eu/cache-compute-0002/cache/data9/dataset-sis-agrometeorological-indicators-1abbb6f9-6ce5-4194-98b8-023650b9c256.zip to ../data/0_downloads/AgERA5_burkina_2m_temperature_24_hour_maximum_2013.zip (14.7M)\n",
      "2023-02-22 14:07:06,782 INFO Download rate 1.1M/s\n",
      "2023-02-22 14:07:06,857 INFO Welcome to the CDS\n",
      "2023-02-22 14:07:06,858 INFO Sending request to https://cds.climate.copernicus.eu/api/v2/resources/sis-agrometeorological-indicators\n",
      "2023-02-22 14:07:06,902 INFO Request is queued\n"
     ]
    },
    {
     "name": "stdout",
     "output_type": "stream",
     "text": [
      "Download OK\n"
     ]
    },
    {
     "name": "stderr",
     "output_type": "stream",
     "text": [
      "2023-02-22 14:07:07,943 INFO Request is running\n",
      "2023-02-22 14:08:22,220 INFO Request is completed\n",
      "2023-02-22 14:08:22,222 INFO Downloading https://download-0017.copernicus-climate.eu/cache-compute-0017/cache/data9/dataset-sis-agrometeorological-indicators-4dc5c7ff-8e75-4992-939d-fe8e68db4061.zip to ../data/0_downloads/AgERA5_burkina_solar_radiation_flux_daily_2013.zip (15.4M)\n",
      "2023-02-22 14:08:31,497 INFO Download rate 1.7M/s\n",
      "2023-02-22 14:08:31,574 INFO Welcome to the CDS\n",
      "2023-02-22 14:08:31,575 INFO Sending request to https://cds.climate.copernicus.eu/api/v2/resources/sis-agrometeorological-indicators\n",
      "2023-02-22 14:08:31,639 INFO Request is queued\n"
     ]
    },
    {
     "name": "stdout",
     "output_type": "stream",
     "text": [
      "Download OK\n"
     ]
    },
    {
     "name": "stderr",
     "output_type": "stream",
     "text": [
      "2023-02-22 14:08:32,687 INFO Request is running\n",
      "2023-02-22 14:10:25,483 INFO Request is completed\n",
      "2023-02-22 14:10:25,485 INFO Downloading https://download-0007-clone.copernicus-climate.eu/cache-compute-0007/cache/data4/dataset-sis-agrometeorological-indicators-97a76d9a-33b1-446d-bfb3-db4401bd7324.zip to ../data/0_downloads/AgERA5_burkina_vapour_pressure_24_hour_mean_2013.zip (16.1M)\n",
      "2023-02-22 14:10:28,111 INFO Download rate 6.1M/s\n",
      "2023-02-22 14:10:28,186 INFO Welcome to the CDS\n",
      "2023-02-22 14:10:28,187 INFO Sending request to https://cds.climate.copernicus.eu/api/v2/resources/sis-agrometeorological-indicators\n",
      "2023-02-22 14:10:28,244 INFO Request is queued\n"
     ]
    },
    {
     "name": "stdout",
     "output_type": "stream",
     "text": [
      "Download OK\n"
     ]
    },
    {
     "name": "stderr",
     "output_type": "stream",
     "text": [
      "2023-02-22 14:10:29,284 INFO Request is running\n",
      "2023-02-22 14:12:22,062 INFO Request is completed\n",
      "2023-02-22 14:12:22,063 INFO Downloading https://download-0018.copernicus-climate.eu/cache-compute-0018/cache/data7/dataset-sis-agrometeorological-indicators-781b3429-ead4-4869-a165-a0666c1b2dc6.zip to ../data/0_downloads/AgERA5_burkina_10m_wind_speed_24_hour_mean_2013.zip (16.4M)\n",
      "2023-02-22 14:12:25,328 INFO Download rate 5M/s\n",
      "2023-02-22 14:12:25,400 INFO Welcome to the CDS\n",
      "2023-02-22 14:12:25,401 INFO Sending request to https://cds.climate.copernicus.eu/api/v2/resources/sis-agrometeorological-indicators\n",
      "2023-02-22 14:12:25,453 INFO Request is queued\n"
     ]
    },
    {
     "name": "stdout",
     "output_type": "stream",
     "text": [
      "Download OK\n"
     ]
    },
    {
     "name": "stderr",
     "output_type": "stream",
     "text": [
      "2023-02-22 14:12:26,494 INFO Request is running\n",
      "2023-02-22 14:13:40,764 INFO Request is completed\n",
      "2023-02-22 14:13:40,765 INFO Downloading https://download-0013-clone.copernicus-climate.eu/cache-compute-0013/cache/data8/dataset-sis-agrometeorological-indicators-6f18ef64-896b-401f-870b-6da77f52ed81.zip to ../data/0_downloads/AgERA5_burkina_2m_temperature_24_hour_mean_2013.zip (14.7M)\n",
      "2023-02-22 14:13:44,515 INFO Download rate 3.9M/s\n"
     ]
    },
    {
     "name": "stdout",
     "output_type": "stream",
     "text": [
      "Download OK\n",
      "===== extract_agERA5_month =====\n"
     ]
    },
    {
     "name": "stderr",
     "output_type": "stream",
     "text": [
      "100%|██████████| 6/6 [00:09<00:00,  1.57s/it]\n"
     ]
    },
    {
     "name": "stdout",
     "output_type": "stream",
     "text": [
      "Extraction OK\n",
      "===== convert_AgERA5_netcdf_to_geotiff =====\n"
     ]
    },
    {
     "name": "stderr",
     "output_type": "stream",
     "text": [
      "100%|██████████| 365/365 [00:23<00:00, 15.55it/s]\n",
      "100%|██████████| 365/365 [00:20<00:00, 17.57it/s]\n",
      "100%|██████████| 365/365 [00:20<00:00, 17.61it/s]\n",
      "100%|██████████| 365/365 [00:19<00:00, 18.37it/s]\n",
      "100%|██████████| 365/365 [00:19<00:00, 18.59it/s]\n",
      "100%|██████████| 365/365 [00:19<00:00, 18.47it/s]\n"
     ]
    },
    {
     "name": "stdout",
     "output_type": "stream",
     "text": [
      "===== calculate_AgERA5_ET0_and_save =====\n"
     ]
    },
    {
     "name": "stderr",
     "output_type": "stream",
     "text": [
      "100%|██████████| 7597/7597 [25:21<00:00,  4.99it/s]\n",
      " 79%|███████▉  | 19/24 [22:54:04<3:29:11, 2510.26s/it]"
     ]
    },
    {
     "name": "stdout",
     "output_type": "stream",
     "text": [
      "===== Query date 2013-01-01 all done ! =====\n",
      "===== download_AgERA5_data =====\n",
      "Mode 'year' acknowledged. Will download data for year 2014\n",
      "Please note that last available date on AgERA5 should be 2023-02-14\n"
     ]
    },
    {
     "name": "stderr",
     "output_type": "stream",
     "text": [
      "2023-02-22 14:41:20,393 INFO Welcome to the CDS\n",
      "2023-02-22 14:41:20,395 INFO Sending request to https://cds.climate.copernicus.eu/api/v2/resources/sis-agrometeorological-indicators\n",
      "2023-02-22 14:41:20,441 INFO Request is queued\n",
      "2023-02-22 14:41:21,490 INFO Request is running\n",
      "2023-02-22 14:43:14,292 INFO Request is completed\n",
      "2023-02-22 14:43:14,294 INFO Downloading https://download-0008-clone.copernicus-climate.eu/cache-compute-0008/cache/data8/dataset-sis-agrometeorological-indicators-7f3fb55f-9083-4b39-ace5-9e811adf8b49.zip to ../data/0_downloads/AgERA5_burkina_2m_temperature_24_hour_minimum_2014.zip (14.7M)\n",
      "2023-02-22 14:43:18,011 INFO Download rate 4M/s\n",
      "2023-02-22 14:43:18,092 INFO Welcome to the CDS\n",
      "2023-02-22 14:43:18,092 INFO Sending request to https://cds.climate.copernicus.eu/api/v2/resources/sis-agrometeorological-indicators\n",
      "2023-02-22 14:43:18,165 INFO Request is queued\n"
     ]
    },
    {
     "name": "stdout",
     "output_type": "stream",
     "text": [
      "Download OK\n"
     ]
    },
    {
     "name": "stderr",
     "output_type": "stream",
     "text": [
      "2023-02-22 14:43:19,211 INFO Request is running\n",
      "2023-02-22 14:45:12,048 INFO Request is completed\n",
      "2023-02-22 14:45:12,050 INFO Downloading https://download-0019.copernicus-climate.eu/cache-compute-0019/cache/data8/dataset-sis-agrometeorological-indicators-c405aed6-6083-47ea-8732-0964bbeef3e8.zip to ../data/0_downloads/AgERA5_burkina_2m_temperature_24_hour_maximum_2014.zip (14.7M)\n",
      "2023-02-22 14:45:17,488 INFO Download rate 2.7M/s\n",
      "2023-02-22 14:45:17,569 INFO Welcome to the CDS\n",
      "2023-02-22 14:45:17,572 INFO Sending request to https://cds.climate.copernicus.eu/api/v2/resources/sis-agrometeorological-indicators\n",
      "2023-02-22 14:45:17,653 INFO Request is queued\n"
     ]
    },
    {
     "name": "stdout",
     "output_type": "stream",
     "text": [
      "Download OK\n"
     ]
    },
    {
     "name": "stderr",
     "output_type": "stream",
     "text": [
      "2023-02-22 14:45:18,700 INFO Request is running\n",
      "2023-02-22 14:46:33,031 INFO Request is completed\n",
      "2023-02-22 14:46:33,034 INFO Downloading https://download-0004-clone.copernicus-climate.eu/cache-compute-0004/cache/data7/dataset-sis-agrometeorological-indicators-96a10e7a-da52-4eb2-b2ca-884dbb84117a.zip to ../data/0_downloads/AgERA5_burkina_solar_radiation_flux_daily_2014.zip (15.4M)\n",
      "2023-02-22 14:46:39,637 INFO Download rate 2.3M/s\n",
      "2023-02-22 14:46:39,731 INFO Welcome to the CDS\n",
      "2023-02-22 14:46:39,732 INFO Sending request to https://cds.climate.copernicus.eu/api/v2/resources/sis-agrometeorological-indicators\n",
      "2023-02-22 14:46:39,798 INFO Request is queued\n"
     ]
    },
    {
     "name": "stdout",
     "output_type": "stream",
     "text": [
      "Download OK\n"
     ]
    },
    {
     "name": "stderr",
     "output_type": "stream",
     "text": [
      "2023-02-22 14:46:40,846 INFO Request is running\n",
      "2023-02-22 14:47:55,172 INFO Request is completed\n",
      "2023-02-22 14:47:55,174 INFO Downloading https://download-0016.copernicus-climate.eu/cache-compute-0016/cache/data8/dataset-sis-agrometeorological-indicators-14af83e6-2d5b-4682-add5-59806d517175.zip to ../data/0_downloads/AgERA5_burkina_vapour_pressure_24_hour_mean_2014.zip (16.1M)\n",
      "2023-02-22 14:47:57,930 INFO Download rate 5.9M/s\n",
      "2023-02-22 14:47:58,011 INFO Welcome to the CDS\n",
      "2023-02-22 14:47:58,012 INFO Sending request to https://cds.climate.copernicus.eu/api/v2/resources/sis-agrometeorological-indicators\n",
      "2023-02-22 14:47:58,062 INFO Request is queued\n"
     ]
    },
    {
     "name": "stdout",
     "output_type": "stream",
     "text": [
      "Download OK\n"
     ]
    },
    {
     "name": "stderr",
     "output_type": "stream",
     "text": [
      "2023-02-22 14:47:59,107 INFO Request is running\n",
      "2023-02-22 14:49:51,937 INFO Request is completed\n",
      "2023-02-22 14:49:51,940 INFO Downloading https://download-0004-clone.copernicus-climate.eu/cache-compute-0004/cache/data6/dataset-sis-agrometeorological-indicators-eafc7f72-fc36-4b23-a4a5-56d7f4a678ea.zip to ../data/0_downloads/AgERA5_burkina_10m_wind_speed_24_hour_mean_2014.zip (16.4M)\n",
      "2023-02-22 14:49:54,148 INFO Download rate 7.5M/s\n",
      "2023-02-22 14:49:54,228 INFO Welcome to the CDS\n",
      "2023-02-22 14:49:54,229 INFO Sending request to https://cds.climate.copernicus.eu/api/v2/resources/sis-agrometeorological-indicators\n",
      "2023-02-22 14:49:54,390 INFO Request is queued\n"
     ]
    },
    {
     "name": "stdout",
     "output_type": "stream",
     "text": [
      "Download OK\n"
     ]
    },
    {
     "name": "stderr",
     "output_type": "stream",
     "text": [
      "2023-02-22 14:49:55,433 INFO Request is running\n",
      "2023-02-22 14:51:09,740 INFO Request is completed\n",
      "2023-02-22 14:51:09,742 INFO Downloading https://download-0014-clone.copernicus-climate.eu/cache-compute-0014/cache/data4/dataset-sis-agrometeorological-indicators-c088007c-fd9a-4414-a13d-373fa7dd6ed9.zip to ../data/0_downloads/AgERA5_burkina_2m_temperature_24_hour_mean_2014.zip (14.7M)\n",
      "2023-02-22 14:51:12,874 INFO Download rate 4.7M/s\n"
     ]
    },
    {
     "name": "stdout",
     "output_type": "stream",
     "text": [
      "Download OK\n",
      "===== extract_agERA5_month =====\n"
     ]
    },
    {
     "name": "stderr",
     "output_type": "stream",
     "text": [
      "100%|██████████| 6/6 [00:08<00:00,  1.46s/it]\n"
     ]
    },
    {
     "name": "stdout",
     "output_type": "stream",
     "text": [
      "Extraction OK\n",
      "===== convert_AgERA5_netcdf_to_geotiff =====\n"
     ]
    },
    {
     "name": "stderr",
     "output_type": "stream",
     "text": [
      "100%|██████████| 365/365 [00:19<00:00, 18.44it/s]\n",
      "100%|██████████| 365/365 [00:19<00:00, 18.26it/s]\n",
      "100%|██████████| 365/365 [00:19<00:00, 19.14it/s]\n",
      "100%|██████████| 365/365 [00:18<00:00, 19.42it/s]\n",
      "100%|██████████| 365/365 [00:18<00:00, 19.32it/s]\n",
      "100%|██████████| 365/365 [00:19<00:00, 18.92it/s]\n"
     ]
    },
    {
     "name": "stdout",
     "output_type": "stream",
     "text": [
      "===== calculate_AgERA5_ET0_and_save =====\n"
     ]
    },
    {
     "name": "stderr",
     "output_type": "stream",
     "text": [
      "100%|██████████| 7962/7962 [27:13<00:00,  4.87it/s]\n",
      " 83%|████████▎ | 20/24 [23:33:15<2:44:10, 2462.53s/it]2023-02-22 15:20:31,689 INFO Welcome to the CDS\n"
     ]
    },
    {
     "name": "stdout",
     "output_type": "stream",
     "text": [
      "===== Query date 2014-01-01 all done ! =====\n",
      "===== download_AgERA5_data =====\n",
      "Mode 'year' acknowledged. Will download data for year 2015\n",
      "Please note that last available date on AgERA5 should be 2023-02-14\n"
     ]
    },
    {
     "name": "stderr",
     "output_type": "stream",
     "text": [
      "2023-02-22 15:20:31,691 INFO Sending request to https://cds.climate.copernicus.eu/api/v2/resources/sis-agrometeorological-indicators\n",
      "2023-02-22 15:20:31,743 INFO Request is queued\n",
      "2023-02-22 15:20:32,783 INFO Request is running\n",
      "2023-02-22 15:22:36,710 WARNING Recovering from connection error [('Connection aborted.', ConnectionResetError(104, 'Connection reset by peer'))], attemps 0 of 500\n",
      "2023-02-22 15:22:36,714 WARNING Retrying in 120 seconds\n",
      "2023-02-22 15:24:36,846 INFO Retrying now...\n",
      "2023-02-22 15:24:36,999 INFO Request is completed\n",
      "2023-02-22 15:24:37,001 INFO Downloading https://download-0002-clone.copernicus-climate.eu/cache-compute-0002/cache/data4/dataset-sis-agrometeorological-indicators-27388564-cb4e-44f0-8886-551f63ca5306.zip to ../data/0_downloads/AgERA5_burkina_2m_temperature_24_hour_minimum_2015.zip (14.7M)\n",
      "2023-02-22 15:24:37,977 INFO Download rate 15.1M/s\n",
      "2023-02-22 15:24:38,011 INFO Welcome to the CDS\n",
      "2023-02-22 15:24:38,011 INFO Sending request to https://cds.climate.copernicus.eu/api/v2/resources/sis-agrometeorological-indicators\n",
      "2023-02-22 15:24:38,051 INFO Request is queued\n"
     ]
    },
    {
     "name": "stdout",
     "output_type": "stream",
     "text": [
      "Download OK\n"
     ]
    },
    {
     "name": "stderr",
     "output_type": "stream",
     "text": [
      "2023-02-22 15:24:39,094 INFO Request is running\n",
      "2023-02-22 15:25:53,320 INFO Request is completed\n",
      "2023-02-22 15:25:53,321 INFO Downloading https://download-0018.copernicus-climate.eu/cache-compute-0018/cache/data8/dataset-sis-agrometeorological-indicators-bca14383-a88c-4453-8f90-70d4a170f143.zip to ../data/0_downloads/AgERA5_burkina_2m_temperature_24_hour_maximum_2015.zip (14.7M)\n",
      "2023-02-22 15:25:54,196 INFO Download rate 16.8M/s\n",
      "2023-02-22 15:25:54,264 INFO Welcome to the CDS\n",
      "2023-02-22 15:25:54,265 INFO Sending request to https://cds.climate.copernicus.eu/api/v2/resources/sis-agrometeorological-indicators\n",
      "2023-02-22 15:25:54,359 INFO Request is queued\n"
     ]
    },
    {
     "name": "stdout",
     "output_type": "stream",
     "text": [
      "Download OK\n"
     ]
    },
    {
     "name": "stderr",
     "output_type": "stream",
     "text": [
      "2023-02-22 15:25:55,396 INFO Request is running\n",
      "2023-02-22 15:27:48,149 INFO Request is completed\n",
      "2023-02-22 15:27:48,150 INFO Downloading https://download-0001-clone.copernicus-climate.eu/cache-compute-0001/cache/data0/dataset-sis-agrometeorological-indicators-7a68190b-34b8-425a-9bc3-bec638a7c7f6.zip to ../data/0_downloads/AgERA5_burkina_solar_radiation_flux_daily_2015.zip (15.4M)\n",
      "2023-02-22 15:27:49,104 INFO Download rate 16.2M/s\n",
      "2023-02-22 15:27:49,176 INFO Welcome to the CDS\n",
      "2023-02-22 15:27:49,177 INFO Sending request to https://cds.climate.copernicus.eu/api/v2/resources/sis-agrometeorological-indicators\n",
      "2023-02-22 15:27:49,272 INFO Request is queued\n"
     ]
    },
    {
     "name": "stdout",
     "output_type": "stream",
     "text": [
      "Download OK\n"
     ]
    },
    {
     "name": "stderr",
     "output_type": "stream",
     "text": [
      "2023-02-22 15:27:50,308 INFO Request is running\n",
      "2023-02-22 15:29:43,137 INFO Request is completed\n",
      "2023-02-22 15:29:43,139 INFO Downloading https://download-0001-clone.copernicus-climate.eu/cache-compute-0001/cache/data0/dataset-sis-agrometeorological-indicators-ae64563a-3aab-49ca-a659-a738cfe17136.zip to ../data/0_downloads/AgERA5_burkina_vapour_pressure_24_hour_mean_2015.zip (16.2M)\n",
      "2023-02-22 15:29:43,968 INFO Download rate 19.5M/s\n",
      "2023-02-22 15:29:44,036 INFO Welcome to the CDS\n",
      "2023-02-22 15:29:44,037 INFO Sending request to https://cds.climate.copernicus.eu/api/v2/resources/sis-agrometeorological-indicators\n",
      "2023-02-22 15:29:44,128 INFO Request is queued\n"
     ]
    },
    {
     "name": "stdout",
     "output_type": "stream",
     "text": [
      "Download OK\n"
     ]
    },
    {
     "name": "stderr",
     "output_type": "stream",
     "text": [
      "2023-02-22 15:29:45,164 INFO Request is running\n",
      "2023-02-22 15:31:37,909 INFO Request is completed\n",
      "2023-02-22 15:31:37,911 INFO Downloading https://download-0007-clone.copernicus-climate.eu/cache-compute-0007/cache/data0/dataset-sis-agrometeorological-indicators-926b0e1e-8a4b-46c1-91ad-c7c44233c85d.zip to ../data/0_downloads/AgERA5_burkina_10m_wind_speed_24_hour_mean_2015.zip (16.4M)\n",
      "2023-02-22 15:31:42,783 INFO Download rate 3.4M/s\n",
      "2023-02-22 15:31:42,852 INFO Welcome to the CDS\n",
      "2023-02-22 15:31:42,853 INFO Sending request to https://cds.climate.copernicus.eu/api/v2/resources/sis-agrometeorological-indicators\n",
      "2023-02-22 15:31:42,912 INFO Request is queued\n"
     ]
    },
    {
     "name": "stdout",
     "output_type": "stream",
     "text": [
      "Download OK\n"
     ]
    },
    {
     "name": "stderr",
     "output_type": "stream",
     "text": [
      "2023-02-22 15:31:43,948 INFO Request is running\n",
      "2023-02-22 15:32:58,185 INFO Request is completed\n",
      "2023-02-22 15:32:58,187 INFO Downloading https://download-0016.copernicus-climate.eu/cache-compute-0016/cache/data3/dataset-sis-agrometeorological-indicators-19a48879-6f66-4e4f-a278-a3106424298a.zip to ../data/0_downloads/AgERA5_burkina_2m_temperature_24_hour_mean_2015.zip (14.7M)\n",
      "2023-02-22 15:32:59,096 INFO Download rate 16.1M/s\n"
     ]
    },
    {
     "name": "stdout",
     "output_type": "stream",
     "text": [
      "Download OK\n",
      "===== extract_agERA5_month =====\n"
     ]
    },
    {
     "name": "stderr",
     "output_type": "stream",
     "text": [
      "100%|██████████| 6/6 [00:06<00:00,  1.14s/it]\n"
     ]
    },
    {
     "name": "stdout",
     "output_type": "stream",
     "text": [
      "Extraction OK\n",
      "===== convert_AgERA5_netcdf_to_geotiff =====\n"
     ]
    },
    {
     "name": "stderr",
     "output_type": "stream",
     "text": [
      "100%|██████████| 365/365 [00:13<00:00, 27.29it/s]\n",
      "100%|██████████| 365/365 [00:14<00:00, 24.74it/s]\n",
      "100%|██████████| 365/365 [00:18<00:00, 20.09it/s]\n",
      "100%|██████████| 365/365 [00:14<00:00, 24.58it/s]\n",
      "100%|██████████| 365/365 [00:13<00:00, 26.75it/s]\n",
      "100%|██████████| 365/365 [00:13<00:00, 26.80it/s]\n"
     ]
    },
    {
     "name": "stdout",
     "output_type": "stream",
     "text": [
      "===== calculate_AgERA5_ET0_and_save =====\n"
     ]
    },
    {
     "name": "stderr",
     "output_type": "stream",
     "text": [
      "100%|██████████| 8327/8327 [1:13:25<00:00,  1.89it/s]\n",
      " 88%|████████▊ | 21/24 [25:00:44<2:44:56, 3298.85s/it]"
     ]
    },
    {
     "name": "stdout",
     "output_type": "stream",
     "text": [
      "===== Query date 2015-01-01 all done ! =====\n",
      "===== download_AgERA5_data =====\n",
      "Mode 'year' acknowledged. Will download data for year 2016\n",
      "Please note that last available date on AgERA5 should be 2023-02-14\n"
     ]
    },
    {
     "name": "stderr",
     "output_type": "stream",
     "text": [
      "2023-02-22 16:48:00,524 INFO Welcome to the CDS\n",
      "2023-02-22 16:48:00,526 INFO Sending request to https://cds.climate.copernicus.eu/api/v2/resources/sis-agrometeorological-indicators\n",
      "2023-02-22 16:48:00,597 INFO Request is queued\n",
      "2023-02-22 16:48:01,655 INFO Request is running\n",
      "2023-02-22 16:49:16,014 INFO Request is completed\n",
      "2023-02-22 16:49:16,016 INFO Downloading https://download-0007-clone.copernicus-climate.eu/cache-compute-0007/cache/data9/dataset-sis-agrometeorological-indicators-7fcb77b2-2eee-487e-9925-437686f1632b.zip to ../data/0_downloads/AgERA5_burkina_2m_temperature_24_hour_minimum_2016.zip (14.7M)\n",
      "2023-02-22 16:49:18,287 INFO Download rate 6.5M/s\n",
      "2023-02-22 16:49:18,378 INFO Welcome to the CDS\n",
      "2023-02-22 16:49:18,379 INFO Sending request to https://cds.climate.copernicus.eu/api/v2/resources/sis-agrometeorological-indicators\n",
      "2023-02-22 16:49:18,431 INFO Request is queued\n"
     ]
    },
    {
     "name": "stdout",
     "output_type": "stream",
     "text": [
      "Download OK\n"
     ]
    },
    {
     "name": "stderr",
     "output_type": "stream",
     "text": [
      "2023-02-22 16:49:19,480 INFO Request is running\n",
      "2023-02-22 16:50:33,845 INFO Request is completed\n",
      "2023-02-22 16:50:33,846 INFO Downloading https://download-0002-clone.copernicus-climate.eu/cache-compute-0002/cache/data5/dataset-sis-agrometeorological-indicators-bb91e019-b8ba-4578-9cb5-4b57961640fd.zip to ../data/0_downloads/AgERA5_burkina_2m_temperature_24_hour_maximum_2016.zip (14.7M)\n",
      "2023-02-22 16:50:35,569 INFO Download rate 8.5M/s\n",
      "2023-02-22 16:50:35,667 INFO Welcome to the CDS\n",
      "2023-02-22 16:50:35,668 INFO Sending request to https://cds.climate.copernicus.eu/api/v2/resources/sis-agrometeorological-indicators\n",
      "2023-02-22 16:50:35,741 INFO Request is queued\n"
     ]
    },
    {
     "name": "stdout",
     "output_type": "stream",
     "text": [
      "Download OK\n"
     ]
    },
    {
     "name": "stderr",
     "output_type": "stream",
     "text": [
      "2023-02-22 16:50:36,791 INFO Request is running\n",
      "2023-02-22 16:52:29,672 INFO Request is completed\n",
      "2023-02-22 16:52:29,673 INFO Downloading https://download-0008-clone.copernicus-climate.eu/cache-compute-0008/cache/data7/dataset-sis-agrometeorological-indicators-ee96b0fc-269d-4866-bf0a-30bacfded563.zip to ../data/0_downloads/AgERA5_burkina_solar_radiation_flux_daily_2016.zip (15.5M)\n",
      "2023-02-22 16:52:31,082 INFO Download rate 11M/s\n",
      "2023-02-22 16:52:31,181 INFO Welcome to the CDS\n",
      "2023-02-22 16:52:31,181 INFO Sending request to https://cds.climate.copernicus.eu/api/v2/resources/sis-agrometeorological-indicators\n",
      "2023-02-22 16:52:31,264 INFO Request is queued\n"
     ]
    },
    {
     "name": "stdout",
     "output_type": "stream",
     "text": [
      "Download OK\n"
     ]
    },
    {
     "name": "stderr",
     "output_type": "stream",
     "text": [
      "2023-02-22 16:52:32,315 INFO Request is running\n",
      "2023-02-22 16:54:25,191 INFO Request is completed\n",
      "2023-02-22 16:54:25,192 INFO Downloading https://download-0001-clone.copernicus-climate.eu/cache-compute-0001/cache/data6/dataset-sis-agrometeorological-indicators-2450b6cd-f969-4598-8fbc-a8957c35b237.zip to ../data/0_downloads/AgERA5_burkina_vapour_pressure_24_hour_mean_2016.zip (16.2M)\n",
      "2023-02-22 16:54:28,379 INFO Download rate 5.1M/s\n",
      "2023-02-22 16:54:28,471 INFO Welcome to the CDS\n",
      "2023-02-22 16:54:28,472 INFO Sending request to https://cds.climate.copernicus.eu/api/v2/resources/sis-agrometeorological-indicators\n",
      "2023-02-22 16:54:28,527 INFO Request is queued\n"
     ]
    },
    {
     "name": "stdout",
     "output_type": "stream",
     "text": [
      "Download OK\n"
     ]
    },
    {
     "name": "stderr",
     "output_type": "stream",
     "text": [
      "2023-02-22 16:54:29,575 INFO Request is running\n",
      "2023-02-22 16:56:22,464 INFO Request is completed\n",
      "2023-02-22 16:56:22,465 INFO Downloading https://download-0005-clone.copernicus-climate.eu/cache-compute-0005/cache/data5/dataset-sis-agrometeorological-indicators-429d262f-bc93-4fc9-a9cd-695a4496c2d2.zip to ../data/0_downloads/AgERA5_burkina_10m_wind_speed_24_hour_mean_2016.zip (16.5M)\n",
      "2023-02-22 16:56:24,642 INFO Download rate 7.6M/s\n",
      "2023-02-22 16:56:24,734 INFO Welcome to the CDS\n",
      "2023-02-22 16:56:24,735 INFO Sending request to https://cds.climate.copernicus.eu/api/v2/resources/sis-agrometeorological-indicators\n",
      "2023-02-22 16:56:24,785 INFO Request is queued\n"
     ]
    },
    {
     "name": "stdout",
     "output_type": "stream",
     "text": [
      "Download OK\n"
     ]
    },
    {
     "name": "stderr",
     "output_type": "stream",
     "text": [
      "2023-02-22 16:56:25,835 INFO Request is running\n",
      "2023-02-22 16:57:40,186 INFO Request is completed\n",
      "2023-02-22 16:57:40,188 INFO Downloading https://download-0018.copernicus-climate.eu/cache-compute-0018/cache/data1/dataset-sis-agrometeorological-indicators-20eb381c-b307-4e65-8de2-9ebf2656e4a1.zip to ../data/0_downloads/AgERA5_burkina_2m_temperature_24_hour_mean_2016.zip (14.7M)\n",
      "2023-02-22 16:57:44,235 INFO Download rate 3.6M/s\n"
     ]
    },
    {
     "name": "stdout",
     "output_type": "stream",
     "text": [
      "Download OK\n",
      "===== extract_agERA5_month =====\n"
     ]
    },
    {
     "name": "stderr",
     "output_type": "stream",
     "text": [
      "100%|██████████| 6/6 [00:13<00:00,  2.21s/it]\n"
     ]
    },
    {
     "name": "stdout",
     "output_type": "stream",
     "text": [
      "Extraction OK\n",
      "===== convert_AgERA5_netcdf_to_geotiff =====\n"
     ]
    },
    {
     "name": "stderr",
     "output_type": "stream",
     "text": [
      "100%|██████████| 366/366 [00:26<00:00, 13.70it/s]\n",
      "100%|██████████| 366/366 [00:23<00:00, 15.30it/s]\n",
      "100%|██████████| 366/366 [00:23<00:00, 15.78it/s]\n",
      "100%|██████████| 366/366 [00:22<00:00, 16.01it/s]\n",
      "100%|██████████| 366/366 [00:23<00:00, 15.90it/s]\n",
      "100%|██████████| 366/366 [00:25<00:00, 14.26it/s]\n"
     ]
    },
    {
     "name": "stdout",
     "output_type": "stream",
     "text": [
      "===== calculate_AgERA5_ET0_and_save =====\n"
     ]
    },
    {
     "name": "stderr",
     "output_type": "stream",
     "text": [
      "100%|██████████| 8693/8693 [39:51<00:00,  3.64it/s]\n",
      " 92%|█████████▏| 22/24 [25:52:58<1:48:18, 3249.41s/it]"
     ]
    },
    {
     "name": "stdout",
     "output_type": "stream",
     "text": [
      "===== Query date 2016-01-01 all done ! =====\n",
      "===== download_AgERA5_data =====\n",
      "Mode 'year' acknowledged. Will download data for year 2017\n",
      "Please note that last available date on AgERA5 should be 2023-02-14\n"
     ]
    },
    {
     "name": "stderr",
     "output_type": "stream",
     "text": [
      "2023-02-22 17:40:14,617 INFO Welcome to the CDS\n",
      "2023-02-22 17:40:14,620 INFO Sending request to https://cds.climate.copernicus.eu/api/v2/resources/sis-agrometeorological-indicators\n",
      "2023-02-22 17:40:14,681 INFO Request is queued\n",
      "2023-02-22 17:40:15,732 INFO Request is running\n",
      "2023-02-22 17:42:08,612 INFO Request is completed\n",
      "2023-02-22 17:42:08,614 INFO Downloading https://download-0011-clone.copernicus-climate.eu/cache-compute-0011/cache/data3/dataset-sis-agrometeorological-indicators-966fa70e-54bf-4793-8879-ae0e365c005d.zip to ../data/0_downloads/AgERA5_burkina_2m_temperature_24_hour_minimum_2017.zip (14.7M)\n",
      "2023-02-22 17:42:12,573 INFO Download rate 3.7M/s\n",
      "2023-02-22 17:42:12,672 INFO Welcome to the CDS\n",
      "2023-02-22 17:42:12,678 INFO Sending request to https://cds.climate.copernicus.eu/api/v2/resources/sis-agrometeorological-indicators\n",
      "2023-02-22 17:42:12,746 INFO Request is queued\n"
     ]
    },
    {
     "name": "stdout",
     "output_type": "stream",
     "text": [
      "Download OK\n"
     ]
    },
    {
     "name": "stderr",
     "output_type": "stream",
     "text": [
      "2023-02-22 17:42:13,800 INFO Request is running\n",
      "2023-02-22 17:43:28,146 INFO Request is completed\n",
      "2023-02-22 17:43:28,149 INFO Downloading https://download-0021.copernicus-climate.eu/cache-compute-0021/cache/data4/dataset-sis-agrometeorological-indicators-a085585a-7d90-43f9-a0bf-e1f0f21571ac.zip to ../data/0_downloads/AgERA5_burkina_2m_temperature_24_hour_maximum_2017.zip (14.7M)\n",
      "2023-02-22 17:43:30,913 INFO Download rate 5.3M/s\n",
      "2023-02-22 17:43:31,010 INFO Welcome to the CDS\n",
      "2023-02-22 17:43:31,014 INFO Sending request to https://cds.climate.copernicus.eu/api/v2/resources/sis-agrometeorological-indicators\n",
      "2023-02-22 17:43:31,083 INFO Request is queued\n"
     ]
    },
    {
     "name": "stdout",
     "output_type": "stream",
     "text": [
      "Download OK\n"
     ]
    },
    {
     "name": "stderr",
     "output_type": "stream",
     "text": [
      "2023-02-22 17:43:32,133 INFO Request is running\n",
      "2023-02-22 17:45:24,991 INFO Request is completed\n",
      "2023-02-22 17:45:24,997 INFO Downloading https://download-0001-clone.copernicus-climate.eu/cache-compute-0001/cache/data4/dataset-sis-agrometeorological-indicators-e5cb33f4-6274-4f20-a98d-97ffb50f3ad8.zip to ../data/0_downloads/AgERA5_burkina_solar_radiation_flux_daily_2017.zip (15.4M)\n",
      "2023-02-22 17:45:28,196 INFO Download rate 4.8M/s\n",
      "2023-02-22 17:45:28,307 INFO Welcome to the CDS\n",
      "2023-02-22 17:45:28,314 INFO Sending request to https://cds.climate.copernicus.eu/api/v2/resources/sis-agrometeorological-indicators\n",
      "2023-02-22 17:45:28,383 INFO Request is queued\n"
     ]
    },
    {
     "name": "stdout",
     "output_type": "stream",
     "text": [
      "Download OK\n"
     ]
    },
    {
     "name": "stderr",
     "output_type": "stream",
     "text": [
      "2023-02-22 17:45:29,430 INFO Request is running\n",
      "2023-02-22 17:46:43,770 INFO Request is completed\n",
      "2023-02-22 17:46:43,773 INFO Downloading https://download-0017.copernicus-climate.eu/cache-compute-0017/cache/data2/dataset-sis-agrometeorological-indicators-c172b4d5-fafc-495c-afb8-227a207d5db6.zip to ../data/0_downloads/AgERA5_burkina_vapour_pressure_24_hour_mean_2017.zip (16.1M)\n",
      "2023-02-22 17:46:47,489 INFO Download rate 4.3M/s\n",
      "2023-02-22 17:46:47,611 INFO Welcome to the CDS\n",
      "2023-02-22 17:46:47,616 INFO Sending request to https://cds.climate.copernicus.eu/api/v2/resources/sis-agrometeorological-indicators\n",
      "2023-02-22 17:46:47,729 INFO Request is queued\n"
     ]
    },
    {
     "name": "stdout",
     "output_type": "stream",
     "text": [
      "Download OK\n"
     ]
    },
    {
     "name": "stderr",
     "output_type": "stream",
     "text": [
      "2023-02-22 17:46:48,783 INFO Request is running\n",
      "2023-02-22 17:48:41,714 INFO Request is completed\n",
      "2023-02-22 17:48:41,716 INFO Downloading https://download-0003-clone.copernicus-climate.eu/cache-compute-0003/cache/data8/dataset-sis-agrometeorological-indicators-5ce5499e-4be9-47fb-aca5-4d6bafe4ce64.zip to ../data/0_downloads/AgERA5_burkina_10m_wind_speed_24_hour_mean_2017.zip (16.4M)\n",
      "2023-02-22 17:48:44,695 INFO Download rate 5.5M/s\n",
      "2023-02-22 17:48:44,790 INFO Welcome to the CDS\n",
      "2023-02-22 17:48:44,792 INFO Sending request to https://cds.climate.copernicus.eu/api/v2/resources/sis-agrometeorological-indicators\n",
      "2023-02-22 17:48:44,924 INFO Request is queued\n"
     ]
    },
    {
     "name": "stdout",
     "output_type": "stream",
     "text": [
      "Download OK\n"
     ]
    },
    {
     "name": "stderr",
     "output_type": "stream",
     "text": [
      "2023-02-22 17:48:45,981 INFO Request is running\n",
      "2023-02-22 17:50:00,317 INFO Request is completed\n",
      "2023-02-22 17:50:00,320 INFO Downloading https://download-0004-clone.copernicus-climate.eu/cache-compute-0004/cache/data4/dataset-sis-agrometeorological-indicators-cc57424c-a591-4795-96f3-99ac5c0526cf.zip to ../data/0_downloads/AgERA5_burkina_2m_temperature_24_hour_mean_2017.zip (14.7M)\n",
      "2023-02-22 17:50:02,453 INFO Download rate 6.9M/s\n"
     ]
    },
    {
     "name": "stdout",
     "output_type": "stream",
     "text": [
      "Download OK\n",
      "===== extract_agERA5_month =====\n"
     ]
    },
    {
     "name": "stderr",
     "output_type": "stream",
     "text": [
      "100%|██████████| 6/6 [00:18<00:00,  3.06s/it]\n"
     ]
    },
    {
     "name": "stdout",
     "output_type": "stream",
     "text": [
      "Extraction OK\n",
      "===== convert_AgERA5_netcdf_to_geotiff =====\n"
     ]
    },
    {
     "name": "stderr",
     "output_type": "stream",
     "text": [
      "100%|██████████| 365/365 [00:34<00:00, 10.47it/s]\n",
      "100%|██████████| 365/365 [00:33<00:00, 10.76it/s]\n",
      "100%|██████████| 365/365 [00:34<00:00, 10.71it/s]\n",
      "100%|██████████| 365/365 [00:35<00:00, 10.28it/s]\n",
      "100%|██████████| 365/365 [00:33<00:00, 10.96it/s]\n",
      "100%|██████████| 365/365 [00:34<00:00, 10.61it/s]\n"
     ]
    },
    {
     "name": "stdout",
     "output_type": "stream",
     "text": [
      "===== calculate_AgERA5_ET0_and_save =====\n"
     ]
    },
    {
     "name": "stderr",
     "output_type": "stream",
     "text": [
      "100%|██████████| 9058/9058 [31:56<00:00,  4.73it/s]\n",
      " 96%|█████████▌| 23/24 [26:38:28<51:33, 3093.46s/it]  2023-02-22 18:25:44,204 INFO Welcome to the CDS\n",
      "2023-02-22 18:25:44,206 INFO Sending request to https://cds.climate.copernicus.eu/api/v2/resources/sis-agrometeorological-indicators\n"
     ]
    },
    {
     "name": "stdout",
     "output_type": "stream",
     "text": [
      "===== Query date 2017-01-01 all done ! =====\n",
      "===== download_AgERA5_data =====\n",
      "Mode 'year' acknowledged. Will download data for year 2018\n",
      "Please note that last available date on AgERA5 should be 2023-02-14\n"
     ]
    },
    {
     "name": "stderr",
     "output_type": "stream",
     "text": [
      "2023-02-22 18:25:44,258 INFO Request is queued\n",
      "2023-02-22 18:25:45,302 INFO Request is running\n",
      "2023-02-22 18:27:38,145 INFO Request is completed\n",
      "2023-02-22 18:27:38,146 INFO Downloading https://download-0019.copernicus-climate.eu/cache-compute-0019/cache/data6/dataset-sis-agrometeorological-indicators-c7635552-0a95-4591-bc5e-bb11633153ad.zip to ../data/0_downloads/AgERA5_burkina_2m_temperature_24_hour_minimum_2018.zip (14.1M)\n",
      "2023-02-22 18:27:39,390 INFO Download rate 11.4M/s\n",
      "2023-02-22 18:27:39,478 INFO Welcome to the CDS\n",
      "2023-02-22 18:27:39,479 INFO Sending request to https://cds.climate.copernicus.eu/api/v2/resources/sis-agrometeorological-indicators\n",
      "2023-02-22 18:27:39,528 INFO Request is queued\n"
     ]
    },
    {
     "name": "stdout",
     "output_type": "stream",
     "text": [
      "Download OK\n"
     ]
    },
    {
     "name": "stderr",
     "output_type": "stream",
     "text": [
      "2023-02-22 18:27:40,573 INFO Request is running\n",
      "2023-02-22 18:28:54,894 INFO Request is completed\n",
      "2023-02-22 18:28:54,896 INFO Downloading https://download-0016.copernicus-climate.eu/cache-compute-0016/cache/data8/dataset-sis-agrometeorological-indicators-acbcac91-e81a-4014-af40-dc96e93b195a.zip to ../data/0_downloads/AgERA5_burkina_2m_temperature_24_hour_maximum_2018.zip (14.1M)\n",
      "2023-02-22 18:28:57,635 INFO Download rate 5.2M/s\n",
      "2023-02-22 18:28:57,726 INFO Welcome to the CDS\n",
      "2023-02-22 18:28:57,727 INFO Sending request to https://cds.climate.copernicus.eu/api/v2/resources/sis-agrometeorological-indicators\n",
      "2023-02-22 18:28:57,775 INFO Request is queued\n"
     ]
    },
    {
     "name": "stdout",
     "output_type": "stream",
     "text": [
      "Download OK\n"
     ]
    },
    {
     "name": "stderr",
     "output_type": "stream",
     "text": [
      "2023-02-22 18:28:58,822 INFO Request is running\n",
      "2023-02-22 18:30:13,139 INFO Request is completed\n",
      "2023-02-22 18:30:13,140 INFO Downloading https://download-0014-clone.copernicus-climate.eu/cache-compute-0014/cache/data5/dataset-sis-agrometeorological-indicators-665fb883-c38f-4a1f-a15e-87c50dc1a99a.zip to ../data/0_downloads/AgERA5_burkina_solar_radiation_flux_daily_2018.zip (14.9M)\n",
      "2023-02-22 18:30:15,223 INFO Download rate 7.2M/s\n",
      "2023-02-22 18:30:15,309 INFO Welcome to the CDS\n",
      "2023-02-22 18:30:15,310 INFO Sending request to https://cds.climate.copernicus.eu/api/v2/resources/sis-agrometeorological-indicators\n",
      "2023-02-22 18:30:15,375 INFO Request is queued\n"
     ]
    },
    {
     "name": "stdout",
     "output_type": "stream",
     "text": [
      "Download OK\n"
     ]
    },
    {
     "name": "stderr",
     "output_type": "stream",
     "text": [
      "2023-02-22 18:30:16,423 INFO Request is running\n",
      "2023-02-22 18:31:30,750 INFO Request is completed\n",
      "2023-02-22 18:31:30,752 INFO Downloading https://download-0018.copernicus-climate.eu/cache-compute-0018/cache/data1/dataset-sis-agrometeorological-indicators-d992456e-dc3a-4617-a676-e172758536ae.zip to ../data/0_downloads/AgERA5_burkina_vapour_pressure_24_hour_mean_2018.zip (15.6M)\n",
      "2023-02-22 18:31:31,891 INFO Download rate 13.7M/s\n",
      "2023-02-22 18:31:31,982 INFO Welcome to the CDS\n",
      "2023-02-22 18:31:31,983 INFO Sending request to https://cds.climate.copernicus.eu/api/v2/resources/sis-agrometeorological-indicators\n"
     ]
    },
    {
     "name": "stdout",
     "output_type": "stream",
     "text": [
      "Download OK\n"
     ]
    },
    {
     "name": "stderr",
     "output_type": "stream",
     "text": [
      "2023-02-22 18:31:32,408 INFO Request is queued\n",
      "2023-02-22 18:31:33,454 INFO Request is running\n",
      "2023-02-22 18:32:47,779 INFO Request is completed\n",
      "2023-02-22 18:32:47,780 INFO Downloading https://download-0006-clone.copernicus-climate.eu/cache-compute-0006/cache/data2/dataset-sis-agrometeorological-indicators-dcc85835-f76f-438f-a9f8-eaf456519452.zip to ../data/0_downloads/AgERA5_burkina_10m_wind_speed_24_hour_mean_2018.zip (15.9M)\n",
      "2023-02-22 18:32:48,926 INFO Download rate 13.9M/s\n",
      "2023-02-22 18:32:49,016 INFO Welcome to the CDS\n",
      "2023-02-22 18:32:49,017 INFO Sending request to https://cds.climate.copernicus.eu/api/v2/resources/sis-agrometeorological-indicators\n",
      "2023-02-22 18:32:49,066 INFO Request is queued\n"
     ]
    },
    {
     "name": "stdout",
     "output_type": "stream",
     "text": [
      "Download OK\n"
     ]
    },
    {
     "name": "stderr",
     "output_type": "stream",
     "text": [
      "2023-02-22 18:32:50,112 INFO Request is running\n",
      "2023-02-22 18:34:04,431 INFO Request is completed\n",
      "2023-02-22 18:34:04,433 INFO Downloading https://download-0016.copernicus-climate.eu/cache-compute-0016/cache/data8/dataset-sis-agrometeorological-indicators-c3a77e73-4918-489a-8461-db9c7c116855.zip to ../data/0_downloads/AgERA5_burkina_2m_temperature_24_hour_mean_2018.zip (14.1M)\n",
      "2023-02-22 18:34:05,598 INFO Download rate 12.1M/s\n"
     ]
    },
    {
     "name": "stdout",
     "output_type": "stream",
     "text": [
      "Download OK\n",
      "===== extract_agERA5_month =====\n"
     ]
    },
    {
     "name": "stderr",
     "output_type": "stream",
     "text": [
      "100%|██████████| 6/6 [00:08<00:00,  1.39s/it]\n"
     ]
    },
    {
     "name": "stdout",
     "output_type": "stream",
     "text": [
      "Extraction OK\n",
      "===== convert_AgERA5_netcdf_to_geotiff =====\n"
     ]
    },
    {
     "name": "stderr",
     "output_type": "stream",
     "text": [
      "100%|██████████| 365/365 [00:16<00:00, 22.03it/s]\n",
      "100%|██████████| 365/365 [00:16<00:00, 21.54it/s]\n",
      "100%|██████████| 365/365 [00:16<00:00, 21.91it/s]\n",
      "100%|██████████| 365/365 [00:16<00:00, 22.37it/s]\n",
      "100%|██████████| 365/365 [00:16<00:00, 21.58it/s]\n",
      "100%|██████████| 365/365 [00:18<00:00, 20.05it/s]\n"
     ]
    },
    {
     "name": "stdout",
     "output_type": "stream",
     "text": [
      "===== calculate_AgERA5_ET0_and_save =====\n"
     ]
    },
    {
     "name": "stderr",
     "output_type": "stream",
     "text": [
      "100%|██████████| 9423/9423 [31:58<00:00,  4.91it/s]\n",
      "100%|██████████| 24/24 [27:20:38<00:00, 4101.60s/it]"
     ]
    },
    {
     "name": "stdout",
     "output_type": "stream",
     "text": [
      "===== Query date 2018-01-01 all done ! =====\n"
     ]
    },
    {
     "name": "stderr",
     "output_type": "stream",
     "text": [
      "\n"
     ]
    }
   ],
   "source": [
    "# parameters\n",
    "area = {'burkina': [16, -6, 9, 3]}\n",
    "selected_area = \"burkina\"\n",
    "variables = [\n",
    "    (\"2m_temperature\",\"24_hour_minimum\"),\n",
    "    (\"2m_temperature\",\"24_hour_maximum\"),\n",
    "    (\"solar_radiation_flux\", \"daily\"),\n",
    "    (\"vapour_pressure\", \"24_hour_mean\"),\n",
    "    (\"10m_wind_speed\", \"24_hour_mean\"),\n",
    "    (\"2m_temperature\",\"24_hour_mean\"),\n",
    "]\n",
    "\n",
    "for year in tqdm(range(1995,2019)):\n",
    "    query_date = datetime.date(year,1,1)\n",
    "\n",
    "    # run\n",
    "    download_AgERA5_data(area, selected_area, variables, mode=\"year\", query=query_date)\n",
    "    extract_AgERA5_data(area, selected_area, variables, mode=\"year\", query=query_date)\n",
    "    convert_AgERA5_netcdf_to_geotiff(area, selected_area, variables, query=query_date) # converts whole year\n",
    "    calculate_AgERA5_ET0_and_save(area, selected_area, variables, query=query_date) # calculates whole year\n",
    "    print(\"===== Query date\",query_date,\"all done ! =====\")"
   ]
  },
  {
   "cell_type": "code",
   "execution_count": null,
   "metadata": {},
   "outputs": [],
   "source": []
  }
 ],
 "metadata": {
  "kernelspec": {
   "display_name": "venv_sarra_data_download",
   "language": "python",
   "name": "python3"
  },
  "language_info": {
   "codemirror_mode": {
    "name": "ipython",
    "version": 3
   },
   "file_extension": ".py",
   "mimetype": "text/x-python",
   "name": "python",
   "nbconvert_exporter": "python",
   "pygments_lexer": "ipython3",
   "version": "3.9.6"
  },
  "orig_nbformat": 4,
  "vscode": {
   "interpreter": {
    "hash": "8a5edab282632443219e051e4ade2d1d5bbc671c781051bf1437897cbdfea0f1"
   }
  }
 },
 "nbformat": 4,
 "nbformat_minor": 2
}
