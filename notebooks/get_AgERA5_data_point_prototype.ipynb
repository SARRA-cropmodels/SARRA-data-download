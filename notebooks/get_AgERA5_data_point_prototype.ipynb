{
 "cells": [
  {
   "cell_type": "code",
   "execution_count": 1,
   "metadata": {},
   "outputs": [],
   "source": [
    "import cdsapi\n",
    "import zipfile\n",
    "import xarray as xr \n",
    "import os\n",
    "from tqdm import tqdm\n",
    "import pandas as pd\n",
    "from datetime import datetime as dt\n",
    "import datetime\n",
    "import numpy as np\n",
    "import schedule\n",
    "import requests\n",
    "from pcse.util import reference_ET\n",
    "from os.path import exists"
   ]
  },
  {
   "cell_type": "markdown",
   "metadata": {},
   "source": [
    "# Download"
   ]
  },
  {
   "cell_type": "code",
   "execution_count": 2,
   "metadata": {},
   "outputs": [],
   "source": [
    "def download_AgERA5_year(area, selected_area, variable, query_year):\n",
    "\n",
    "    # the objective is to download the whole year\n",
    "    print(\"===== download_AgERA5_year =====\")\n",
    "    \n",
    "    c = cdsapi.Client()\n",
    "\n",
    "    if not os.path.exists('../data/0_downloads/'):\n",
    "        os.makedirs('../data/0_downloads/')\n",
    "\n",
    "    print(\"Downloading values for variable\",variable,\"for year\", query_year)\n",
    "\n",
    "    zip_path = '../data/0_downloads/AgERA5_'+selected_area+'_'+variable[0]+'_'+variable[1]+\"_\"+str(query_year)+'.zip'\n",
    "\n",
    "    data_points = {}\n",
    "\n",
    "    request = {\n",
    "            'format': 'zip',\n",
    "            'day': [\n",
    "                '01', '02', '03',\n",
    "                '04', '05', '06',\n",
    "                '07', '08', '09',\n",
    "                '10', '11', '12',\n",
    "                '13', '14', '15',\n",
    "                '16', '17', '18',\n",
    "                '19', '20', '21',\n",
    "                '22', '23', '24',\n",
    "                '25', '26', '27',\n",
    "                '28', '29', '30',\n",
    "                '31',\n",
    "            ],\n",
    "            'month': [\n",
    "                '01', '02', '03',\n",
    "                '04', '05', '06',\n",
    "                '07', '08', '09',\n",
    "                '10', '11', '12',\n",
    "            ],\n",
    "            'year': [str(query_year)],\n",
    "            'variable': variable[0],\n",
    "            'statistic': variable[1],\n",
    "            'area': area[selected_area],\n",
    "        }\n",
    "\n",
    "    # la requête doit être adaptée pour cette variable\n",
    "    if variable[0] == \"solar_radiation_flux\" :\n",
    "        del request[\"statistic\"]\n",
    "\n",
    "    if exists(zip_path) :\n",
    "        print(\"File already downloaded. Skipping.\")\n",
    "\n",
    "    else :\n",
    "        c.retrieve(\n",
    "            'sis-agrometeorological-indicators',\n",
    "            request,\n",
    "            zip_path)\n",
    "\n",
    "        print(\"Download OK\")\n",
    "\n",
    "    # except :\n",
    "    #     print(\"/!\\ Download NOT OK\")"
   ]
  },
  {
   "cell_type": "markdown",
   "metadata": {},
   "source": [
    "# Extraction"
   ]
  },
  {
   "cell_type": "code",
   "execution_count": 3,
   "metadata": {},
   "outputs": [],
   "source": [
    "def extract_agERA5_year(area, selected_area, variable, query_year):\n",
    "\n",
    "    print(\"===== extract_agERA5_year =====\")\n",
    "\n",
    "    # try:\n",
    "    # query_year = query_date.year\n",
    "    # query_month = query_date.strftime('%m')\n",
    "\n",
    "\n",
    "    zip_path = '../data/0_downloads/AgERA5_'+selected_area+'_'+variable[0]+'_'+variable[1]+\"_\"+str(query_year)+'.zip'\n",
    "    extraction_path = '../data/1_extraction/AgERA5_'+selected_area+'/'+str(query_year)+\"/\"+variable[0]+'_'+variable[1]+'/'\n",
    "\n",
    "    try:\n",
    "        with zipfile.ZipFile(zip_path, 'r') as zip_ref:\n",
    "            zip_ref.extractall(extraction_path)\n",
    "    except:\n",
    "        pass\n",
    "    \n",
    "    print(\"Extraction OK\")\n",
    "\n",
    "    # except :\n",
    "    #     print(\"/!\\ Extraction NOT OK\")"
   ]
  },
  {
   "cell_type": "markdown",
   "metadata": {},
   "source": [
    "# Reading values from nc"
   ]
  },
  {
   "cell_type": "code",
   "execution_count": 4,
   "metadata": {},
   "outputs": [],
   "source": [
    "def read_AgERA5_point_values(variables, year_begin, year_end, selected_area, points):\n",
    "\n",
    "    import warnings\n",
    "    warnings.simplefilter(action='ignore', category=FutureWarning)\n",
    "\n",
    "    df_weather = pd.DataFrame()\n",
    "\n",
    "    for variable in tqdm(variables, position=0, desc=\"iterating over variables\") :\n",
    "        \n",
    "        df_weather_variable = pd.DataFrame()\n",
    "\n",
    "        for query_year in range(year_begin, year_end+1):\n",
    "            # print(variable, query_year)\n",
    "\n",
    "            extraction_path = '../data/1_extraction/AgERA5_'+selected_area+'/'+str(query_year)+\"/\"+variable[0]+'_'+variable[1]+'/'\n",
    "            nc_files = os.listdir(extraction_path)\n",
    "\n",
    "            for nc_file in tqdm(nc_files, position=1,  desc=variable[0]+\"_\"+variable[1], leave=False) :\n",
    "                nc_file_content = xr.open_dataset(os.path.join(extraction_path, nc_file))\n",
    "                xarray_variable_name = list(nc_file_content.keys())[0]\n",
    "                bT = nc_file_content[xarray_variable_name]\n",
    "\n",
    "                for point in points :\n",
    "\n",
    "                    value = nc_file_content.sel(\n",
    "                        lat=points[point][0], \n",
    "                        lon=points[point][1],\n",
    "                        method=\"nearest\")[xarray_variable_name].values[0]\n",
    "                    df_weather_variable = df_weather_variable.append(pd.DataFrame({variable:value, \"Point\":point, \"Jour\":pd.Timestamp(nc_file_content[\"time\"].values[0]).date()}, index=[0]))\n",
    "            \n",
    "        if variable == variables[0]:\n",
    "            df_weather = df_weather_variable\n",
    "        else :\n",
    "            df_weather = df_weather.merge(df_weather_variable, left_on = [\"Jour\", \"Point\"], right_on=[\"Jour\", \"Point\"])\n",
    "    \n",
    "    return df_weather\n"
   ]
  },
  {
   "cell_type": "markdown",
   "metadata": {},
   "source": [
    "# Formatting df"
   ]
  },
  {
   "cell_type": "code",
   "execution_count": 5,
   "metadata": {},
   "outputs": [],
   "source": [
    "def format_and_save_AgERA5_point_csv(df_weather, points, year_begin, year_end) :\n",
    "\n",
    "    # correspondance entre noms de variables dans AgERA5 et le nom des variables souhaité dans SARRA\n",
    "    variables_corresp = {\n",
    "        (\"2m_temperature\",\"24_hour_minimum\"): \"TMin\",\n",
    "        (\"2m_temperature\",\"24_hour_maximum\"): \"TMax\",\n",
    "        (\"solar_radiation_flux\", \"daily\"): \"Rg\",\n",
    "        (\"vapour_pressure\", \"24_hour_mean\"): \"Vap\",\n",
    "        (\"10m_wind_speed\", \"24_hour_mean\"): \"Vt\",\n",
    "        (\"2m_temperature\",\"24_hour_mean\"): \"TMoy\",\n",
    "    }\n",
    "\n",
    "    df_weather = df_weather.rename(columns=variables_corresp)\n",
    "\n",
    "    print(\"- Converting units...\")\n",
    "\n",
    "    # conversions\n",
    "    df_weather[[\"TMin\", \"TMax\", \"TMoy\"]] = df_weather[[\"TMin\", \"TMax\", \"TMoy\"]] - 273.15 # K to °C\n",
    "    df_weather[\"Rg\"] = df_weather[\"Rg\"]/1E6 # J/d to MJ/d\n",
    "\n",
    "    # calcul du RH depuis actual vapour pressure : https://www.weather.gov/media/epz/wxcalc/vaporPressure.pdf\n",
    "    df_weather[\"es\"] = 6.11 * 10 ** ((7.5 * df_weather[\"TMoy\"])/(237.3 + df_weather[\"TMoy\"]))\n",
    "    df_weather[\"HMoy\"] = (df_weather[\"Vap\"]/df_weather[\"es\"]) * 100\n",
    "\n",
    "    # SARRA-O day format\n",
    "    df_weather[\"Jour_SARRA_H\"] = df_weather.apply(lambda x: x[\"Jour\"].strftime(\"%d/%m/%Y\"), axis=1)\n",
    "\n",
    "    print(\"- Retrieving elevation at request coordinates...\")\n",
    "    df_elevation = pd.DataFrame()\n",
    "    for point in points :\n",
    "        response = requests.get(\"https://api.open-elevation.com/api/v1/lookup?locations=\"+str(points[point][0])+\",\"+str(points[point][1]))\n",
    "        df_elevation = df_elevation.append(pd.DataFrame({\"Point\":point, \"lat\":points[point][0], \"lon\":points[point][1], \"ELEV\":response.json()['results'][0][\"elevation\"]}, index=[0]))\n",
    "\n",
    "    df_weather = df_weather.merge(df_elevation, left_on=\"Point\", right_on=\"Point\")\n",
    "\n",
    "\n",
    "    print(\"- Computing ET0-PM...\")\n",
    "    ANGSTA = 0.29\n",
    "    ANGSTB = 0.49\n",
    "    df_weather[\"ET0_PM\"] = df_weather.apply(lambda x: reference_ET(x[\"Jour\"], x[\"lat\"], x[\"ELEV\"], x[\"TMin\"], x[\"TMax\"], x[\"Rg\"]*1E6, x[\"Vap\"], x[\"Vt\"], ANGSTA, ANGSTB, ETMODEL=\"PM\")[2], axis=1)\n",
    "\n",
    "\n",
    "    # saving individual files\n",
    "    for point in points :\n",
    "        df_weather[df_weather[\"Point\"]==point].reset_index(drop=True).to_csv(\"../data/3_output/AgERA5_point_\"+selected_area+\"_\"+point+\"_\"+str(points[point][0])+\"_\"+str(points[point][1])+\"_\"+str(year_begin)+\"_\"+str(year_end)+\".csv\")"
   ]
  },
  {
   "cell_type": "markdown",
   "metadata": {},
   "source": [
    "## run params"
   ]
  },
  {
   "cell_type": "code",
   "execution_count": 6,
   "metadata": {},
   "outputs": [],
   "source": [
    "# parameters\n",
    "area = {\n",
    "    'madagascar':[-11.3, 42.1, -26.2, 51.1],\n",
    "}\n",
    "selected_area = \"madagascar\"\n",
    "\n",
    "points = {\n",
    "    \"Antsahamamy\":[-18.92, 47.56],\n",
    "    \"Ambohimiarina\":[-18.83, 47.13],\n",
    "    \"Ambohitsilaozana\":[-17.70, 48.47],\n",
    "    \"Ambongabe\":[-18.53, 48.03],\n",
    "    \"Ampitatsimo\":[-17.81, 48.38],\n",
    "} #lat, lon\n",
    "\n",
    "variables = [\n",
    "    (\"2m_temperature\",\"24_hour_minimum\"),\n",
    "    (\"2m_temperature\",\"24_hour_maximum\"),\n",
    "    (\"solar_radiation_flux\", \"daily\"),\n",
    "    (\"vapour_pressure\", \"24_hour_mean\"),\n",
    "    (\"10m_wind_speed\", \"24_hour_mean\"),\n",
    "    (\"2m_temperature\",\"24_hour_mean\"),\n",
    "]\n",
    "\n",
    "year_begin = 2006\n",
    "year_end = 2010"
   ]
  },
  {
   "cell_type": "markdown",
   "metadata": {},
   "source": [
    "## run"
   ]
  },
  {
   "cell_type": "code",
   "execution_count": null,
   "metadata": {},
   "outputs": [],
   "source": [
    "for variable in tqdm(variables) :\n",
    "    for query_year in range(year_begin, year_end+1):\n",
    "        download_AgERA5_year(area, selected_area, variable, query_year)\n",
    "        extract_agERA5_year(area, selected_area, variable, query_year)\n",
    "\n",
    "df_weather = read_AgERA5_point_values(variables, year_begin, year_end, selected_area, points)\n",
    "format_and_save_AgERA5_point_csv(df_weather, points, year_begin, year_end)"
   ]
  }
 ],
 "metadata": {
  "kernelspec": {
   "display_name": "Python 3.9.6 64-bit ('venv_sarra_data_download')",
   "language": "python",
   "name": "python3"
  },
  "language_info": {
   "codemirror_mode": {
    "name": "ipython",
    "version": 3
   },
   "file_extension": ".py",
   "mimetype": "text/x-python",
   "name": "python",
   "nbconvert_exporter": "python",
   "pygments_lexer": "ipython3",
   "version": "3.9.6"
  },
  "orig_nbformat": 4,
  "vscode": {
   "interpreter": {
    "hash": "a619a3e580409126cc44b05b414d75e5414ec3ffa31020c3aba01dc643503166"
   }
  }
 },
 "nbformat": 4,
 "nbformat_minor": 2
}
