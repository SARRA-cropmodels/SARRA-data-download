{
 "cells": [
  {
   "cell_type": "code",
   "execution_count": 10,
   "metadata": {},
   "outputs": [],
   "source": [
    "import cdsapi\n",
    "import zipfile\n",
    "import xarray as xr \n",
    "import rioxarray as rio \n",
    "import os\n",
    "from tqdm import tqdm\n",
    "import pandas as pd"
   ]
  },
  {
   "cell_type": "code",
   "execution_count": 2,
   "metadata": {},
   "outputs": [],
   "source": [
    "area = {\n",
    "    'burkina': [16, -6, 9, 3],  \n",
    "}\n",
    "\n",
    "variables = [\n",
    "    (\"2m_temperature\",\"24_hour_minimum\"),\n",
    "    (\"2m_temperature\",\"24_hour_maximum\"),\n",
    "    (\"solar_radiation_flux\", \"daily\"),\n",
    "    (\"vapour_pressure\", \"24_hour_mean\"),\n",
    "    (\"10m_wind_speed\", \"24_hour_mean\"),\n",
    "    (\"2m_temperature\",\"24_hour_mean\"),\n",
    "]"
   ]
  },
  {
   "cell_type": "code",
   "execution_count": 4,
   "metadata": {},
   "outputs": [],
   "source": [
    "selected_area = \"burkina\"\n",
    "period = (2020,2021) # beginning and end year"
   ]
  },
  {
   "cell_type": "markdown",
   "metadata": {},
   "source": [
    "# Download"
   ]
  },
  {
   "cell_type": "markdown",
   "metadata": {},
   "source": [
    "Data are downloaded from AgERA5 provided by CDS (https://cds.climate.copernicus.eu/cdsapp#!/dataset/sis-agrometeorological-indicators?tab=overview), through the cdsapi package. This has the advantage of magaging the caching of already passed requests, thus to speed up the downloading process."
   ]
  },
  {
   "cell_type": "code",
   "execution_count": 41,
   "metadata": {},
   "outputs": [
    {
     "name": "stderr",
     "output_type": "stream",
     "text": [
      "2022-09-21 10:47:06,160 INFO Welcome to the CDS\n",
      "2022-09-21 10:47:06,161 INFO Sending request to https://cds.climate.copernicus.eu/api/v2/resources/sis-agrometeorological-indicators\n"
     ]
    },
    {
     "name": "stdout",
     "output_type": "stream",
     "text": [
      "('2m_temperature', '24_hour_minimum') 2020\n"
     ]
    },
    {
     "name": "stderr",
     "output_type": "stream",
     "text": [
      "2022-09-21 10:47:06,277 INFO Request is completed\n",
      "2022-09-21 10:47:06,278 INFO Downloading https://download-0003-clone.copernicus-climate.eu/cache-compute-0003/cache/data9/dataset-sis-agrometeorological-indicators-13061420-1b78-4e7f-924b-cc450f4c692e.zip to ../data/0_downloads/burkina_2m_temperature_24_hour_minimum_2020.zip (13.1M)\n",
      "2022-09-21 10:47:07,952 INFO Download rate 7.8M/s   \n",
      "2022-09-21 10:47:08,029 INFO Welcome to the CDS\n",
      "2022-09-21 10:47:08,029 INFO Sending request to https://cds.climate.copernicus.eu/api/v2/resources/sis-agrometeorological-indicators\n"
     ]
    },
    {
     "name": "stdout",
     "output_type": "stream",
     "text": [
      "('2m_temperature', '24_hour_minimum') 2021\n"
     ]
    },
    {
     "name": "stderr",
     "output_type": "stream",
     "text": [
      "2022-09-21 10:47:08,207 INFO Downloading https://download-0000-clone.copernicus-climate.eu/cache-compute-0000/cache/data0/dataset-sis-agrometeorological-indicators-edc0b18c-ef11-4b34-806b-37eb46e08130.zip to ../data/0_downloads/burkina_2m_temperature_24_hour_minimum_2021.zip (12.4M)\n",
      "2022-09-21 10:47:10,240 INFO Download rate 6.1M/s   \n",
      "2022-09-21 10:47:10,317 INFO Welcome to the CDS\n",
      "2022-09-21 10:47:10,318 INFO Sending request to https://cds.climate.copernicus.eu/api/v2/resources/sis-agrometeorological-indicators\n",
      "2022-09-21 10:47:10,427 INFO Downloading https://download-0000-clone.copernicus-climate.eu/cache-compute-0000/cache/data1/dataset-sis-agrometeorological-indicators-33fd6734-419f-48df-8d5b-66032bd4eeab.zip to ../data/0_downloads/burkina_2m_temperature_24_hour_maximum_2020.zip (13M)\n"
     ]
    },
    {
     "name": "stdout",
     "output_type": "stream",
     "text": [
      "('2m_temperature', '24_hour_maximum') 2020\n"
     ]
    },
    {
     "name": "stderr",
     "output_type": "stream",
     "text": [
      "2022-09-21 10:47:14,744 INFO Download rate 3M/s     \n",
      "2022-09-21 10:47:14,819 INFO Welcome to the CDS\n",
      "2022-09-21 10:47:14,820 INFO Sending request to https://cds.climate.copernicus.eu/api/v2/resources/sis-agrometeorological-indicators\n",
      "2022-09-21 10:47:14,928 INFO Downloading https://download-0003-clone.copernicus-climate.eu/cache-compute-0003/cache/data9/dataset-sis-agrometeorological-indicators-bfeea503-7ccf-48d8-91c8-0a03188348de.zip to ../data/0_downloads/burkina_2m_temperature_24_hour_maximum_2021.zip (12.4M)\n"
     ]
    },
    {
     "name": "stdout",
     "output_type": "stream",
     "text": [
      "('2m_temperature', '24_hour_maximum') 2021\n"
     ]
    },
    {
     "name": "stderr",
     "output_type": "stream",
     "text": [
      "2022-09-21 10:47:17,842 INFO Download rate 4.3M/s   \n",
      "2022-09-21 10:47:17,917 INFO Welcome to the CDS\n",
      "2022-09-21 10:47:17,918 INFO Sending request to https://cds.climate.copernicus.eu/api/v2/resources/sis-agrometeorological-indicators\n"
     ]
    },
    {
     "name": "stdout",
     "output_type": "stream",
     "text": [
      "('solar_radiation_flux', 'daily') 2020\n"
     ]
    },
    {
     "name": "stderr",
     "output_type": "stream",
     "text": [
      "2022-09-21 10:47:18,189 INFO Downloading https://download-0017.copernicus-climate.eu/cache-compute-0017/cache/data0/dataset-sis-agrometeorological-indicators-74dbaba1-cef3-48a1-aee3-bb93c374ef16.zip to ../data/0_downloads/burkina_solar_radiation_flux_daily_2020.zip (13.9M)\n",
      "2022-09-21 10:47:55,294 INFO Download rate 382.9K/s \n",
      "2022-09-21 10:47:55,370 INFO Welcome to the CDS\n",
      "2022-09-21 10:47:55,370 INFO Sending request to https://cds.climate.copernicus.eu/api/v2/resources/sis-agrometeorological-indicators\n",
      "2022-09-21 10:47:55,456 INFO Downloading https://download-0009-clone.copernicus-climate.eu/cache-compute-0009/cache/data5/dataset-sis-agrometeorological-indicators-110a0b80-8a4b-435c-a200-e69c71b870e7.zip to ../data/0_downloads/burkina_solar_radiation_flux_daily_2021.zip (13.1M)\n"
     ]
    },
    {
     "name": "stdout",
     "output_type": "stream",
     "text": [
      "('solar_radiation_flux', 'daily') 2021\n"
     ]
    },
    {
     "name": "stderr",
     "output_type": "stream",
     "text": [
      "2022-09-21 10:47:56,268 INFO Download rate 16.2M/s  \n",
      "2022-09-21 10:47:56,346 INFO Welcome to the CDS\n",
      "2022-09-21 10:47:56,347 INFO Sending request to https://cds.climate.copernicus.eu/api/v2/resources/sis-agrometeorological-indicators\n"
     ]
    },
    {
     "name": "stdout",
     "output_type": "stream",
     "text": [
      "('vapour_pressure', '24_hour_mean') 2020\n"
     ]
    },
    {
     "name": "stderr",
     "output_type": "stream",
     "text": [
      "2022-09-21 10:47:56,524 INFO Downloading https://download-0020.copernicus-climate.eu/cache-compute-0020/cache/data0/dataset-sis-agrometeorological-indicators-f62c2b43-242b-4492-8bad-e17591140c4d.zip to ../data/0_downloads/burkina_vapour_pressure_24_hour_mean_2020.zip (14.6M)\n",
      "2022-09-21 10:47:57,463 INFO Download rate 15.5M/s  \n",
      "2022-09-21 10:47:57,538 INFO Welcome to the CDS\n",
      "2022-09-21 10:47:57,539 INFO Sending request to https://cds.climate.copernicus.eu/api/v2/resources/sis-agrometeorological-indicators\n",
      "2022-09-21 10:47:57,645 INFO Downloading https://download-0019.copernicus-climate.eu/cache-compute-0019/cache/data5/dataset-sis-agrometeorological-indicators-43659773-bda7-46e2-9c54-c3dee0fe56e6.zip to ../data/0_downloads/burkina_vapour_pressure_24_hour_mean_2021.zip (13.9M)\n"
     ]
    },
    {
     "name": "stdout",
     "output_type": "stream",
     "text": [
      "('vapour_pressure', '24_hour_mean') 2021\n"
     ]
    },
    {
     "name": "stderr",
     "output_type": "stream",
     "text": [
      "2022-09-21 10:47:58,570 INFO Download rate 15M/s    \n",
      "2022-09-21 10:47:58,645 INFO Welcome to the CDS\n",
      "2022-09-21 10:47:58,646 INFO Sending request to https://cds.climate.copernicus.eu/api/v2/resources/sis-agrometeorological-indicators\n",
      "2022-09-21 10:47:58,763 INFO Downloading https://download-0006-clone.copernicus-climate.eu/cache-compute-0006/cache/data0/dataset-sis-agrometeorological-indicators-096c7c8b-bb9c-4e50-a3b8-3598521c94e2.zip to ../data/0_downloads/burkina_10m_wind_speed_24_hour_mean_2020.zip (14.9M)\n"
     ]
    },
    {
     "name": "stdout",
     "output_type": "stream",
     "text": [
      "('10m_wind_speed', '24_hour_mean') 2020\n"
     ]
    },
    {
     "name": "stderr",
     "output_type": "stream",
     "text": [
      "2022-09-21 10:48:01,387 INFO Download rate 5.7M/s   \n",
      "2022-09-21 10:48:01,468 INFO Welcome to the CDS\n",
      "2022-09-21 10:48:01,469 INFO Sending request to https://cds.climate.copernicus.eu/api/v2/resources/sis-agrometeorological-indicators\n",
      "2022-09-21 10:48:01,585 INFO Downloading https://download-0021.copernicus-climate.eu/cache-compute-0021/cache/data4/dataset-sis-agrometeorological-indicators-e287cd06-01b6-4b7f-b6a3-9132e0d5085f.zip to ../data/0_downloads/burkina_10m_wind_speed_24_hour_mean_2021.zip (14.2M)\n"
     ]
    },
    {
     "name": "stdout",
     "output_type": "stream",
     "text": [
      "('10m_wind_speed', '24_hour_mean') 2021\n"
     ]
    },
    {
     "name": "stderr",
     "output_type": "stream",
     "text": [
      "2022-09-21 10:48:03,375 INFO Download rate 7.9M/s   \n",
      "2022-09-21 10:48:03,450 INFO Welcome to the CDS\n",
      "2022-09-21 10:48:03,451 INFO Sending request to https://cds.climate.copernicus.eu/api/v2/resources/sis-agrometeorological-indicators\n",
      "2022-09-21 10:48:03,615 INFO Downloading https://download-0006-clone.copernicus-climate.eu/cache-compute-0006/cache/data6/dataset-sis-agrometeorological-indicators-39f43a61-0de8-4b73-a8bf-6171bc57eced.zip to ../data/0_downloads/burkina_2m_temperature_24_hour_mean_2020.zip (13M)\n"
     ]
    },
    {
     "name": "stdout",
     "output_type": "stream",
     "text": [
      "('2m_temperature', '24_hour_mean') 2020\n"
     ]
    },
    {
     "name": "stderr",
     "output_type": "stream",
     "text": [
      "2022-09-21 10:48:07,172 INFO Download rate 3.7M/s   \n",
      "2022-09-21 10:48:07,249 INFO Welcome to the CDS\n",
      "2022-09-21 10:48:07,250 INFO Sending request to https://cds.climate.copernicus.eu/api/v2/resources/sis-agrometeorological-indicators\n",
      "2022-09-21 10:48:07,367 INFO Downloading https://download-0014-clone.copernicus-climate.eu/cache-compute-0014/cache/data1/dataset-sis-agrometeorological-indicators-c74cbe7e-49d2-4233-b27a-2ca3d6319071.zip to ../data/0_downloads/burkina_2m_temperature_24_hour_mean_2021.zip (12.4M)\n"
     ]
    },
    {
     "name": "stdout",
     "output_type": "stream",
     "text": [
      "('2m_temperature', '24_hour_mean') 2021\n"
     ]
    },
    {
     "name": "stderr",
     "output_type": "stream",
     "text": [
      "2022-09-21 10:48:08,202 INFO Download rate 14.8M/s  \n"
     ]
    }
   ],
   "source": [
    "c = cdsapi.Client()\n",
    "\n",
    "for variable in variables :\n",
    "    for year in range(period[0], period[1] + 1):\n",
    "    \n",
    "        print(variable,year)\n",
    "\n",
    "        zip_path = '../data/0_downloads/'+selected_area+'_'+variable[0]+'_'+variable[1]+'_'+str(year)+'.zip'\n",
    "\n",
    "        request = {\n",
    "                'format': 'zip',\n",
    "                'day': [\n",
    "                    '01', '02', '03',\n",
    "                    '04', '05', '06',\n",
    "                    '07', '08', '09',\n",
    "                    '10', '11', '12',\n",
    "                    '13', '14', '15',\n",
    "                    '16', '17', '18',\n",
    "                    '19', '20', '21',\n",
    "                    '22', '23', '24',\n",
    "                    '25', '26', '27',\n",
    "                    '28', '29', '30',\n",
    "                    '31',\n",
    "                ],\n",
    "                'month': [\n",
    "                    '01', '02', '03',\n",
    "                    '04', '05', '06',\n",
    "                    '07', '08', '09',\n",
    "                    '10', '11', '12'\n",
    "                ],\n",
    "                'year': [str(year)],\n",
    "                'variable': variable[0],\n",
    "                'statistic': variable[1],\n",
    "                'area': area[selected_area],\n",
    "            }\n",
    "\n",
    "        # la requête doit être adaptée pour cette variable\n",
    "        if variable[0] == \"solar_radiation_flux\" :\n",
    "            del request[\"statistic\"]\n",
    "\n",
    "        c.retrieve(\n",
    "            'sis-agrometeorological-indicators',\n",
    "            request,\n",
    "            zip_path)"
   ]
  },
  {
   "cell_type": "markdown",
   "metadata": {},
   "source": [
    "# Extraction"
   ]
  },
  {
   "cell_type": "code",
   "execution_count": 42,
   "metadata": {},
   "outputs": [
    {
     "name": "stderr",
     "output_type": "stream",
     "text": [
      "  0%|          | 0/6 [00:00<?, ?it/s]"
     ]
    },
    {
     "name": "stdout",
     "output_type": "stream",
     "text": [
      "unzipping ../data/0_downloads/burkina_2m_temperature_24_hour_minimum_2020.zip\n"
     ]
    },
    {
     "name": "stderr",
     "output_type": "stream",
     "text": [
      " 17%|█▋        | 1/6 [00:03<00:16,  3.35s/it]"
     ]
    },
    {
     "name": "stdout",
     "output_type": "stream",
     "text": [
      "unzipping ../data/0_downloads/burkina_2m_temperature_24_hour_minimum_2021.zip\n",
      "unzipping ../data/0_downloads/burkina_2m_temperature_24_hour_maximum_2020.zip\n"
     ]
    },
    {
     "name": "stderr",
     "output_type": "stream",
     "text": [
      " 33%|███▎      | 2/6 [00:06<00:13,  3.33s/it]"
     ]
    },
    {
     "name": "stdout",
     "output_type": "stream",
     "text": [
      "unzipping ../data/0_downloads/burkina_2m_temperature_24_hour_maximum_2021.zip\n",
      "unzipping ../data/0_downloads/burkina_solar_radiation_flux_daily_2020.zip\n"
     ]
    },
    {
     "name": "stderr",
     "output_type": "stream",
     "text": [
      " 50%|█████     | 3/6 [00:09<00:09,  3.27s/it]"
     ]
    },
    {
     "name": "stdout",
     "output_type": "stream",
     "text": [
      "unzipping ../data/0_downloads/burkina_solar_radiation_flux_daily_2021.zip\n",
      "unzipping ../data/0_downloads/burkina_vapour_pressure_24_hour_mean_2020.zip\n"
     ]
    },
    {
     "name": "stderr",
     "output_type": "stream",
     "text": [
      " 67%|██████▋   | 4/6 [00:13<00:06,  3.23s/it]"
     ]
    },
    {
     "name": "stdout",
     "output_type": "stream",
     "text": [
      "unzipping ../data/0_downloads/burkina_vapour_pressure_24_hour_mean_2021.zip\n",
      "unzipping ../data/0_downloads/burkina_10m_wind_speed_24_hour_mean_2020.zip\n"
     ]
    },
    {
     "name": "stderr",
     "output_type": "stream",
     "text": [
      " 83%|████████▎ | 5/6 [00:15<00:02,  2.94s/it]"
     ]
    },
    {
     "name": "stdout",
     "output_type": "stream",
     "text": [
      "unzipping ../data/0_downloads/burkina_10m_wind_speed_24_hour_mean_2021.zip\n",
      "unzipping ../data/0_downloads/burkina_2m_temperature_24_hour_mean_2020.zip\n"
     ]
    },
    {
     "name": "stderr",
     "output_type": "stream",
     "text": [
      "100%|██████████| 6/6 [00:17<00:00,  2.99s/it]"
     ]
    },
    {
     "name": "stdout",
     "output_type": "stream",
     "text": [
      "unzipping ../data/0_downloads/burkina_2m_temperature_24_hour_mean_2021.zip\n"
     ]
    },
    {
     "name": "stderr",
     "output_type": "stream",
     "text": [
      "\n"
     ]
    }
   ],
   "source": [
    "for variable in tqdm(variables) :\n",
    "    for year in range(period[0], period[1] + 1):\n",
    "\n",
    "        zip_path = '../data/0_downloads/'+selected_area+'_'+variable[0]+'_'+variable[1]+'_'+str(year)+'.zip'\n",
    "        extraction_path = '../data/1_extraction/'+selected_area+'_'+variable[0]+'_'+variable[1]+'/'\n",
    "\n",
    "        try:\n",
    "            with zipfile.ZipFile(zip_path, 'r') as zip_ref:\n",
    "                zip_ref.extractall(extraction_path)\n",
    "        except:\n",
    "            pass\n",
    "\n",
    "        print(\"unzipping\",zip_path)"
   ]
  },
  {
   "cell_type": "markdown",
   "metadata": {},
   "source": [
    "# Conversion to daily Geotiffs"
   ]
  },
  {
   "cell_type": "code",
   "execution_count": 43,
   "metadata": {},
   "outputs": [
    {
     "name": "stdout",
     "output_type": "stream",
     "text": [
      "converting ('2m_temperature', '24_hour_minimum')\n"
     ]
    },
    {
     "name": "stderr",
     "output_type": "stream",
     "text": [
      "100%|██████████| 731/731 [00:30<00:00, 23.94it/s]\n"
     ]
    },
    {
     "name": "stdout",
     "output_type": "stream",
     "text": [
      "converting ('2m_temperature', '24_hour_maximum')\n"
     ]
    },
    {
     "name": "stderr",
     "output_type": "stream",
     "text": [
      "100%|██████████| 731/731 [00:29<00:00, 24.63it/s]\n"
     ]
    },
    {
     "name": "stdout",
     "output_type": "stream",
     "text": [
      "converting ('solar_radiation_flux', 'daily')\n"
     ]
    },
    {
     "name": "stderr",
     "output_type": "stream",
     "text": [
      "100%|██████████| 731/731 [00:28<00:00, 26.02it/s]\n"
     ]
    },
    {
     "name": "stdout",
     "output_type": "stream",
     "text": [
      "converting ('vapour_pressure', '24_hour_mean')\n"
     ]
    },
    {
     "name": "stderr",
     "output_type": "stream",
     "text": [
      "100%|██████████| 731/731 [00:28<00:00, 25.94it/s]\n"
     ]
    },
    {
     "name": "stdout",
     "output_type": "stream",
     "text": [
      "converting ('10m_wind_speed', '24_hour_mean')\n"
     ]
    },
    {
     "name": "stderr",
     "output_type": "stream",
     "text": [
      "100%|██████████| 731/731 [00:28<00:00, 25.91it/s]\n"
     ]
    },
    {
     "name": "stdout",
     "output_type": "stream",
     "text": [
      "converting ('2m_temperature', '24_hour_mean')\n"
     ]
    },
    {
     "name": "stderr",
     "output_type": "stream",
     "text": [
      "100%|██████████| 731/731 [00:26<00:00, 28.11it/s]\n"
     ]
    }
   ],
   "source": [
    "for variable in variables :\n",
    "    print(\"converting\",variable)\n",
    "    extraction_path = '../data/1_extraction/'+selected_area+'_'+variable[0]+'_'+variable[1]+'/'\n",
    "    nc_files = os.listdir(extraction_path)\n",
    "    conversion_path = '../data/2_conversion/'+selected_area+'_'+variable[0]+'_'+variable[1]+'/'\n",
    "\n",
    "    if not os.path.exists(conversion_path):\n",
    "        os.makedirs(conversion_path)\n",
    "\n",
    "    for nc_file in tqdm(nc_files) :\n",
    "        # d'après https://help.marine.copernicus.eu/en/articles/5029956-how-to-convert-netcdf-to-geotiff\n",
    "        nc_file_content = xr.open_dataset(os.path.join(extraction_path, nc_file))\n",
    "        xarray_variable_name = list(nc_file_content.keys())[0]\n",
    "        bT = nc_file_content[xarray_variable_name]\n",
    "        bT = bT.rio.set_spatial_dims(x_dim='lon', y_dim='lat')\n",
    "        bT.rio.crs\n",
    "        bT.rio.write_crs(\"epsg:4326\", inplace=True)\n",
    "\n",
    "        filename = variable[0]+\"_\"+variable[1]+\"_\"+pd.to_datetime(nc_file_content.time.values[0]).strftime('%Y')+pd.to_datetime(nc_file_content.time.values[0]).strftime('%m')+pd.to_datetime(nc_file_content.time.values[0]).strftime('%d')+\".tif\"\n",
    "        bT.rio.to_raster(os.path.join(conversion_path, filename))"
   ]
  },
  {
   "cell_type": "markdown",
   "metadata": {},
   "source": [
    "# ET0 calculation"
   ]
  },
  {
   "cell_type": "markdown",
   "metadata": {},
   "source": [
    "Variables necessary for Penman-Monteith calculation : DAY, LAT, ELEV, TMIN, TMAX, IRRAD, VAP, WIND (see https://github.com/ajwdewit/pcse/blob/14a6229e4374dcde0c672d1df637cffb324a79a2/pcse/util.py)\n",
    "\n",
    "On peut utiliser # https://api.open-elevation.com/api/v1/lookup?locations=41.161758,-8.583933 pour récupérer l'altitude"
   ]
  },
  {
   "cell_type": "code",
   "execution_count": 5,
   "metadata": {},
   "outputs": [],
   "source": [
    "# tmin\n",
    "variable = variables[0]\n",
    "conversion_path_tmin = '../data/2_conversion/'+selected_area+'_'+variable[0]+'_'+variable[1]+'/'\n",
    "list_files_tmin = os.listdir(conversion_path_tmin)\n",
    "\n",
    "# tmax\n",
    "variable = variables[1]\n",
    "conversion_path_tmax = '../data/2_conversion/'+selected_area+'_'+variable[0]+'_'+variable[1]+'/'\n",
    "list_files_tmax = os.listdir(conversion_path_tmax)\n",
    "\n",
    "# irrad\n",
    "variable = variables[2]\n",
    "conversion_path_irrad = '../data/2_conversion/'+selected_area+'_'+variable[0]+'_'+variable[1]+'/'\n",
    "list_files_irrad = os.listdir(conversion_path_irrad)\n",
    "\n",
    "# vapour pressure\n",
    "variable = variables[3]\n",
    "conversion_path_vp = '../data/2_conversion/'+selected_area+'_'+variable[0]+'_'+variable[1]+'/'\n",
    "list_files_vp = os.listdir(conversion_path_vp)\n",
    "\n",
    "# wind\n",
    "variable = variables[4]\n",
    "conversion_path_wind = '../data/2_conversion/'+selected_area+'_'+variable[0]+'_'+variable[1]+'/'\n",
    "list_files_wind = os.listdir(conversion_path_wind)\n",
    "\n",
    "# tmean\n",
    "variable = variables[5]\n",
    "conversion_path_tmean = '../data/2_conversion/'+selected_area+'_'+variable[0]+'_'+variable[1]+'/'\n",
    "list_files_tmean = os.listdir(conversion_path_tmean)"
   ]
  },
  {
   "cell_type": "code",
   "execution_count": 6,
   "metadata": {},
   "outputs": [
    {
     "data": {
      "text/plain": [
       "True"
      ]
     },
     "execution_count": 6,
     "metadata": {},
     "output_type": "execute_result"
    }
   ],
   "source": [
    "# testing if all folders have the same number of files\n",
    "len(list_files_tmin) == len(list_files_tmax) == len(list_files_irrad) == len(list_files_vp) == len(list_files_wind) == len(list_files_tmean)"
   ]
  },
  {
   "cell_type": "code",
   "execution_count": 27,
   "metadata": {},
   "outputs": [
    {
     "name": "stderr",
     "output_type": "stream",
     "text": [
      "100%|██████████| 731/731 [00:31<00:00, 23.24it/s]\n"
     ]
    }
   ],
   "source": [
    "import rasterio\n",
    "from rasterio.plot import show\n",
    "from tqdm import tqdm\n",
    "\n",
    "for i in tqdm(range(len(list_files_irrad))):\n",
    "\n",
    "    ## on charge les arrays\n",
    "\n",
    "    img_tmin = rasterio.open(os.path.join(conversion_path_tmin,list_files_tmin[i]))\n",
    "    arr_tmin = img_tmin.read()\n",
    "    arr_tmin = arr_tmin - 273.15\n",
    "\n",
    "    img_tmax = rasterio.open(os.path.join(conversion_path_tmax,list_files_tmax[i]))\n",
    "    arr_tmax = img_tmax.read()\n",
    "    arr_tmax = arr_tmax - 273.15\n",
    "\n",
    "    # J/m²/d\n",
    "    img_irrad = rasterio.open(os.path.join(conversion_path_irrad,list_files_irrad[i]))\n",
    "    arr_irrad = img_irrad.read()\n",
    "    # pcse needs J/m²/d, no conversion needed\n",
    "\n",
    "    # hPa\n",
    "    img_vp = rasterio.open(os.path.join(conversion_path_vp,list_files_vp[i]))\n",
    "    arr_vp = img_vp.read()\n",
    "    # pcse needs hPa, no conversion needed\n",
    "\n",
    "    # m/s\n",
    "    img_wind = rasterio.open(os.path.join(conversion_path_wind,list_files_wind[i]))\n",
    "    arr_wind = img_wind.read()\n",
    "    # pcse needs m/s, no conversion needed\n",
    "\n",
    "    img_tmean = rasterio.open(os.path.join(conversion_path_tmean,list_files_tmean[i]))\n",
    "    arr_tmean = img_tmean.read()\n",
    "    # pcse needs m/s, no conversion needed\n",
    "\n",
    "    ## on calcule le ET0\n",
    "\n",
    "    # \"When solar radiation data, relative humidity data and/or wind speed data are missing,\n",
    "    # ETo can be estimated using the Hargreaves ETo equation\" in FAO 56\n",
    "\n",
    "    coeff = 0.0023\n",
    "    arr_ET0 = coeff * (arr_tmean + 17.8) * 0.408 * arr_irrad/1E6 * (abs(arr_tmax - arr_tmin))**0.5\n",
    "\n",
    "    ## on sauvegarde les geotiffs\n",
    "\n",
    "    geotiff_path = '../data/3_calculation/'+selected_area+\"_ET0Hargeaves/\"\n",
    "\n",
    "    if not os.path.exists(geotiff_path):\n",
    "        os.makedirs(geotiff_path)\n",
    "    \n",
    "    # on utilise tmean pour récupérer la date dans le nom de fichier, le crs et le transform\n",
    "    new_dataset = rasterio.open(\n",
    "        geotiff_path+\"ET0Hargreaves_\"+list_files_tmean[i].split(\"_\")[-1],\n",
    "        'w',\n",
    "        driver='GTiff',\n",
    "        height=arr_ET0.shape[1],\n",
    "        width=arr_ET0.shape[2],\n",
    "        count=1,\n",
    "        dtype=arr_ET0.dtype,\n",
    "        crs=img_tmean.crs,\n",
    "        transform=img_tmean.transform,\n",
    "    )\n",
    "\n",
    "    new_dataset.write(arr_ET0[0,:,:], 1)"
   ]
  },
  {
   "cell_type": "code",
   "execution_count": 28,
   "metadata": {},
   "outputs": [
    {
     "data": {
      "text/plain": [
       "array([[[19522968., 19554294., 19563330., ..., 19624612., 19586306.,\n",
       "         19601130.],\n",
       "        [19555484., 19573618., 19615026., ..., 19752968., 19657696.,\n",
       "         19651880.],\n",
       "        [19580888., 19556668., 19587276., ..., 19905318., 19856946.,\n",
       "         19833992.],\n",
       "        ...,\n",
       "        [19535998., 19562304., 19584078., ..., 20852438., 20827058.,\n",
       "         20811714.],\n",
       "        [19257098., 19309784., 19621864., ..., 21048174., 20980698.,\n",
       "         20939598.],\n",
       "        [19231072., 19246322., 19561784., ..., 20910320., 20861372.,\n",
       "         20807116.]]], dtype=float32)"
      ]
     },
     "execution_count": 28,
     "metadata": {},
     "output_type": "execute_result"
    }
   ],
   "source": [
    "arr_irrad"
   ]
  },
  {
   "cell_type": "code",
   "execution_count": null,
   "metadata": {},
   "outputs": [],
   "source": []
  }
 ],
 "metadata": {
  "kernelspec": {
   "display_name": "Python 3.9.6 64-bit ('venv_sarra_data_download')",
   "language": "python",
   "name": "python3"
  },
  "language_info": {
   "codemirror_mode": {
    "name": "ipython",
    "version": 3
   },
   "file_extension": ".py",
   "mimetype": "text/x-python",
   "name": "python",
   "nbconvert_exporter": "python",
   "pygments_lexer": "ipython3",
   "version": "3.9.6"
  },
  "orig_nbformat": 4,
  "vscode": {
   "interpreter": {
    "hash": "a619a3e580409126cc44b05b414d75e5414ec3ffa31020c3aba01dc643503166"
   }
  }
 },
 "nbformat": 4,
 "nbformat_minor": 2
}
