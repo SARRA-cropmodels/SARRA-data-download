{
 "cells": [
  {
   "cell_type": "code",
   "execution_count": 8,
   "metadata": {},
   "outputs": [],
   "source": [
    "import requests\n",
    "import datetime\n",
    "from datetime import datetime as dt\n",
    "import time\n",
    "from bs4 import BeautifulSoup"
   ]
  },
  {
   "cell_type": "code",
   "execution_count": 5,
   "metadata": {},
   "outputs": [],
   "source": [
    "points = {\n",
    "    \"Antsahamamy\":[-18.92, 47.56],\n",
    "    \"Ambohimiarina\":[-18.83, 47.13],\n",
    "    \"Ambohitsilaozana\":[-17.70, 48.47],\n",
    "    \"Ambongabe\":[-18.53, 48.03],\n",
    "    \"Ampitatsimo\":[-17.81, 48.38],\n",
    "}\n",
    "\n",
    "contact_email = \"jeremy.lavarenne@cirad.fr\"\n",
    "TAMSAT_batch_ref = \"tamsat_subset_707\"\n",
    "date_start = datetime.datetime(2020,1,1,0,0)\n",
    "date_end = datetime.datetime(2021,1,1,0,0)"
   ]
  },
  {
   "cell_type": "code",
   "execution_count": 6,
   "metadata": {},
   "outputs": [
    {
     "name": "stdout",
     "output_type": "stream",
     "text": [
      "point Antsahamamy\n",
      "HTTP response OK\n",
      "waiting 10s before passing next request...\n",
      "point Ambohimiarina\n",
      "HTTP response OK\n",
      "waiting 10s before passing next request...\n",
      "point Ambohitsilaozana\n",
      "HTTP response OK\n",
      "waiting 10s before passing next request...\n",
      "point Ambongabe\n",
      "HTTP response OK\n",
      "waiting 10s before passing next request...\n",
      "point Ampitatsimo\n",
      "HTTP response OK\n",
      "waiting 10s before passing next request...\n"
     ]
    }
   ],
   "source": [
    "# pass all requests\n",
    "url = 'http://www.tamsat.org.uk/data-subset/data'\n",
    "\n",
    "\n",
    "for point in points :\n",
    "\n",
    "\tprint(\"point\",point)\n",
    "\n",
    "\tparams={\n",
    "\t\t\"dataset\": \"01-tamsatDaily.v3.1\",\n",
    "\t\t\"datatype\": \"point\",\n",
    "\t\t\"lat\": str(points[point][0]),\n",
    "\t\t\"lon\": str(points[point][1]),\n",
    "\t\t\"zone\": \"BOUNDS\",\n",
    "\t\t\"maxLat\": \"10\",\n",
    "\t\t\"minLon\": \"-10\",\n",
    "\t\t\"maxLon\": \"10\",\n",
    "\t\t\"minLat\": \"-10\",\n",
    "\t\t\"starttime\": date_start.isoformat()+(\"Z\"),\n",
    "\t\t\"endtime\": date_end.isoformat()+(\"Z\"),\n",
    "\t\t\"email\": contact_email,\n",
    "\t\t\"ref\": TAMSAT_batch_ref,\n",
    "\t}\n",
    "\n",
    "\t# passing request\n",
    "\tresponse = requests.request(\"POST\", url, data=params)\n",
    "\n",
    "\tif response.status_code == 200:\n",
    "\t\tprint(\"HTTP response OK\")\n",
    "\telse :\n",
    "\t\tprint(\"HTTP response not OK\")\n",
    "\n",
    "\t# # if request not OK, waiting and retrying\n",
    "\t# retries = 0\n",
    "\t# max_retries = 5\n",
    "\n",
    "\t# while response.status_code != 200 :\n",
    "\t# \tretries = retries + 1\n",
    "\t# \tprint('request not OK, waiting 30s and retrying (',retries,\"/\",max_retries)\n",
    "\t# \ttime.sleep(30)\n",
    "\t# \tprint(\"retrying...\")\n",
    "\t# \tresponse = requests.request(\"GET\", url, data=params)\n",
    "\t# \tif retries == max_retries :\n",
    "\t# \t\tprint(\"max retries reached. breaking for point\",point)\n",
    "\t# \t\tbreak\n",
    "\n",
    "\tprint(\"waiting 10s before passing next request...\")\n",
    "\ttime.sleep(10)"
   ]
  },
  {
   "cell_type": "code",
   "execution_count": 9,
   "metadata": {},
   "outputs": [
    {
     "name": "stdout",
     "output_type": "stream",
     "text": [
      "Waiting for data to be ready before download ( 5 / 5 ). Refreshing in 60s...\n"
     ]
    }
   ],
   "source": [
    "# retrieving links to files\n",
    "base_url = \"http://www.tamsat.org.uk/data-subset/\"\n",
    "urls = 'http://www.tamsat.org.uk/data-subset/data?email='+contact_email+'&ref='+TAMSAT_batch_ref\n",
    "links = []\n",
    "\n",
    "while len(links) != len(points)+1 :\n",
    "   grab = requests.get(urls)\n",
    "   soup = BeautifulSoup(grab.text, 'html.parser')\n",
    "\n",
    "   # traverse paragraphs from soup\n",
    "   links = []\n",
    "\n",
    "   for link in soup.find_all(\"a\"):\n",
    "      data = link.get('href')\n",
    "      links = links + [data]\n",
    "\n",
    "   print(\"Waiting for data to be ready before download (\",len(links)-1,\"/\",len(points),\"). Refreshing in 60s...\")\n",
    "   time.sleep(60)\n"
   ]
  },
  {
   "cell_type": "code",
   "execution_count": 22,
   "metadata": {},
   "outputs": [],
   "source": [
    "save_path = \"../data/3_output/\"\n",
    "\n",
    "for i in range(len(points)):\n",
    "    link = links[i]\n",
    "    URL = base_url+\"data/\"+link\n",
    "    response = requests.get(URL)\n",
    "    save_filename = \"TAMSAT_\"+list(points.keys())[i]+\"_\"+''.join(links[i].split(\"-\")[1:-1])\n",
    "    open(os.path.join(save_path,save_filename), \"wb\").write(response.content)"
   ]
  }
 ],
 "metadata": {
  "kernelspec": {
   "display_name": "Python 3.9.6 64-bit ('venv_sarra_data_download')",
   "language": "python",
   "name": "python3"
  },
  "language_info": {
   "codemirror_mode": {
    "name": "ipython",
    "version": 3
   },
   "file_extension": ".py",
   "mimetype": "text/x-python",
   "name": "python",
   "nbconvert_exporter": "python",
   "pygments_lexer": "ipython3",
   "version": "3.9.6"
  },
  "orig_nbformat": 4,
  "vscode": {
   "interpreter": {
    "hash": "a619a3e580409126cc44b05b414d75e5414ec3ffa31020c3aba01dc643503166"
   }
  }
 },
 "nbformat": 4,
 "nbformat_minor": 2
}
